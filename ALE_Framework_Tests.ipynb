{
  "nbformat": 4,
  "nbformat_minor": 0,
  "metadata": {
    "colab": {
      "name": "ALE Framework Tests",
      "provenance": [],
      "include_colab_link": true
    },
    "kernelspec": {
      "display_name": "Python 3 (ipykernel)",
      "language": "python",
      "name": "python3"
    },
    "language_info": {
      "codemirror_mode": {
        "name": "ipython",
        "version": 3
      },
      "file_extension": ".py",
      "mimetype": "text/x-python",
      "name": "python",
      "nbconvert_exporter": "python",
      "pygments_lexer": "ipython3",
      "version": "3.9.8"
    }
  },
  "cells": [
    {
      "cell_type": "markdown",
      "metadata": {
        "id": "view-in-github",
        "colab_type": "text"
      },
      "source": [
        "<a href=\"https://colab.research.google.com/github/Tinynja/Sarsa-phi-EB/blob/main/ALE_Framework_Tests.ipynb\" target=\"_parent\"><img src=\"https://colab.research.google.com/assets/colab-badge.svg\" alt=\"Open In Colab\"/></a>"
      ]
    },
    {
      "cell_type": "code",
      "metadata": {
        "id": "3z3aqLItDvig",
        "colab": {
          "base_uri": "https://localhost:8080/"
        },
        "outputId": "3ae0bec8-bd5f-4ba6-f479-6edd9175d302"
      },
      "source": [
        "import sys\n",
        "\n",
        "if 'google.colab' in sys.modules:\n",
        "    !rm -rf *\n",
        "    !git clone https://github.com/Tinynja/Sarsa-phi-EB\n",
        "    !mv Sarsa-phi-EB/* .\n",
        "    !rm -rf Sarsa-phi-EB\n",
        "    # DON'T install packages defined in Pipfile_colab_remove\n",
        "    !sed -ri \"/$(tr '\\n' '|' < Pipfile_colab_remove)/d\" Pipfile\n",
        "else:\n",
        "    print('Skipping GitHub cloning since not running in Colab.')"
      ],
      "execution_count": 1,
      "outputs": [
        {
          "output_type": "stream",
          "name": "stdout",
          "text": [
            "Cloning into 'Sarsa-phi-EB'...\n",
            "remote: Enumerating objects: 184, done.\u001b[K\n",
            "remote: Counting objects: 100% (184/184), done.\u001b[K\n",
            "remote: Compressing objects: 100% (158/158), done.\u001b[K\n",
            "remote: Total 184 (delta 35), reused 148 (delta 17), pack-reused 0\u001b[K\n",
            "Receiving objects: 100% (184/184), 540.49 KiB | 1.54 MiB/s, done.\n",
            "Resolving deltas: 100% (35/35), done.\n"
          ]
        }
      ]
    },
    {
      "cell_type": "code",
      "metadata": {
        "id": "ZdficWqDDviq",
        "colab": {
          "base_uri": "https://localhost:8080/"
        },
        "outputId": "ca18fc7b-b1e8-4c00-aa9c-69a4157a925f"
      },
      "source": [
        "# Install required dependencies\n",
        "if 'google.colab' in sys.modules:\n",
        "    # Colab doesn't support pipenv, hence we convert Pipfile into requirements.txt\n",
        "    !pip install pipenv 1> /dev/null\n",
        "    !pipenv lock -r > requirements.txt\n",
        "    !pip install -r requirements.txt 1> /dev/null\n",
        "else:\n",
        "    !pipenv lock 1> /dev/null\n",
        "    !pipenv install --deploy 1> /dev/null"
      ],
      "execution_count": 2,
      "outputs": [
        {
          "output_type": "stream",
          "name": "stdout",
          "text": [
            "Pipfile.lock not found, creating...\n",
            "Locking [dev-packages] dependencies...\n",
            "Locking [packages] dependencies...\n",
            "\u001b[?25l\r⠋\u001b[0m Locking...\u001b[K\r\u001b[KBuilding requirements...\n",
            "\u001b[KResolving dependencies...\n",
            "\u001b[K\u001b[?25h\u001b[32m\u001b[22m✔ Success!\u001b[39m\u001b[22m\u001b[0m \n",
            "Updated Pipfile.lock (44ce9b)!\n"
          ]
        }
      ]
    },
    {
      "cell_type": "code",
      "metadata": {
        "scrolled": true,
        "id": "_YFCigY7Dvis",
        "colab": {
          "base_uri": "https://localhost:8080/"
        },
        "outputId": "e1472fe4-d3bb-4dc9-c20a-0919f28c9b6c"
      },
      "source": [
        "# Import all supported ROMs into ALE\n",
        "!ale-import-roms ROMS"
      ],
      "execution_count": 3,
      "outputs": [
        {
          "output_type": "stream",
          "name": "stdout",
          "text": [
            "\u001b[92m[SUPPORTED]    \u001b[0m                qbert        ROMS/Q. Bert (1983).bin\n",
            "\u001b[92m[SUPPORTED]    \u001b[0m               casino ROMS/Casino - Poker Plus (Paddle) (1979).bin\n",
            "\u001b[92m[SUPPORTED]    \u001b[0m         demon_attack ROMS/Demon Attack (Death from Above) (1982).bin\n",
            "\u001b[92m[SUPPORTED]    \u001b[0m              bowling        ROMS/Bowling (1979).bin\n",
            "\u001b[92m[SUPPORTED]    \u001b[0m             seaquest       ROMS/Seaquest (1983).bin\n",
            "\u001b[92m[SUPPORTED]    \u001b[0m      chopper_command ROMS/Chopper Command (1982).bin\n",
            "\u001b[92m[SUPPORTED]    \u001b[0m           time_pilot     ROMS/Time Pilot (1983).bin\n",
            "\u001b[92m[SUPPORTED]    \u001b[0m             trondead ROMS/TRON - Deadly Discs (TRON Joystick) (1983).bin\n",
            "\u001b[92m[SUPPORTED]    \u001b[0m            jamesbond ROMS/James Bond 007 (James Bond Agent 007) (1984).bin\n",
            "\u001b[92m[SUPPORTED]    \u001b[0m               pacman        ROMS/Pac-Man (1982).bin\n",
            "\u001b[92m[SUPPORTED]    \u001b[0m               kaboom ROMS/Kaboom! (Paddle) (1981).bin\n",
            "\u001b[92m[SUPPORTED]    \u001b[0m              asterix ROMS/Asterix (AKA Taz) (1983).bin\n",
            "\u001b[92m[SUPPORTED]    \u001b[0m                qbert         ROMS/Q-bert (1987).bin\n",
            "\u001b[92m[SUPPORTED]    \u001b[0m              pitfall ROMS/Pitfall! - Pitfall Harry's Jungle Adventure (Jungle Runner) (1982).bin\n",
            "\u001b[92m[SUPPORTED]    \u001b[0m              venture        ROMS/Venture (1982).bin\n",
            "\u001b[92m[SUPPORTED]    \u001b[0m               enduro         ROMS/Enduro (1983).bin\n",
            "\u001b[92m[SUPPORTED]    \u001b[0m                alien          ROMS/Alien (1982).bin\n",
            "\u001b[92m[SUPPORTED]    \u001b[0m             atlantis ROMS/Atlantis (Lost City of Atlantis) (1982).bin\n",
            "\u001b[92m[SUPPORTED]    \u001b[0m           basic_math ROMS/Basic Math - Math (Math Pack) (1977).bin\n",
            "\u001b[92m[SUPPORTED]    \u001b[0m                   et ROMS/E.T. - The Extra-Terrestrial (1982).bin\n",
            "\u001b[92m[SUPPORTED]    \u001b[0m         lost_luggage ROMS/Lost Luggage (Airport Mayhem) (1982).bin\n",
            "\u001b[92m[SUPPORTED]    \u001b[0m               boxing ROMS/Boxing - La Boxe (1980).bin\n",
            "\u001b[92m[SUPPORTED]    \u001b[0m             gravitar       ROMS/Gravitar (1983).bin\n",
            "\u001b[92m[SUPPORTED]    \u001b[0m     human_cannonball ROMS/Human Cannonball - Cannon Man (1979).bin\n",
            "\u001b[92m[SUPPORTED]    \u001b[0m           beam_rider      ROMS/Beamrider (1984).bin\n",
            "\u001b[92m[SUPPORTED]    \u001b[0m               gopher ROMS/Gopher (Gopher Attack) (1982).bin\n",
            "\u001b[92m[SUPPORTED]    \u001b[0m              asterix ROMS/Asterix (AKA Taz) (1984).bin\n",
            "\u001b[92m[SUPPORTED]    \u001b[0m       name_this_game ROMS/Name This Game (Guardians of Treasure) (1983).bin\n",
            "\u001b[92m[SUPPORTED]    \u001b[0m                krull          ROMS/Krull (1983).bin\n",
            "\u001b[92m[SUPPORTED]    \u001b[0m            videocube ROMS/Atari Video Cube (Atari Cube, Video Cube) (1983).bin\n",
            "\u001b[92m[SUPPORTED]    \u001b[0m            tutankham      ROMS/Tutankham (1983).bin\n",
            "\u001b[92m[SUPPORTED]    \u001b[0m       space_invaders ROMS/Space Invaders (1980).bin\n",
            "\u001b[92m[SUPPORTED]    \u001b[0m         sir_lancelot   ROMS/Sir Lancelot (1983).bin\n",
            "\u001b[92m[SUPPORTED]    \u001b[0m             robotank ROMS/Robot Tank (Robotank) (1983).bin\n",
            "\u001b[92m[SUPPORTED]    \u001b[0m             kangaroo       ROMS/Kangaroo (1983).bin\n",
            "\u001b[92m[SUPPORTED]    \u001b[0m       tic_tac_toe_3d ROMS/3-D Tic-Tac-Toe (1980).bin\n",
            "\u001b[92m[SUPPORTED]    \u001b[0m            centipede      ROMS/Centipede (1983).bin\n",
            "\u001b[92m[SUPPORTED]    \u001b[0m      elevator_action ROMS/Elevator Action (1983).bin\n",
            "\u001b[92m[SUPPORTED]    \u001b[0m               tennis ROMS/Tennis - Le Tennis (1981).bin\n",
            "\u001b[92m[SUPPORTED]    \u001b[0m        wizard_of_wor  ROMS/Wizard of Wor (1982).bin\n",
            "\u001b[92m[SUPPORTED]    \u001b[0m            atlantis2    ROMS/Atlantis II (1982).bin\n",
            "\u001b[92m[SUPPORTED]    \u001b[0m           ice_hockey ROMS/Ice Hockey - Le Hockey Sur Glace (1981).bin\n",
            "\u001b[92m[SUPPORTED]    \u001b[0m             surround ROMS/Surround - Chase (Blockade) (1977).bin\n",
            "\u001b[92m[SUPPORTED]    \u001b[0m      keystone_kapers ROMS/Keystone Kapers - Raueber und Gendarm (1983).bin\n",
            "\u001b[92m[SUPPORTED]    \u001b[0m             carnival       ROMS/Carnival (1982).bin\n",
            "\u001b[92m[SUPPORTED]    \u001b[0m              phoenix        ROMS/Phoenix (1983).bin\n",
            "\u001b[92m[SUPPORTED]    \u001b[0m           basic_math ROMS/Fun with Numbers (AKA Basic Math) (1980).bin\n",
            "\u001b[92m[SUPPORTED]    \u001b[0m               skiing ROMS/Skiing - Le Ski (1980).bin\n",
            "\u001b[92m[SUPPORTED]    \u001b[0m              frogger        ROMS/Frogger (1982).bin\n",
            "\u001b[92m[SUPPORTED]    \u001b[0m              assault ROMS/Assault (AKA Sky Alien) (1983).bin\n",
            "\u001b[92m[SUPPORTED]    \u001b[0m         yars_revenge ROMS/Yars' Revenge (Time Freeze) (1982).bin\n",
            "\u001b[92m[SUPPORTED]    \u001b[0m          double_dunk ROMS/Double Dunk (Super Basketball) (1989).bin\n",
            "\u001b[92m[SUPPORTED]    \u001b[0m             defender       ROMS/Defender (1982).bin\n",
            "\u001b[92m[SUPPORTED]    \u001b[0m             entombed ROMS/Entombed (Maze Chase, Pharaoh's Tomb, Zombie) (1983).bin\n",
            "\u001b[92m[SUPPORTED]    \u001b[0m                qbert         ROMS/Q-bert (1983).bin\n",
            "\u001b[92m[SUPPORTED]    \u001b[0m              koolaid ROMS/Kool-Aid Man (Kool Aid Pitcher Man) (1983).bin\n",
            "\u001b[92m[SUPPORTED]    \u001b[0m       kung_fu_master ROMS/Kung-Fu Master (1987).bin\n",
            "\u001b[92m[SUPPORTED]    \u001b[0m            space_war ROMS/Space War - Space Star (32 in 1) (1988).bin\n",
            "\u001b[92m[SUPPORTED]    \u001b[0m         darkchambers ROMS/Dark Chambers (Dungeon, Dungeon Masters) (1989).bin\n",
            "\u001b[92m[SUPPORTED]    \u001b[0m       miniature_golf ROMS/Miniature Golf - Arcade Golf (1979).bin\n",
            "\u001b[92m[SUPPORTED]    \u001b[0m              turmoil        ROMS/Turmoil (1982).bin\n",
            "\u001b[92m[SUPPORTED]    \u001b[0m                 pong ROMS/Video Olympics - Pong Sports (Paddle) (1977).bin\n",
            "\u001b[92m[SUPPORTED]    \u001b[0m             galaxian       ROMS/Galaxian (1983).bin\n",
            "\u001b[92m[SUPPORTED]    \u001b[0m        fishing_derby  ROMS/Fishing Derby (1980).bin\n",
            "\u001b[92m[SUPPORTED]    \u001b[0m          donkey_kong    ROMS/Donkey Kong (1982).bin\n",
            "\u001b[92m[SUPPORTED]    \u001b[0m            frostbite      ROMS/Frostbite (1983).bin\n",
            "\u001b[92m[SUPPORTED]    \u001b[0m           backgammon ROMS/Backgammon (Paddle) (1979).bin\n",
            "\u001b[92m[SUPPORTED]    \u001b[0m            king_kong      ROMS/King Kong (1982).bin\n",
            "\u001b[92m[SUPPORTED]    \u001b[0m          road_runner    ROMS/Road Runner (1989).bin\n",
            "\u001b[92m[SUPPORTED]    \u001b[0m              othello        ROMS/Othello (1981).bin\n",
            "\u001b[92m[SUPPORTED]    \u001b[0m          donkey_kong    ROMS/Donkey Kong (1987).bin\n",
            "\u001b[92m[SUPPORTED]    \u001b[0m           videochess ROMS/Video Chess (Computer Chess) (1979).bin\n",
            "\u001b[92m[SUPPORTED]    \u001b[0m              solaris ROMS/Solaris (The Last Starfighter, Star Raiders II, Universe) (1986).bin\n",
            "\u001b[92m[SUPPORTED]    \u001b[0m              hangman ROMS/Hangman - Spelling (1978).bin\n",
            "\u001b[92m[SUPPORTED]    \u001b[0m             crossbow       ROMS/Crossbow (1988).bin\n",
            "\u001b[92m[SUPPORTED]    \u001b[0m       journey_escape ROMS/Journey Escape (1983).bin\n",
            "\u001b[92m[SUPPORTED]    \u001b[0m        video_pinball ROMS/Video Pinball - Arcade Pinball (1981).bin\n",
            "\u001b[92m[SUPPORTED]    \u001b[0m    montezuma_revenge ROMS/Montezuma's Revenge - Featuring Panama Joe (1984).bin\n",
            "\u001b[92m[SUPPORTED]    \u001b[0m           mario_bros    ROMS/Mario Bros. (1983).bin\n",
            "\u001b[92m[SUPPORTED]    \u001b[0m                 klax           ROMS/Klax (1991).bin\n",
            "\u001b[92m[SUPPORTED]    \u001b[0m             breakout ROMS/Breakout - Breakaway IV (Paddle) (1978).bin\n",
            "\u001b[92m[SUPPORTED]    \u001b[0m            blackjack ROMS/Blackjack - Black Jack (Gambling) (Paddle) (1977).bin\n",
            "\u001b[92m[SUPPORTED]    \u001b[0m         flag_capture ROMS/Flag Capture - Capture (Capture the Flag) (1978).bin\n",
            "\u001b[92m[SUPPORTED]    \u001b[0m             air_raid ROMS/Air Raid (Men-A-Vision) (PAL) ~.bin\n",
            "\u001b[92m[SUPPORTED]    \u001b[0m           earthworld ROMS/SwordQuest - EarthWorld (Adventure I, SwordQuest I - EarthWorld) (1982).bin\n",
            "\u001b[92m[SUPPORTED]    \u001b[0m            riverraid     ROMS/River Raid (1982).bin\n",
            "\u001b[92m[SUPPORTED]    \u001b[0m             pitfall2 ROMS/Pitfall II - Lost Caverns (1984).bin\n",
            "\u001b[92m[SUPPORTED]    \u001b[0m               pooyan         ROMS/Pooyan (1983).bin\n",
            "\u001b[92m[SUPPORTED]    \u001b[0m               amidar         ROMS/Amidar (1982).bin\n",
            "\u001b[92m[SUPPORTED]    \u001b[0m            asteroids      ROMS/Asteroids (1981).bin\n",
            "\u001b[92m[SUPPORTED]    \u001b[0m          battle_zone     ROMS/Battlezone (1983).bin\n",
            "\u001b[92m[SUPPORTED]    \u001b[0m             surround ROMS/Surround (32 in 1) (Bit Corporation) (R320).bin\n",
            "\u001b[92m[SUPPORTED]    \u001b[0m          private_eye    ROMS/Private Eye (1984).bin\n",
            "\u001b[92m[SUPPORTED]    \u001b[0m        crazy_climber  ROMS/Crazy Climber (1983).bin\n",
            "\u001b[92m[SUPPORTED]    \u001b[0m          star_gunner     ROMS/Stargunner (1983).bin\n",
            "\u001b[92m[SUPPORTED]    \u001b[0m            up_n_down     ROMS/Up 'n Down (1984).bin\n",
            "\u001b[92m[SUPPORTED]    \u001b[0m          laser_gates ROMS/Laser Gates (AKA Innerspace) (1983).bin\n",
            "\u001b[92m[SUPPORTED]    \u001b[0m        video_pinball ROMS/Pinball (AKA Video Pinball) (Zellers).bin\n",
            "\u001b[92m[SUPPORTED]    \u001b[0m               zaxxon         ROMS/Zaxxon (1983).bin\n",
            "\u001b[92m[SUPPORTED]    \u001b[0m       video_checkers ROMS/Video Checkers - Checkers - Atari Video Checkers (1980).bin\n",
            "\u001b[92m[SUPPORTED]    \u001b[0m             superman       ROMS/Superman (1979).bin\n",
            "\u001b[92m[SUPPORTED]    \u001b[0m              berzerk        ROMS/Berzerk (1982).bin\n",
            "\u001b[92m[SUPPORTED]    \u001b[0m            adventure      ROMS/Adventure (1980).bin\n",
            "\u001b[92m[SUPPORTED]    \u001b[0m            ms_pacman    ROMS/Ms. Pac-Man (1983).bin\n",
            "\u001b[92m[SUPPORTED]    \u001b[0m        haunted_house ROMS/Haunted House (Mystery Mansion, Graves' Manor, Nightmare Manor) (1982).bin\n",
            "\u001b[92m[SUPPORTED]    \u001b[0m           bank_heist ROMS/Bank Heist (Bonnie & Clyde, Cops 'n' Robbers, Hold-Up, Roaring 20's) (1983).bin\n",
            "\u001b[92m[SUPPORTED]    \u001b[0m              freeway        ROMS/Freeway (1981).bin\n",
            "\u001b[92m[SUPPORTED]    \u001b[0m                 hero       ROMS/H.E.R.O. (1984).bin\n",
            "\u001b[92m[SUPPORTED]    \u001b[0m                mr_do        ROMS/Mr. Do! (1983).bin\n",
            "\u001b[92m[SUPPORTED]    \u001b[0m          word_zapper ROMS/Word Zapper (Word Grabber) (1982).bin\n",
            "\n",
            "\n",
            "\n",
            "Imported 110 / 110 ROMs\n"
          ]
        }
      ]
    },
    {
      "cell_type": "code",
      "metadata": {
        "id": "yPWZT9W-OOum"
      },
      "source": [
        "# Utilities for visualizing a simulation\n",
        "import base64\n",
        "from IPython import display as ipythondisplay\n",
        "\n",
        "def show_video(filepath):\n",
        "    \"\"\"Show a .mp4 video in html format\n",
        "    \n",
        "    Example usage: show_video('record.mp4')\n",
        "    \"\"\"\n",
        "    mp4 = Path(filepath)\n",
        "    video_b64 = base64.b64encode(mp4.read_bytes())\n",
        "    html = '''<video alt=\"{}\" autoplay loop controls style=\"height: 400px;\">\n",
        "                <source src=\"data:video/mp4;base64,{}\" type=\"video/mp4\" />\n",
        "              </video>'''.format(mp4, video_b64.decode('ascii'))\n",
        "    ipythondisplay.display(ipythondisplay.HTML(data=html))\n",
        "\n",
        "def png_to_mp4(file_pattern, output):\n",
        "    \"\"\"Convert a set of png files into a mp4 video\n",
        "\n",
        "    Arguments:\n",
        "    file_pattern -- pattern matching the name of the input png\n",
        "    output -- output path of the mp4\n",
        "    \n",
        "    Example usage: png_to_mp4('record/step_%03d.png', 'record.mp4')\n",
        "    \"\"\"\n",
        "    input_full = Path(file_pattern).resolve()\n",
        "    input_directory = input_full.parent\n",
        "    input_pattern = input_full.name\n",
        "    output_full = Path(output).resolve()\n",
        "    !cd $input_directory; ffmpeg -hide_banner -loglevel error -r 60 -i $input_pattern -vcodec libx264 -crf 25 -pix_fmt yuv420p -y $output_full"
      ],
      "execution_count": 4,
      "outputs": []
    },
    {
      "cell_type": "code",
      "metadata": {
        "id": "_SfKRFx8Dvit",
        "outputId": "1dae22a5-9692-46aa-8d1f-58d0ece12e3f",
        "colab": {
          "base_uri": "https://localhost:8080/"
        }
      },
      "source": [
        "# Built-in libraries\n",
        "import sys\n",
        "import random\n",
        "from pathlib import Path\n",
        "\n",
        "# Pipy libraries\n",
        "from ale_py import ALEInterface, SDL_SUPPORT\n",
        "from ale_py.roms import Breakout"
      ],
      "execution_count": 5,
      "outputs": [
        {
          "output_type": "stream",
          "name": "stderr",
          "text": [
            "/usr/local/lib/python3.7/dist-packages/ale_py/roms/utils.py:90: DeprecationWarning: SelectableGroups dict interface is deprecated. Use select.\n",
            "  for external in metadata.entry_points().get(self.group, []):\n"
          ]
        }
      ]
    },
    {
      "cell_type": "code",
      "metadata": {
        "id": "BGWZkn54Dviu",
        "colab": {
          "base_uri": "https://localhost:8080/"
        },
        "outputId": "ff3b2dac-80bf-40fc-964f-c70245d41b16"
      },
      "source": [
        "# Setup\n",
        "ale = ALEInterface()\n",
        "ale.setInt(\"random_seed\", 0)\n",
        "\n",
        "if SDL_SUPPORT and 'google.colab' not in sys.modules:\n",
        "    ale.setBool(\"sound\", True)\n",
        "    ale.setBool(\"display_screen\", True)\n",
        "\n",
        "ale.loadROM(Breakout)\n",
        "legal_actions = ale.getLegalActionSet()\n",
        "print(legal_actions)\n",
        "\n",
        "# Export\n",
        "!rm record/*\n",
        "Path('record').mkdir(exist_ok=True)\n",
        "\n",
        "# Play 10 episodes\n",
        "for episode in range(1):\n",
        "    total_reward = 0\n",
        "    j = 0\n",
        "    while not ale.game_over():\n",
        "        ale.saveScreenPNG(f'record/step_{j:04d}.png')\n",
        "        #action = random.choice(legal_actions) #random policy\n",
        "        if j%3 == 0:\n",
        "          action = legal_actions[4]\n",
        "        elif j%3 == 1:\n",
        "          action = legal_actions[3]\n",
        "        else:\n",
        "          action = legal_actions[1]\n",
        "        # Apply an action and get the resulting reward\n",
        "        reward = ale.act(action)\n",
        "        total_reward += reward\n",
        "        j += 1\n",
        "    print(\"Episode %d ended with score: %d\" % (episode, total_reward))\n",
        "    ale.reset_game()"
      ],
      "execution_count": 20,
      "outputs": [
        {
          "output_type": "stream",
          "name": "stdout",
          "text": [
            "[<Action.NOOP: 0>, <Action.FIRE: 1>, <Action.UP: 2>, <Action.RIGHT: 3>, <Action.LEFT: 4>, <Action.DOWN: 5>, <Action.UPRIGHT: 6>, <Action.UPLEFT: 7>, <Action.DOWNRIGHT: 8>, <Action.DOWNLEFT: 9>, <Action.UPFIRE: 10>, <Action.RIGHTFIRE: 11>, <Action.LEFTFIRE: 12>, <Action.DOWNFIRE: 13>, <Action.UPRIGHTFIRE: 14>, <Action.UPLEFTFIRE: 15>, <Action.DOWNRIGHTFIRE: 16>, <Action.DOWNLEFTFIRE: 17>]\n",
            "Episode 0 ended with score: 2\n"
          ]
        }
      ]
    },
    {
      "cell_type": "code",
      "metadata": {
        "id": "CtO3jsi9Eepv",
        "colab": {
          "base_uri": "https://localhost:8080/",
          "height": 422
        },
        "outputId": "fb704481-27d7-4bfb-d96b-4ee7bce54a74"
      },
      "source": [
        "png_to_mp4('record/step_%04d.png', 'record.mp4')\n",
        "show_video('record.mp4')"
      ],
      "execution_count": 21,
      "outputs": [
        {
          "output_type": "display_data",
          "data": {
            "text/html": [
              "<video alt=\"record.mp4\" autoplay loop controls style=\"height: 400px;\">\n",
              "                <source src=\"data:video/mp4;base64,AAAAIGZ0eXBpc29tAAACAGlzb21pc28yYXZjMW1wNDEAAAAIZnJlZQAAYqxtZGF0AAACrgYF//+q3EXpvebZSLeWLNgg2SPu73gyNjQgLSBjb3JlIDE1MiByMjg1NCBlOWE1OTAzIC0gSC4yNjQvTVBFRy00IEFWQyBjb2RlYyAtIENvcHlsZWZ0IDIwMDMtMjAxNyAtIGh0dHA6Ly93d3cudmlkZW9sYW4ub3JnL3gyNjQuaHRtbCAtIG9wdGlvbnM6IGNhYmFjPTEgcmVmPTMgZGVibG9jaz0xOjA6MCBhbmFseXNlPTB4MzoweDExMyBtZT1oZXggc3VibWU9NyBwc3k9MSBwc3lfcmQ9MS4wMDowLjAwIG1peGVkX3JlZj0xIG1lX3JhbmdlPTE2IGNocm9tYV9tZT0xIHRyZWxsaXM9MSA4eDhkY3Q9MSBjcW09MCBkZWFkem9uZT0yMSwxMSBmYXN0X3Bza2lwPTEgY2hyb21hX3FwX29mZnNldD0tMiB0aHJlYWRzPTMgbG9va2FoZWFkX3RocmVhZHM9MSBzbGljZWRfdGhyZWFkcz0wIG5yPTAgZGVjaW1hdGU9MSBpbnRlcmxhY2VkPTAgYmx1cmF5X2NvbXBhdD0wIGNvbnN0cmFpbmVkX2ludHJhPTAgYmZyYW1lcz0zIGJfcHlyYW1pZD0yIGJfYWRhcHQ9MSBiX2JpYXM9MCBkaXJlY3Q9MSB3ZWlnaHRiPTEgb3Blbl9nb3A9MCB3ZWlnaHRwPTIga2V5aW50PTI1MCBrZXlpbnRfbWluPTI1IHNjZW5lY3V0PTQwIGludHJhX3JlZnJlc2g9MCByY19sb29rYWhlYWQ9NDAgcmM9Y3JmIG1idHJlZT0xIGNyZj0yNS4wIHFjb21wPTAuNjAgcXBtaW49MCBxcG1heD02OSBxcHN0ZXA9NCBpcF9yYXRpbz0xLjQwIGFxPTE6MS4wMACAAAAB/WWIhAAr//71J/gU1QhES+FrX0XGF0JVIBq/8cJ4VX/LdR7h9XfO3J5Qr/VayJEEITzkY/8vvtLmUqZAPQWcQKsfZnaQsnGIwf80/x/KjYugXKG6G6eZ+YIKXffd4wAS8S5AAUueddp5904E5aHZwfgj0wxz2PJhbFnZNmfZ5KftLlOKntaIrRz4j1vwGYqKc0grSuNV3S0Q0arTb/vidPObiGeSNVKOs7uywul91WrXofkeTLYJhkMYoMCIvKaiAGgABYMQcYYas5lIoAAAAwIU6wfeejy+giJHh4dAM8oSqHNfS8QNpm+UOdG/fgABRtfEUizOha3kOTUgubW+tWHNK8bsRFzLx9jK/QAarA/MBkoL3TrY8K+sIvVrltt+TJnAagAWQf+WJcLYNfhN49cyKvMut9wvnJ4NDkF+piNBrcZaXowQAAADAA8eh68IWHV9R7SjY0kOlc+xJUg3OKYFUnBhNnPN9Um8lB0vpyK6VTHB/hNbsSwhB44AV23DNo2lUx2Vqa2sdimWQkgWU/Z5CUIRPVMaY8JFpQia6FoPcvE0PbUBjb0ysgwG825a6lGICDwjzppG1hRedqyWo27FWN/KG2vl6cTBAD9BlWbTyRv3vWwM/vvtUDWgjP2pfeyiv3XzZNe7dpBzdCebUrH9EJPLJg8RSggw1TYhAAAAVkGaJGxCv/3hACCoGYAs+/o4iEby7b5d2jkqB0qVm6oFrxJeX7Vp5EMotRgb8Wt21QPpiV+wgPU4R0D1YGD9oV+XZ6/RiWzqjEeyUsO6ipAdDGhrq9mAAAAAHEGeQniEfwFqMHltzfRwgAAIg6pXbiSyb+JnCbkAAAAYAZ5hdEf/AcTxlUGbHtcgAAADAjjqlUMqAAAAFwGeY2pH/wBsI9wMvpTcQ0o7MsqRS4KBAAAAN0GaZUmoQWiZTAhX//3hAAfLf+bbACuJ+WxmkZBBDhUppBgJU1tBm3hAO8GIz0zxsSUp1W8zrD0AAAAXQZqISeEKUmUwIV/94QAHvoRpTexBFA0AAAAcQZ6mRTRMfwBrsKBtPudxjKTQNHrA9O4IshhmoQAAABoBnsdqR/8AbBvvnsuTTlx408uUxqNy1ATIgAAAACRBmspJqEFomUwU8L/98QAE9ySUhm7KljYVnHOWHgRr/po7HkQAAAAWAZ7pakf/AGvjDBHpbwimYQGexEJNQQAAACFBmu5J4QpSZTAhf/3xAAMOUkkP3f63K4zgwaFCASj5m5kAAAAXQZ8MRTRMI/8ANLK4BicGu+0b/j7FS5AAAAAWAZ8rdEf/AEF9e0otYW5dDBvogCyqIQAAABQBny1qR/8AQXb4qRoD4sst9UObowAAADFBmzJJqEFomUwIV//94QAE1Le9J2F638oQUEV5+9xzdWriIHwUkHFyq23Usj6Bxh6DAAAAGEGfUEURLCP/ADSyuAbqZo8ejLwtQPq7kAAAABYBn290R/8AQUDNgBnEy+LpcGR9sYygAAAAGAGfcWpH/wBBSY8ANAR88ygjEH3YysUioQAAACJBm3VJqEFsmUwIV//94QAE9Y5BiTkm6Bpf+Dq57JLg302iAAAAGEGfk0UVLH8AQ3b4osVU10Whmy0CvQoyMAAAABcBn7RqR/8AQ0mO+ZbQcckHjLz09ylU4QAAACFBm7lJqEFsmUwIT//8hAATS4Df2V2YV68N6MsambfSxrgAAAAZQZ/XRRUsI/8ANfK4BsNDIWgprMf1mtXmgQAAABkBn/Z0R/8AQ317XgwAzEgZEWfrrWaDWb8lAAAAFgGf+GpH/wBDSY7+5ht9JOZvFBad/pgAAAAkQZv6SahBbJlMCFf//eEABP/WyxLVTmwAjKRpo1kqXivd58KhAAAAGUGaG0nhClJlMCFf/eEAAw4uqiwahtQCO/AAAAArQZo+SeEOiZTAhX/94QADDvg+tUZAE/I2jss7Q+/7mv8S1u5FmOP6iTioRwAAABpBnlxFETx/ACn6OAYy3i2BpgyQG3pwG4iQcQAAABYBnn1qR/8AKfuNgDYBNFNDHgMqOVsQAAAAIEGaf0moQWiZTAhX//3hAAMOLqpQdxewgMy5AsctgkNgAAAAIEGagknhClJlMCFf/eEAAw8zb0nYX3F647MomLhPBILhAAAAE0GeoEU0TH8AKfo4BwzxV7owggQAAAAVAZ7Bakf/ACn7jYAzqyc9J5rdkSBBAAAAJUGaxUmoQWiZTAhX//3hAAMiJyDElhpnP6IkBdSeee3dajIzHwgAAAAYQZ7jRREsfwArNoTRYqp+p5PYaP3xBxnDAAAAFgGfBGpH/wArG418y3Yu3l+AiTEPx0EAAAAjQZsHSahBbJlMFEwv//3xAAHvtIPqRQItMnb+0Qhxj45g/ucAAAAWAZ8makf/ACsbjX/BQsGxMErQ5FPvWwAAACFBmypJ4QpSZTAhf/3xAAHy9N194kLhdMvq1Zvkm/yUbGwAAAAWQZ9IRTRMfwArGjgG3MOFkdCaS+mWgAAAABQBn2lqR/8AKxuNf3MOFkdCaS+mWwAAACVBm25JqEFomUwIV//94QAB5KKllO0cGzFhJHtIUv4RYLq6NXJAAAAAGEGfjEURLCP/ABT+/oMTf8aWxP9cGlrGQAAAABcBn6t0R/8AGmkk0b9Y0eZ8hFfefryO0QAAABUBn61qR/8AGljDB4wCH1UoM/sjmDkAAABAQZuxSahBbJlMCFf//eEAAeShGlRoABWzO7VX72Vu7TZp8XqPyY6BdX2dVwN/lS1xqu5OIeFOIC/3drDu6y7cwQAAABdBn89FFSx/ABpX01dwKzVWy8+ekhLAHwAAACgBn/BqR/8AGljDBvtbaAEY6oB75sIT/iEiOYX33vE0IYKOrBh8bfSYAAAAJkGb8kmoQWyZTAhX//3hAAHkppngn78CJ0B/KzN6rMB6zfJRyOCBAAAAL0GaFEnhClJlMFFSwr/94QAB7588y2UUfHI//a41yUfzF/ZHv0AM6Nu0pvaC4w/YAAAAFwGeM2pH/wAa+MMCaA7W/If6GvtvYIsgAAAAJEGaOEnhDomUwIT//IQAB5HhDuwct/xlKy2fRphLjGi4ihMP1QAAABpBnlZFFTwj/wAVjv6DgHaEWX4bLKwKuvqEgAAAABIBnnV0R/8AGwkk1LyzVXCnt9kAAAAXAZ53akf/ABr4wweZrCzNMAPqYaaWgVkAAAA3QZp5SahBaJlMCFf//eEAAe+mmeAmlG0+gBbxqs+rf+6xZiNV6y095YeHmU96qkqNQ/dPwOJ/gAAAACZBmppJ4QpSZTAhX/3hAAHy9HAgrVQHjCfaxVWGO9lfrH4i+nmofQAAAD1Bmr1J4Q6JlMCFf/3hAAE26J5xsAQ5Py2M0i93oDgrvlEGK2AG7LXgP093UqbBdNi7KJIpGZK8hvAf/AReAAAAFEGe20URPH8AEFG+gsb+zQLVeGuJAAAAFwGe/GpH/wAbsTlfa7DNMqlcBY31TgYpAAAAPUGa/0moQWiZTBTwr/3hAAH93/bAb4cb8gl5A5OUALZ3WH1oaTcgBqpfznoAqrA9YZD1hvbhZcuSdOhmJEoAAAAZAZ8eakf/ABudW4Eu/SX7FxURS416g2qxgAAAACdBmwBJ4QpSZTAhX/3hAAE011Upx2HYVUrPSepVwTjMMF/CfrCMbIkAAAAjQZsiSeEOiZTBTRMK//3hAAE2ZVuDLrAPHN7bYs/P+7euDPAAAAAVAZ9Bakf/ABBSY8E25mdpiQOo2k3BAAAAIUGbRUnhDyZTAhX//eEAAT1jkGJLDA/JfA6a3OUS2ZYX6AAAABpBn2NFETx/ABDRvoLHAzRtrfcKwW5sLUA5wQAAABUBn4RqR/8AENJjvmdz+oV7vp+QaYEAAAAlQZuISahBaJlMCFf//eEAAT3pt6TsQgJyU1r4dn4dOJ1KFRmQSwAAABhBn6ZFESx/ABDRvoPFtJJSbsY4rpoI20EAAAAWAZ/Hakf/ABDSY8EW7MhUnzHscN9D2gAAACBBm8pJqEFsmUwUTC///fEAAMn6bz+C41yw6izQm38CaAAAABYBn+lqR/8AENJjwRbmaE/ALtJiuxJtAAAAFEGb7knhClJlMCF//fEAAHc9N3HaAAAAHkGeDEU0TCP/AAvs9rr9h61mABDgUPA+8K1HOVzuFgAAACEBnit0R/8ADs+1ZZHQLcIztACtmnwZaKxoqdprOxZ3rZEAAAAQAZ4takf/AA7UVeYVQIUi0QAAADhBmjJJqEFomUwIV//94QABFl7RW5AB0jVYWAvN1mano5QRi1iBPP4PoAf9w+R0Ay3W0DdXhqfasQAAABdBnlBFESwj/wALzVdKnH/bdYEksXjJnAAAABQBnm90R/8ADtuXMKB3gsQzMgA3EAAAABMBnnFqR/8ADttfns2JwQbyJ4nnAAAAHEGac0moQWyZTAhf//3xAACw+0LLNRCVmxT57ggAAAAjQZqXSeEKUmUwIX/98QAAtW6LOevVpYPFvoZ64aErjuydsrsAAAAXQZ61RTRMI/8ADEOy6k8OVgPstjRF2UEAAAAUAZ7UdEf/AA81spmBVpbSn3JVd8AAAAARAZ7Wakf/AA8emnZ6TH8+GLEAAAAcQZrbSahBaJlMCFf//eEAARzUqa6grEB6rHjYeQAAABRBnvlFESwj/wAMQ8Jd5cXRHzXmYAAAAA8Bnxh0R/8ADymMn5hjbuEAAAAPAZ8aakf/AA8zmzxOdEywAAAAHEGbHkmoQWyZTAhX//3hAAEc0la6ezwHqseNh4EAAAAPQZ88RRUsfwAPLFXjMAAvAAAAEAGfXWpH/wAPOJGKu7OB5YAAAAAdQZtASahBbJlMFEwr//3hAAEe6Jt32gMS9t8aL3YAAAATAZ9/akf/AA8rxiWAo9FgFCevgQAAABtBm2FJ4QpSZTAhf/3xAACwu2p1rSwHMbPrL9AAAABOQZuFSeEOiZTAhX/95QnzkA1Af//BCAIMmiCt1i0bDKuMpeAxsc0R8m299C0BTnfNiFJaL0WaF9WrSvyLVFZKDBHWSafI3ypGQ5vozVdtAAAAGUGfo0URPCP/JOyw1g4kRkQerTMZMwFhvoAAAAASAZ/CdEf/AA7PvOWS4eEznwBBAAAAFAGfxGpH/yqy2lIiVvHcPrJp47MZAAAAL0GbyUmoQWiZTAhX//3hAAuewnIAHEvh/mQvxgY4gzDBEnohNWtLPG4mcAVzx6CBAAAAGkGf50URLCP/HdMMjoXk8YEdjbCCULTOBqcNAAAAKgGeBnRH/wCja/v6bFADQzXb8IRUwQvN5JxB2plVt5acG0PjKbruJl/RIAAAABgBnghqR/8Ao+XtbEwaPT3RsF3Xfp6zrCAAAAAlQZoKSahBbJlMCFf//eEAC5s+qUCYwgAH/apZm1qFKZO1igfegQAAACpBmixJ4QpSZTBRUsK//eEAC6+tliNERZo+fR1FGIK3oCDZtqdHDM3rVsAAAAAYAZ5Lakf/AKGXXtUGSDJcGkVQL+RF812wAAAAIkGaTknhDomUwUTCv/3hAAbvf9TNESTNSWCj2txsCYu6FvUAAAAYAZ5takf/AKGXbC8MTmCCJnKt53NvRHejAAAAIEGacEnhDyZTBTwr//3hAAa8SiJAMUYKwMlZUx4Wz5TZAAAAGAGej2pH/wChl2wfyffxJUMQXac1eYJWgAAAAB9BmpNJ4Q8mUwIV//3hAAa8ToaJXii9nGR4ZjwtnymwAAAAFkGesUURPH8AoZdsH7VmbEj4OiFHToEAAAAVAZ7Sakf/AKPnrWjfAo8KO+dyiimgAAAAL0Ga1kmoQWiZTAhX//3hAAbHf9U1zCAIH/5bGaRkEEOFSmj62Z7BGGMLD9hf2e1MAAAAG0Ge9EURLH8ApB2GU5EStIL+TnBVzb6sJdt40QAAABkBnxVqR/8Ao+estG8nGVqKePHwkd6NCF60AAAAJUGbGEmoQWyZTBRML//98QAEO6JrLhnHTcH9LgEBZb53a8leQ+EAAAAXAZ83akf/AKQdhkKJIkKhF77L0mDMho8AAAAZQZs7SeEKUmUwIX/98QAEG+Aba05gKkTAIAAAABhBn1lFNEx/AKQC4saeg9JLx/Lth1EIcSkAAAAZAZ96akf/AKPnq9eSDzw8foyC3/xs7nsHFAAAAChBm39JqEFomUwIV//94QAD5b/qK4O6V8HyhQBQkgyfsIpGmFNzvBHdAAAAHEGfnUURLCP/AH8+48WZLmMaxVsl8cWugtNWj9kAAAAWAZ+8dEf/AKNwV71NfpSZms80pxDr6AAAABYBn75qR/8Ao+eqiL3l60lYslRySsaAAAAAIEGboUmoQWyZTBRMK//94QADy2mktUV84FnQwHQxDcGhAAAAFQGfwGpH/wCkHYT9XD74QkG5cIV4UAAAAChBm8RJ4QpSZTAhX/3hAAPKg4GebXTFTuuw6y7UBC5z2+d9bU4MtJyPAAAAGEGf4kU0TH8ApALifjkKmZoxL1xNhPuvaAAAABgBngNqR/8Ao+eqiLV0gxuVRdYedKBJsK0AAAAnQZoGSahBaJlMFPCv/eEAA8/5SA9w56oiWROwb5rtXV4HAHzrR9zBAAAAFwGeJWpH/wCkHYT9WrS24dmRE83cN3b/AAAAIkGaKEnhClJlMFLC//3xAAJZvDOKRQIo3v/blybs59rmVYMAAAAbAZ5Hakf/AKGXa1OsxDLQAzJubq/QwPBkv2KRAAAAHUGaS0nhDomUwIX//fEAAl3wDajfwDSBpFp6ZeBgAAAAFUGeaUUVPH8AoZdrVEY7TsQVPWuuNwAAABQBnopqR/8Ao+eT7kkHkTxBSvVAYAAAACZBmo9JqEFomUwIV//94QACPdE1duBnnMUAFISDmbmPRilinmRuYAAAABZBnq1FESwj/wB/Pt5YAVGZ+T38NXoxAAAAFAGezHRH/wCjcEeI9H9KTjKngWuBAAAAEgGezmpH/wCj54eQt8D3CuoXWQAAABdBmtJJqEFsmUwIV//94QACKadDRK8RgAAAABNBnvBFFSx/AKQddrjkRWgwhSuuAAAAEwGfEWpH/wCj54eQt8D2iTnEtNkAAAAaQZsTSahBbJlMCFf//eEAAimvqlCDc0Y2M8AAAAA1QZs2SeEKUmUwIV/94QACLfpAD3DocH4EHkGWxmkZBBDhUpo+tmgoEaZLOmwX9oodmm7DwSAAAAAYQZ9URTRMfwCkAttcciJWkGZT4jY8AwWBAAAAFQGfdWpH/wCj54dgYUBEV0b+K9BemAAAAB1Bm3hJqEFomUwU8L/98QABWHcIjlKBLck19iVWOQAAABUBn5dqR/8ApB12c+gfAew3Z/fTZZkAAAAfQZubSeEKUmUwIX/98QABWvTobWnMBUkZv++JI4NDgAAAABVBn7lFNEx/AKQC20OnoPPZBbhrstkAAAAZAZ/aakf/AKPnhxC3wD2SVQAzOEfpu1vpWwAAACxBm99JqEFomUwIV//94QABSOT3SWjUAVv///hXGgcEVtByw/iSkXJKr8YGyQAAABVBn/1FESwj/wB/Pt0PqLehGXfINK0AAAAQAZ4cdEf/AKNwPjl2XYdeQwAAABIBnh5qR/8Ao+eAFFjLO1LBQWAAAAAbQZoCSahBbJlMCFf//eEAAT1joaJeELVcFmctAAAAE0GeIEUVLH8ApB1zl116zutV3YAAAAAPAZ5Bakf/AKPngA0z4GRxAAAAHEGaQ0moQWyZTAhX//3hAAE9Z9UpCqJu0Kdt4sAAAAAuQZpmSeEKUmUwIV/94QABP+TkSSmUANegy2M0jIIIcKlNH1sz2CMMYWH7C/tBtQAAABNBnoRFNEx/AKQC2cuuvR5e76q3AAAAEQGepWpH/wCj53/w9ishFcSxAAAAGkGaqEmoQWiZTBTwv/3xAADJ+ZwfCI5htLXRAAAAEgGex2pH/wCkHXOU7ERIVcMiwAAAAB1BmstJ4QpSZTAhf/3xAADE+m8plf7y0vmLd9HkCAAAABhBnulFNEx/AKQC2brT0Ijimdn0yyFL3E0AAAAVAZ8Kakf/AKPnf8hb4Q5Cgt4ZH6EwAAAAIkGbD0moQWiZTAhf//3xAACnvS2a5bMXTe3nkT9c0VnaecAAAAAhQZ8tRREsI/8Afz7cwbhWkyXlHPG4AGuuLwPvkr5fLknNAAAAHwGfTHRH/wCjcDvlPfq5FEVTjxACtmmLZcN0CJ+x4c0AAAAVAZ9Oakf/AKPnfkhepAhMq4uz4ycxAAAAH0GbUkmoQWyZTAhf//3xAACsPSH/dr6sWGUkDvJUoaAAAAASQZ9wRRUsfwCkHXMK35OuOnNwAAAAFQGfkWpH/wCj536OtW1iRVgD7JE3QQAAABxBm5ZJqEFsmUwIV//94QABFNIRunpdh6rHjYuAAAAAFkGftEUVLCP/AH8+3NO6xsEaAkEHKwgAAAARAZ/TdEf/AKNwPIMa9ZT4mU0AAAARAZ/Vakf/AKPnfs/tduqaWkAAAAAkQZvYSahBbJlMFEwv//3xAACx+xDWaSdk0SKhCC1un2kAwaOBAAAAFgGf92pH/wCkHXMegmYU+6+aY2kI8okAAAAfQZv7SeEKUmUwIX/98QAAqPJ9wO+9lWn9sp4fTdcDfwAAABZBnhlFNEx/AKQC2XpVdXC/ErJPZDCRAAAAEgGeOmpH/wCj534tpd2+77dskAAAABdBmj9JqEFomUwIX//98QAAozwKkkewbwAAABFBnl1FESwj/wB/Pty5skdiwQAAABABnnx0R/8Ao3A7r8F4PVCgAAAAEAGefmpH/wCj534IVnFGQoAAAAAXQZpjSahBbJlMCF///fEAAKR7EX/NMO0AAAASQZ6BRRUsI/8Afz7cuZQO8aSWAAAAEAGeoHRH/wCjcDunF7F8tMEAAAAQAZ6iakf/AKPnfggeIez0UAAAAEVBmqdJqEFsmUwIV//95ZhrcDlrAQqD//4Y7AcrBTVIh4SNLmizMEhyOOCI1egaqojzMNsJqSCPt+ea19IfA0OVel/aqkMAAAASQZ7FRRUsI/8k7LDWIHqZsxzDAAAACwGe5HRH/wCjcDU/AAAAEAGe5mpH/ypfNKRUreW7QpEAAAAdQZrpSahBbJlMFEwr//3hAAlsfCKt0QAzz0lcJtgAAAAkAZ8Iakf/AKQdtbbG+2/wAqyGOO+EVMELzeScQdqZVbeWXoCAAAAAGEGbC0nhClJlMFLCv/3hAAlmlESAJiJ+mQAAABEBnypqR/8AoZdvwG2HGIY++AAAABlBmy1J4Q6JlMFEwv/98QAF/8z8HoZxRMOAAAAAEQGfTGpH/wChl2/AbYcYhj75AAAAJkGbUUnhDyZTAhX//eEABbOT3SWjUAVv///hXGgcEVtByw/iR5dNAAAAE0Gfb0URPCP/AH3B5XmGb9B/M+EAAAAQAZ+OdEf/AKNwaAXZdh11XwAAAA8Bn5BqR/8Ao+ei0WMqpbAAAAAXQZuUSahBaJlMCFf//eEABYWOholdiMEAAAAQQZ+yRREsfwCkHYGtdeqMLAAAAA8Bn9NqR/8Ao+eitM+BMLAAAAAWQZvVSahBbJlMCFf//eEABYWfVKCxGQAAAC5Bm/hJ4QpSZTAhX/3hAAWPk5EkplADXoMtjNIyCCHCpTR9bM9gjDGFh+wv7Pd8AAAAE0GeFkU0TH8ApALg1rr0eXu+oA8AAAARAZ43akf/AKPnokPYrIRW1nEAAAAbQZo6SahBaJlMFPC//fEAA3e/wzcM46bg/k8gAAAAEgGeWWpH/wCkHYGjsREhVwsxwQAAAB5Bml1J4QpSZTAhf/3xAANj6bsNOBnm7eAMPPvnBMAAAAAWQZ57RTRMfwCkAuCQCZnHsebvWOZvVwAAABMBnpxqR/8Ao+ehlM+Aex5vMlmNAAAAJkGagUmoQWiZTAhX//3hAAM7v+org7pXwfKFAFCSDJ+yaqVp+LuoAAAAF0Gev0URLCP/AH8+4j2Rx9MNYretC4WMAAAAFAGe3nRH/wCjcFA7t7sOvPzkIWuBAAAAEwGewGpH/wCj56CWEtG1rCvr+gwAAAAcQZrESahBbJlMCFf//eEAAyInQ0SvovdU3w4VQQAAABRBnuJFFSx/AKQdgLOhuba1hGbXkwAAABMBnwNqR/8Ao+eglgQFUAtUOIfnAAAAFkGbBUmoQWyZTAhX//3hAAMiL6pQXYkAAAAwQZsoSeEKUmUwIV/94QADJ/lID3DocH4EHkGWxmkZBBDhUpo+tmgoEaZLOmwX9n1nAAAAFEGfRkU0TH8ApALgWXiWmZZXYHA/AAAAEwGfZ2pH/wCj56CWEq+d5ANibIAAAAAYQZtqSahBaJlMFPC//fEAAeS02ipFAh98AAAAEwGfiWpH/wCkHYCzqCmQEhBnyyEAAAAZQZuNSeEKUmUwIX/98QAB5UuutTnWylyasAAAABZBn6tFNEx/AKQC4Fl7dEh+M7jRZFryAAAAEwGfzGpH/wCj56CWO5QiKiPXNkEAAAAnQZvRSahBaJlMCFf//eEAAdHf9VKI1AFb///4VxoHBFbQcsP4kebJAAAAFEGf70URLCP/AH8+4j74LnPI66lxAAAAEgGeDnRH/wCjcGRNkjy5dd+1xAAAABEBnhBqR/8Ao+egliydy2qU4AAAABdBmhRJqEFsmUwIV//94QABw6EzA3ypwQAAABJBnjJFFSx/AKQdgLOlqP41j1QAAAARAZ5Takf/AKPnoJYskm2/9UAAAAAWQZpVSahBbJlMCFf//eEAAcOnbeBmUQAAAC5BmnhJ4QpSZTAhX/3hAAHG3982uYQBA//LYzSMgghwqU0fWzPYIwxhYfsL+0A2AAAAFUGelkU0TH8ApALgWXqJxbaLf8/a3wAAABMBnrdqR/8Ao+eglixOznkCLEJhAAAAFUGauUmoQWiZTAj/+lgADUgqZ/VN2AAAAgNliIIADf/+9q78yyt0fpUuHVltZn0EuyQAG4S72tt4oVPUtGTbt/UfWgrim94udPB/AQVsyr7M+vuobjnBhWUb6HFolMV96F7w/g3Ic59ICl3KA8PjVB3noGTPGCAFrTRvSQL+GRxgkILUkwrYqcr2A3UCctDrPBg1abT++hZ1+iqWVioixPySd2cHAuv2HAT8253hYl1YtYDyO+wgbgqDXUY03Szi7hDoTYvG6RJKFw9Q34Dgg71Lw09BOtblQ5oy0ysyjfPP9Rfk+ALp7Pw8zd2jspYnAAADAATk5yO4AqccKC4RI2IGDzB9JQCl4PHhYmoEEl4tfbe7jgABEVG1zmcmBBVwl2nmPyvANUy2cy8ytKc+17Jst+B2bZH3M/ABbNqbXX0xb2zR9PNqz20rHKtt8lMzS1t72Srev/vEe98QrNBpbXnMEGrReM0K44N4xmbEc7EaDW4y0K8APQZPQjPcjYiugxSAMLzGrf99Vwe6yG0KJWTohei08YnX9GOoQrTSvvnis5O4r4Nb9BwalirwEqAZHD5A30W9fpnLJHtTS4zfAJ08FuzNWDUjC6rChL7454HhhylQiOiOdhawE89d5vntTZW9JMyIUyoAVqTTeNpf0E0SdGy+hqFZN2AZKCIEIgSL2BtGylMIcAENTWi8VoDwDnEyGfBhufznAZOnoQAAACZBmiNsQr/94QFklBXuRFvdUhMhKAi8uD8AjJU7M/PI+r1/+qUz4AAAABRBnkF4j/8IdCnhrAF7SHld2fT24QAAAA8BnmJqR/8AF9ithrcNq4EAAAAZQZplSahBaJlMFPCv/eEAAQbompmiJJm9YAAAAA8BnoRqR/8ADiEsPRwHCkAAAAAcQZqHSeEKUmUwUsK//eEAAP5pdpX4IAoSQZPQKQAAAA4BnqZqR/8ADcQqTM/YIAAAABZBmqpJ4Q6JlMCFf/3hAAD9UJmBvoFBAAAADkGeyEUVPH8ADdOBtSYIAAAADQGe6WpH/wAN04G1JgkAAAAWQZruSahBaJlMCFf//eEAAP1Ts4voFQAAAB1BnwxFESwj/wALD8xEKYAB71V4P5jKlgUHuBNegQAAABMBnyt0R/8ADdHsMsADPmbg/ztBAAAAFwGfLWpH/wANrHX4RAAPUk8XczWELqtAAAAAFkGbL0moQWyZTAhX//3hAAD+CvMoOrAAAAAmQZtSSeEKUmUwIV/94QAA/aDBzY6ACEvH+xBLg7l9u4wbGlmT6sEAAAAQQZ9wRTRMfwAOK1DwAkChgAAAAA4Bn5FqR/8ADitQzE0hSAAAAC9Bm5RJqEFomUwU8J/8hAAD9kFxEAQP1Ik/mnVB8kKlNIMBKmrBQ4t1Nr0NogAaIQAAABIBn7NqR/8AF+kWPFIiHJgUBqEAAAAcQZu2SeEKUmUwUsJ//IQAA/doflwvIa8k+mvlwQAAABABn9VqR/8AF/E4RN2JdUVqAAAAG0Gb10nhDomUwIT//IQABr5zFFCbSugKPLjUQAAAABpBm/hJ4Q8mUwIT//yEAAbj8YR67cOKceABgQAAABxBmhlJ4Q8mUwIT//yEAAbkDvHkrz3RmZsk9QkgAAAAIEGaOknhDyZTAhP//IQABuhpsadAAUFhppS05pMFEHSQAAAAF0GaW0nhDyZTAhP//IQABuQO8e9u9hfdAAAAFUGafEnhDyZTAhP//IQABuPxhKab4AAAABVBmp1J4Q8mUwIV//3hAAHDppiYZlEAAAAqQZq/SeEPJlMFETwr//3hAAHO39GAINq8ta6q8kWuGVycQlNlViJEGdZNAAAADgGe3mpH/wAZGMMm+5bwAAAAFUGawEnhDyZTAhX//eEAAc6fP4wy2QAAABhBmuJJ4Q8mUwURPCv//eEAAc6hGyJ5TYAAAAANAZ8Bakf/ABkX09SHMQAAABhBmwVJ4Q8mUwIT//yEAAc54Q2kRjK6oEEAAAAQQZ8jRRE8fwAZxvvecVUx6AAAAA4Bn0RqR/8AGbjDJvuWcAAAABxBm0dJqEFomUwU8J/8hAAMOZoDobwcXgzXKByBAAAADQGfZmpH/wAZuMMpu2AAAAAbQZtoSeEKUmUwIT/8hAAMh+MI9duHFOO/GlaBAAAAHEGbiUnhDomUwIT//IQADIgd488UJ5oJZn2fNkAAAAAeQZuqSeEPJlMCE//8hAAMh+MJ0gAUFhppS05zmwnjAAAAF0Gby0nhDyZTAhP//IQADIgd4+RsMK2hAAAAFUGb7EnhDyZTAhP//IQADIfjCU0I4QAAABVBmg1J4Q8mUwIV//3hAAM2LqkIXUkAAAAqQZovSeEPJlMFETwr//3hAANKgHIAIZq8ta6q8kWuGVycQlNlViJEGdSGAAAADgGeTmpH/wAtW42ly1l4AAAAFUGaUEnhDyZTAhX//eEAA0okioQufQAAACNBmnJJ4Q8mUwURPCv//eEAA0onIbOHIXpVcRS/b1xkacQXHgAAABABnpFqR/8ALVo4mM6U3MIoAAAALkGalUnhDyZTAhP//IQADSf+1EiMZXWmXThOaMeC63H7dFoFncVwB7gUHzuD0MEAAAAUQZ6zRRE8fwAuloS84qp4TTHjDs8AAAARAZ7Uakf/AC57jaXLcUAXAfEAAAAkQZrXSahBaJlMFPCf/IQAFhf0B0N4OLwZrlEKZHTPHXg9PtKEAAAAEQGe9mpH/wAue42pJ4cwfE58AAAAG0Ga+EnhClJlMCE//IQAFqSGEeu3DinHfjN/RQAAACBBmxlJ4Q6JlMCE//yEABak+8eeKE80Esz7PvEe50b50AAAAB5BmzpJ4Q8mUwIT//yEABakhhOkACgsNNKWnOc2EYoAAAAXQZtbSeEPJlMCE//8hAAWpPvHyNhhMqEAAAAVQZt8SeEPJlMCE//8hAAWpIYSmd5gAAAAFUGbnUnhDyZTAhX//eEABc2dUhCweQAAACpBm79J4Q8mUwURPCv//eEABfUA5ABDNXlrXVXki1wyuTiEpsqsRIgzpwsAAAAOAZ/eakf/AFG3G0uWp7gAAAAVQZvASeEPJlMCFf/94QAF9EkVCFgVAAAAGEGb4knhDyZTBRE8K//94QAF9E5DZwsCgAAAAA0BngFqR/8AUbRxMU3xAAAAGEGaBUnhDyZTAhP//IQAF8/9qJEYyumiwQAAABBBniNFETx/AFQtCXnFVJ5wAAAADgGeRGpH/wBT9xtLlqdoAAAAHEGaR0moQWiZTBTwn/yEACev6A6G8HF4M1yeqoEAAAANAZ5makf/AFP3G1HhUAAAABxBmmhJ4QpSZTAhP/yEACjJDCPXbhxTjvxm/BaFAAAAHEGaiUnhDomUwIT//IQAKMn3jzxQnmglmfZ7x0AAAAAeQZqqSeEPJlMCE//8hAAoyQwnSABQWGmlLTnObCCXAAAAF0Gay0nhDyZTAhP//IQAKMn3j5GwwjehAAAAFUGa7EnhDyZTAhP//IQAKMkMJTOFwQAAABVBmw1J4Q8mUwIV//3hAAp7OqQhVbkAAAAqQZsvSeEPJlMFETwr//3hAArEgcgAhmry1rqryRa4ZXJxCU2VWIkQZ0vSAAAADgGfTmpH/wCSkx6XLUMYAAAAFUGbUEnhDyZTAhX//eEACsMSKhCqtQAAABhBm3JJ4Q8mUwURPCv//eEACsMchs4VVoAAAAANAZ+Rakf/AJKN9mKMEAAAABhBm5VJ4Q8mUwIT//yEACsJe1EiMZXS7MEAAAAQQZ+zRRE8fwCW7fDziqkskQAAAA4Bn9RqR/8AlpMely1CuQAAABxBm9dJqEFomUwU8J/8hABHN/ooTaVzesgc2HzAAAAADQGf9mpH/wCWkx6jq9AAAAAdQZv4SeEKUmUwIT/8hABJLWfTqwTz+bjAlQyBCckAAAAbQZoZSeEOiZTAhP/8hABJLrgGCy3xZin1NNHcAAAAHUGaOknhDyZTAhX//eEAEs0kVK2AFPwQuGpjXYQgAAAAGUGaXEnhDyZTBRE8J//8hABJLbzWg/aS708AAAAOAZ57akf/AP4i9htvLFAAAAAVQZp9SeEPJlMCE//8hABJLrgK4FtBAAAAN0Gan0nhDyZTBRE8J//8hAFlwNQJQ2bqhhx0fIPw3u1Gbf8fpoY+gTqY3HyQ1Md6k3jI9rhSfdEAAAAPAZ6+akf/AQUmPTE8WUdwAAAAGEGaoEnhDyZTAhP//IQASy1n1SNFQfyPgQAAABZBmsJJ4Q8mUwURPH/6WACTwMsIGvswAAAADwGe4WpH/wGxE/RWXrdipQAAAB1BmuNJ4Q8mUwI///pYAJfDdhB49wiDu6bHlfpSqQAAACpBmwRJ4Q8mUwIV//3hAB+vYYt0akfx3DM2ACLjbj4p0KTloqIbFZPqgGAAAAAeQZsmSeEPJlMFETwr//3hAB+tcGN1T1hchEIbQld3AAAADQGfRWpH/wEN2+H/n0kAAAAyQZtKSeEPJlMCFf/94QAgoGDoAVvBwdzI7FgVLm84Oq+MSnb1qMoVR7f2lV9fsBU47MAAAAAYQZ9oRRE8I/8BatNlgA/arj4dsVudYNZhAAAAEAGfh3RH/wHQ6EUNhIHtanwAAAAaAZ+Jakf/Ac+7K1th/ABONcKBm88n5ofjwn0AAABrQZuMSahBaJlMFPCv/gyxKAb8wJfUVqfBBEUEcO4cEqAkiInoBM/IDQGp2h/K0oQl6F9hrI5TZsb80i+BBnAIyfTgAcScmIITma5y/BjbGwOiVpZfFU1z/9Ou5elFd1CQIxeQMnOgDHQDIc0AAAAeAZ+rakf/RGWvXHYs+eJABCLut8JTLnKckU5VYM6RAAAAIkGbrknhClJlMFLCf/yEAH5wzwYvoBuct5Ce/YYGHdgyWUEAAAAQAZ/Nakf/AcSCRKP6PQN0gAAAABZBm89J4Q6JlMCFf/3hABNY+FZRMhTAAAAAG0Gb8UnhDyZTBRU8J//8hAB5/YYneDiDthCzIQAAAA0BnhBqR/8BBRtkfQZQAAAAGEGaEknhDyZTAhX//eEAHy9j6+A9UocSmAAAADtBmjRJ4Q8mUwURPCf//IQAS7+TgG139SamP/7mOQ1PFQowvBoBjtVuVSUie5BmgMWsA77gC7xFGFJXpQAAAA4BnlNqR/8BBVmlQWEjuQAAABlBmlZJ4Q8mUwU8J//8hABJCZosu2vmbZs3AAAADQGedWpH/wD9ksP/P+AAAAAVQZp3SeEPJlMCE//8hABJLXmecC2gAAAAGEGamEnhDyZTAhP//IQASUbAUVxzx2JZQQAAABhBmrlJ4Q8mUwIT//yEAEm50wxZmgSlfMAAAAAbQZraSeEPJlMCFf/94QAfAuGIndX526ONac9gAAAAGkGa/EnhDyZTBRE8K//94QASZWD84vW3rVlBAAAADwGfG2pH/wD4EsP7mGmHwAAAABxBmx5J4Q8mUwU8J//8hABHvciPCP9nuCi1KyqBAAAAEAGfPWpH/wD4QSJSBa59BSEAAAAVQZs/SeEPJlMCFf/94QAKwxRUoKq0AAAAGEGbQUnhDyZTBRE8J//8hAAqInBR2vuDwQAAAA0Bn2BqR/8Aku4jUdY4AAAAFUGbYknhDyZTAhX//eEACsM+qUFVaQAAAD1Bm4RJ4Q8mUwURPCv//eEACtcnwmH0yQA07xA42GnkicKfmp3XIrRqlEhfUwMF6rRnjWAgfmi+vDUF16pxAAAAEAGfo2pH/wCRBkfxvUtdfHoAAAAbQZumSeEPJlMFPCf//IQAKLLbMZ2FPihKdipYAAAADwGfxWpH/wCOSe8v9rwaQQAAABVBm8dJ4Q8mUwIT//yEACjJGNmzhcAAAAAXQZvoSeEPJlMCFf/94QAKfl51EkMqWdsAAAAyQZoKSeEPJlMFETwr//3hAAqPJ7r3ElAC3eUC/TVgCg3NAN2bKRp6husO5D+WnDWUoIAAAAAPAZ4pakf/AI6rapCZnf6xAAAAGEGaLEnhDyZTBTwr//3hAAozHREgCYifeQAAAA8BnktqR/8AipKl/cw07cEAAAAbQZpOSeEPJlMFPCf//IQAJ/xzFZ9gvTWf5fWBAAAAEAGebWpH/wCKrtFSBa59KUAAAAAVQZpvSeEPJlMCFf/94QAF9EoqUFgUAAAAF0GakUnhDyZTBRE8J//8hAAXNKYM2zulAAAADQGesGpH/wBRtE2/TfAAAAAVQZqySeEPJlMCFf/94QAF9F9UoLAoAAAAN0Ga1EnhDyZTBRE8K//94QAF/3/VSW6QAtdEIPtlO6Bp3uaou0fG5mE/rIZ2H+COos6XWzC6cKEAAAAOAZ7zakf/AFHGrVBYT3kAAAAZQZr2SeEPJlMFPCf//IQAFpltmM7CnxRBJwAAAA0BnxVqR/8AT3be/+KQAAAAFUGbF0nhDyZTAhP//IQAFqSMbNneYAAAABdBmzhJ4Q8mUwIV//3hAAXPLzqJIZUugwAAADJBm1pJ4Q8mUwURPCv//eEABdeT3XuJKAFu8oF+mrAFBuaAbs2UjT1DdYdyH8tOGsqPgAAAAA8Bn3lqR/8AT4X5SEzPCVAAAAAYQZt8SeEPJlMFPCv//eEABamOiJAExFCNAAAADwGfm2pH/wBNSVL+5hqcwAAAABtBm55J4Q8mUwU8J//8hAAWPjmKz7Bems/zUYEAAAAQAZ+9akf/AE1XaKkC1z60wQAAABVBm79J4Q8mUwIV//3hAANKJRUoLnwAAAAXQZvBSeEPJlMFETwn//yEAAzX8wZtoPUAAAANAZ/gakf/AC1aJt+t8AAAABVBm+JJ4Q8mUwIV//3hAANKL6pQXPkAAAA3QZoESeEPJlMFETwr//3hAANPv+qkt0gBa6IQfbKd0DTvc1Rdo+NzMJ/WQzsP8EdRZ0utmF1IYQAAAA4BniNqR/8ALWNWqCwreAAAABlBmiZJ4Q8mUwU8J//8hAAMglbMZ2FPiiEHAAAADQGeRWpH/wAsO29//BEAAAAVQZpHSeEPJlMCE//8hAAMh+Y2bQjgAAAAF0GaaEnhDyZTAhX//eEAAzb3nUSQypizAAAAMkGaiknhDyZTBRE8K//94QADO7/q3fOoALp5QL9NWAKDc0A3ZspGnqG6w7kP5acNZX+AAAAADwGeqWpH/wAsQvykJmeNkQAAABhBmqxJ4Q8mUwU8K//94QADIidESAJiKQMAAAAPAZ7Lakf/ACsbb39zDW/BAAAAGkGazknhDyZTBTwn//yEAAxO/4rPsF6az/PvAAAAEAGe7WpH/wArI+OUgWufdsAAAAAVQZrvSeEPJlMCFf/94QABzp+i8DLYAAAAF0GbEUnhDyZTBRE8J//8hAAHDdprNtNVAAAADQGfMGpH/wAZF8dwBzAAAAAVQZsySeEPJlMCFf/94QABzqdt4GWwAAAAPUGbVEnhDyZTBRE8K//94QAB0d/2lD6ZIAad4gcbDTyROFPzU7rkVo1SiQvqYGC9VozxrAQPzRfXhqC7AIkAAAAQAZ9zakf/ABjY7D+RMe9k9wAAABxBm3ZJ4Q8mUwU8J//8hAAG4StmM7CnxQ+mu16TAAAADwGflWpH/wAYavxsN13/gAAAABVBm5dJ4Q8mUwIV//3hAAHDn6LwMygAAAAXQZu4SeEPJlMCFf/94QABxCPOokhlTaMAAAAyQZvaSeEPJlMFETwr//3hAAHG3/Vu+dQAXTygX6asAUG5oBuzZSNPUN1h3Ify04ay9MAAAAAPAZ/5akf/ABh87lITM86wAAAAGEGb/EnhDyZTBTwr//3hAAG5E6IkATEVKwAAAA8BnhtqR/8AF9ithrcNq4AAAAAbQZoeSeEPJlMFPCv//eEAAbv0cDt9eHREkx+xAAAAEAGePWpH/wAX3WHKQLXP1eEAAAAVQZo/SeEPJlMCFf/94QAA/U/ReB1YAAAAKEGaQ0nhDyZTAhP//IQAA+W/rZi4UAGzj/uY12uz2Rd2Vkn5zbNk9EEAAAARQZ5hRRE8I/8ACxVmuwiI0NAAAAANAZ6AdEf/AA3UmepMEQAAAA4BnoJqR/8ADdOBtNM6YwAAAClBmoRJqEFomUwIV//94QAA/u/zy1VjDEoAOZ4ZwJ+spP4Zaygg4ain6gAAACVBmqVJ4QpSZTAhX/3hAAD4I7voAIa0lkPhGqq+3AkEM0kOQ7PUAAAAKUGaxknhDomUwIX//fEAAJ6+BV8ADaClZ20qIytbJM1oBLxoW6twNHEHAAAAM0Ga6knhDyZTAhX//eEAAP11FoAJq7rD3tMhJSO60o/WIexasB6yF3gH4Z9oSKz611hbgAAAABBBnwhFETwj/wALFiBnglxbAAAAFAGfJ3RH/wANdl6HngATdmIMTXmAAAAAGAGfKWpH/wAN1Dn9Ie3NwlAAHricip4DEQAAAChBmy1JqEFomUwIV//94QAA/Zk2kACDR0gQGJcupukG5DdF3jurRuzPAAAAEEGfS0URLH8ADcvjcYrnutEAAAAOAZ9sakf/ABdM6r7ayQkAAAAtQZtvSahBbJlMFEwr//3hAAGvRIdABurTH+ZBPlBuZqubWfPzCKKUq604e58sAAAADwGfjmpH/wAXPcbUOYbXwAAAABpBm5FJ4QpSZTBSwr/94QABrxJBdnQrCWvjUQAAAA4Bn7BqR/8AF0tCK7OUeAAAABhBm7VJ4Q6JlMCE//yEAAa7/2wH0YyuqdAAAAAWQZ/TRRU8I/8AEtO9dE2gBmJHERRUIQAAAA8Bn/J0R/8AF9T5kl0OEeEAAAAOAZ/0akf/ABfm+6tCSXkAAAAWQZv2SahBaJlMCFf//eEAAbkXUM4ZtAAAABVBmhdJ4QpSZTAhX/3hAAG5F1SEM2gAAAAfQZo5SeEOiZTBTRMK//3hAALmxILs9MYQACUxkc9lwQAAAA4BnlhqR/8AJ9nVfbWJiAAAABpBml1J4Q8mUwIV//3hAAL+KV9iWGpmQxwoJgAAABJBnntFETwj/wAftJvA579lmoEAAAARAZ6adEf/ACj5N6w/Vospd8AAAAAOAZ6cakf/ACj2hFaEjHkAAAAXQZqfSahBaJlMFPCv/eEAAvr4PsTLT3kAAAANAZ6+akf/ACjbjaj98AAAABZBmqFJ4QpSZTBSwr/94QAC+iSC7PvFAAAADQGewGpH/wAo9oRXf3wAAAAZQZrDSeEOiZTBRMK//eEAAw4kguywq+fXwQAAABABnuJqR/8AKfuNozgKfwdxAAAAHkGa5UnhDyZTBTwn//yEABPUhaKMAAoLDTRPO2fGrwAAAA8BnwRqR/8ARUmPUOYapcAAAAAYQZsGSeEPJlMCFf/94QAFIN4oZvYjNFyBAAAAGEGbKEnhDyZTBRE8K//94QAFINuguz7IIAAAAA0Bn0dqR/8ARUmNhvLpAAAAFUGbSUnhDyZTAhX//eEABRmdUhCyCAAAAChBm21J4Q8mUwIT//yEABRpGagBBYC0DKdL3PDpkMGSfad4Z8QwckLBAAAAFkGfi0URPCP/ADiqUu7ewAaEDE75cpEAAAAQAZ+qdEf/AEd9ea3Pxn7mwQAAAA0Bn6xqR/8AR3b3rvlNAAAAGEGbrkmoQWiZTAhX//3hAAimuoZwTET+sAAAABpBm9BJ4QpSZTBREsK//eEACKaSC7Pn4Rm7gAAAAA8Bn+9qR/8AdonDDOYafmEAAAAVQZvxSeEOiZTAhX/94QAIprqkIVgwAAAAKkGaFUnhDyZTAhP//IQAIp180AIjWC0DKdL3PDrko7nXp34haYr/5SYruAAAABFBnjNFETwj/wBh5W8DnwKKgQAAAA8BnlJ0R/8AeT4PPWkqMYEAAAAOAZ5Uakf/AHmRea57oxkAAAAZQZpWSahBaJlMCFf//eEACOa6hmqHeOmLQAAAACRBmndJ4QpSZTAhX/3hABm0LOg8by8N9qDiel9mEE+6sfCjyJgAAAAbQZqZSeEOiZTBTRML//3xAAmpqlC/7o34GibRAAAADwGeuGpH/wDS6Qmd3ixGWgAAAhpliIQAN//+9q78yyt0fpUuHVltZn0EuyQAG4S72tt4oVPUtGTbt/UfWgrim94udPB/AQVsyr7M+vuobjnBhWUb6HFolMV96F7w/g3Ic59ICl3KA8PjVB3noGTPGCAFrTRvSQL+ELL6DmyO6uCxiV62hh8V1EpvfGFR+hLxy0kQpFsDgZYKjbGGFZYZ+bYLq/qeir96arIdWZEvRD8DMcxf9G0JdZbj2J34s+utJCogt5QLpH4yVgs+2+HABLNcJGfopW/V+jkAAAMACfXefIp/1ijAYfuFCVJFQNP9+fCTx4WJqBBJeLX23u4oAAOTILPziufDAVbE20HqzlTwZbOZeZWlOfa9k2W/A7Nsj7mfgAqmz8nWI5UJzJrBtAA1fd5AFSI2UqhuF3inH1gEq/qRaN8z7suMaAUQghh71xMnEXq0+BdihrqXByJ3jPkmbc4cmz7qV8LtF+ftGaUvL/oMaC3FY5XKu+1spkMIwbIyyUuaLlB7umnXm8F9DbHABzEDAHrLLf0qZ9FUFNK0nt9HvAqJS9DStloGkiCqFtHnn7IxaoSi0+zFGEAAAAMAAAMA0r54JHiaWuAfaeEMfruD3oRxRJzFnNz2zcDQrnhPTiCIWiB+PqKn1ez7oqajxTCBSNh2MPjDxruJ9+S4Kw2O4eZxLguhzd+WoyV67Jeoej97qxj3q7euZbkZaV7g8TrlqNtS2viU+iYwAAAASUGaI2xCv/3hAWSUFe5/fbQ/nLMBZBI3XZqB77qlzUUl8PyA0R+jEbphqMNnNSuBp2OZY+f7TaPVMOVMpJtSuzrYLcGvpUztZuEAAAAXQZ5BeI//CHQqDovlvA8xfhhRg7+H0FgAAAANAZ5iakf/ANM33V3pBQAAACBBmmVJqEFomUwU8K/94QAZ15kyQoNz0Mk+P8dShSWTIQAAAA0BnoRqR/8A0zfdXekEAAAAGEGah0nhClJlMFLCv/3hAA8qDb0sxn1FYQAAAA0BnqZqR/8A0sYZTOlgAAAAOkGaq0nhDomUwIV//eEAGvT1fJN4MGZqxAujGDDEdmXEHyS8B00w6o8I6lOD+FSMVINVkI0SCeFntBEAAAAXQZ7JRRU8I/8BHfbGrcceAAqIIXqfDXEAAAAPAZ7odEf/ANenzISTYYuAAAAAGQGe6mpH/wFqajDcQAJxrhQM3mlVUD9km0AAAABsQZruSahBaJlMCE///NwAMIgBKObgg/fa+KwhGUkjgBBtm4uE4jqyY55jhuJK4L+b0CaBV3+A5sUqv1gamqfBrBRAugiLaet0B3HkkI0ZQRhXCK4kmfsNLLxIEyY6JrCcfz5eR3dlROm6rCqhAAAAHEGfDEURLH9EZa8YQHTACFEmG/NLCDrJnejcim4AAAARAZ8takf/Q75eMGNgVGcFaC8AAAAWQZsvSahBbJlMCFf//eEAD300mL4ifAAAABhBm1BJ4QpSZTAhX/3hAA/ekyorbCNaVrkAAAApQZtzSeEOiZTAhX/94QAP2YJyABshAv000QawlkSsDHG6fKUateisxFEAAAAPQZ+RRRE8fwDdN92DEhL1AAAADgGfsmpH/wDiPjF9X9WZAAAAF0GbtUmoQWiZTBTwr/3hAA/nSIC5KRKgAAAADgGf1GpH/wDcxhLGpGX2AAAAF0Gb1knhClJlMCFf/eEAD9U0zwExE9ihAAAAHEGb+EnhDomUwU0TCv/94QAP77H18swhDxdTBNIAAAARAZ4Xakf/ANzGGDzIOBwSUIAAAAAZQZoaSeEPJlMFPCv//eEACesSDElh3jpgUQAAAA4BnjlqR/8Ahu3vgxIXaQAAABdBmjxJ4Q8mUwU8K//94QAJ7mD7FuUmSQAAAA0BnltqR/8AhpMd/66QAAAAFkGaXknhDyZTBTwn//yEACaWs2l7cTgAAAANAZ59akf/AIbt74brpQAAABVBmn9J4Q8mUwIV//3hAAnrOokAqzQAAAAiQZqBSeEPJlMFETwr//3hAAozEgxJX0HitF1AFRMzepKaQAAAAA8BnqBqR/8AipMasHAbOzEAAAAYQZqjSeEPJlMFPCf//IQAJ7oabq3XIsE8AAAADwGewmpH/wCKkxq65hp24QAAABVBmsRJ4Q8mUwIV//3hAAYcXVSgr9kAAAAYQZrmSeEPJlMFETwr//3hAAYd7yRpyljgAAAAEgGfBWpH/wBT9xsMsADRGzhrXQAAABVBmwdJ4Q8mUwIV//3hAAYcXUSAV+wAAAAYQZsqSeEPJlMCFf/94QAGRE5CICwwN6bnAAAAEEGfSEURPH8AVm0JosVUnfEAAAAOAZ9pakf/AFY3GvmWpxgAAAAfQZtrSahBaJlMCFf//eEABkRdRKNgBoGNXERds8YYwAAAABhBm45J4QpSZTAhX/3hAAZP0b/NyEQKf8EAAAAQQZ+sRTRMfwBWbQmoZcqk8AAAAA4Bn81qR/8AVkfHQgnJ4QAAABZBm89JqEFomUwIV//94QADs00mL43MAAAAKEGb80nhClJlMCFf/eEAA8m/owA1O6pGQ2aE8JZErAxxuny04YgzqFsAAAAQQZ4RRTRMI/8AKhV2S8N/3wAAAA8BnjB0R/8ANNJJo36wUmEAAAANAZ4yakf/ADTN99R8CQAAABZBmjRJqEFomUwIV//94QADyU0zwLawAAAAG0GaVknhClJlMFESwr/94QADyoNeCm9Rn/BLgAAAAA4BnnVqR/8ANLGGDfQ4SQAAAB5BmnhJ4Q6JlMFEwr/94QADz+jgv1SDEBlpMhBdUQgAAAAWAZ6Xakf/ADSxhg8yDgdW4AVGeZuoyAAAACBBmppJ4Q8mUwU8K//94QACWluSTtRwBAu2/dfDzafsQQAAAA4BnrlqR/8AH7JxfMteMQAAABZBmrxJ4Q8mUwU8K//94QACWaSDErwjAAAADQGe22pH/wAfxF50tRwAAAAWQZreSeEPJlMFPCf//IQACSWs2l7juAAAAA0Bnv1qR/8AH7JxgAPhAAAAFUGa/0nhDyZTAhX//eEAAlmuokAwjAAAABxBmwFJ4Q8mUwURPCv//eEAAmmkgxJX0HitBXLwAAAADwGfIGpH/wAgpMasHAbkcQAAABhBmyNJ4Q8mUwU8J//8hAAJaSFret26SmQAAAAPAZ9Cakf/ACCkxq65hsNhAAAAFUGbREnhDyZTAhX//eEAAXNnVSg1eQAAABhBm2ZJ4Q8mUwURPCv//eEAAXPLyRpysSAAAAANAZ+Fakf/ABPdxsAMcQAAABVBm4dJ4Q8mUwIV//3hAAFzZ1EgGrwAAAAYQZuqSeEPJlMCFf/94QABfROQiAsO8ddVAAAAEEGfyEURPH8AFHtCaLFVNfEAAAAOAZ/pakf/ABRtxr5ltDgAAAAYQZvrSahBaJlMCF///fEAAOzddipFAiY4AAAAHkGaD0nhClJlMCF//fEAAO56bsLj1UAJi1y7Bk3TPQAAABVBni1FNEwj/wAP3VxITBg2xG/MeoAAAAAPAZ5MdEf/ABRrsSxQHemhAAAAGwGeTmpH/wAMT/NoAG0L2etcEnJt5otr3qeDgAAAABVBmlNJqEFomUwIX//98QAAj3wDhT0AAAANQZ5xRREsI/8ACaugqwAAAAsBnpB0R/8ADDvbTQAAAAkBnpJqR/8ABJ0AAAASQZqXSahBbJlMCF///fEAADZgAAAAC0GetUUVLCP/AAOmAAAACQGe1HRH/wAEnQAAAAkBntZqR/8ABJwAAAASQZrbSahBbJlMCF///fEAADZgAAAAC0Ge+UUVLCP/AAOnAAAACQGfGHRH/wAEnQAAAAkBnxpqR/8ABJ0AAAASQZsfSahBbJlMCF///fEAADZgAAAAC0GfPUUVLCP/AAOmAAAACQGfXHRH/wAEnQAAAAkBn15qR/8ABJwAAABLQZtDSahBbJlMCFf//eTjRuxh5iAU+/IHF8/wdOE6SpUdzycjXABgitNwIHvq0kTpnR1yG/2UlMOEpTElKwksfXzX5nIJYK1HzelAAAAAE0GfYUUVLCP/JK0bUr55hee2Ig0AAAANAZ+AdEf/Ki72wQNI+AAAABEBn4JqR/8jLed2VMMFCytENQAAACpBm4VJqEFsmUwUTC///fJLui5/fm2xEnBU42lv4w1m5pjN2sADq9Nc04EAAAASAZ+kakf/IsFbshtq1+JkHJhoAAAAGEGbqEnhClJlMCF//fEABh6nBg0gxVG8gQAAABJBn8ZFNEx/AII8BgNbkdzBR/wAAAAQAZ/nakf/AILt8U0yRIz6OQAAACBBm+xJqEFomUwIV//94QAF/dkgG7q6IAn5G1v6hp6cKQAAABNBngpFESwj/wBnP6eemAZ3GVuAAAAAEAGeKXRH/wB+y3qDF/duFu0AAAAPAZ4rakf/AH8cGByktj8xAAAAGkGaL0moQWyZTAhX//3hAAYnf9Wgcw+VMuWgAAAAEEGeTUUVLH8Af0REoHAQVOsAAAAPAZ5uakf/AH8cF3MQWH5gAAAAH0GacUmoQWyZTBRMK//94QAGHEkOLeDzsSMWyTKQV6UAAAAQAZ6Qakf/AH9ERrwuCDYaSQAAAB5BmpNJ4QpSZTBSwr/94QAGHEkONh1yfQEd+ga9+YEAAAAOAZ6yakf/AFP3GvmWp2kAAAAYQZq1SeEOiZTBRML//fEAA8lpB9SKBDh8AAAADgGe1GpH/wBT9xr/glK4AAAAHEGa2EnhDyZTAhf//fEAA8/9OrhJTYf3iQvUofEAAAAUQZ72RRE8fwBT9HANuYbL5EKYfsQAAAARAZ8Xakf/AFP3Gv7mGy/KtT4AAAA8QZscSahBaJlMCFf//eEABid/2y8AUkSCgAn3Sx4L/S2H7+LJlP/IQ7rfVrECExIPgm8C6b8IZfcboH1hAAAAE0GfOkURLCP/ACjd/QYnB28BbsEAAAASAZ9ZdEf/ADNp8v6k2fk4W2AhAAAAEAGfW2pH/wAzcYYOmim5hFAAAAAXQZtfSahBbJlMCFf//eEAA7RIcw+SU3MAAAASQZ99RRUsfwAzjffUkGHNHc35AAAAEAGfnmpH/wAzcYYOmim5hFAAAAAkQZuBSahBbJlMFEwr//3hAAPJPnmJcHnxIxbU7onKlV9T+ouAAAAAEQGfoGpH/wA00bzEE3I69I+BAAAAGUGbo0nhClJlMFLCv/3hAAPJPnmWf+RXy+AAAAARAZ/Cakf/ADSxhgj3PgNPa5UAAAAYQZvFSeEOiZTBRML//fEAAmm7w4pFAh4lAAAADgGf5GpH/wA0sYYN9DhIAAAAHEGb6EnhDyZTAhf//fEAAm3+P9wkpsP7xIXqWJEAAAAQQZ4GRRE8fwA0r6auuYawkAAAAA8BnidqR/8ANLGGDW4awkEAAAAiQZosSahBaJlMCFf//eEAA8+/7ZfeWgSoqABPuljvX+k9IQAAABBBnkpFESwj/wAZuVwDE4JhAAAADwGeaXRH/wAfr4O62krxgAAAAA0BnmtqR/8AH7JxgAPhAAAAF0Gab0moQWyZTAhX//3hAAJZpyDErwjAAAAADkGejUUVLH8AH8Re1No5AAAADQGermpH/wAfsnGAA+AAAAAdQZqxSahBbJlMFEwr//3hAAJppIcW8HnYkYtkm8UAAAAOAZ7Qakf/ACC+K4YTXXEAAAAbQZrTSeEKUmUwUsK//eEAAmmkhx+WbNwTQz9TAAAADgGe8mpH/wAgpMd8y12xAAAAGEGa9UnhDomUwUTC//3xAAGHJsOOUoEQfAAAAA4BnxRqR/8AIKTHf8Ew2AAAABhBmxhJ4Q8mUwIX//3xAAGJ9N194kLhQ+EAAAAQQZ82RRE8fwAgo30G3MNhsAAAAA8Bn1dqR/8AIKTHf3MNhsAAAAAeQZtcSahBaJlMCFf//eEAAX0UpIgLDvKFY+d7uIvBAAAAE0GfekURLCP/AA/aTgGJyM5qdm0AAAAPAZ+ZdEf/ABR8nFG/WFfBAAAAEAGfm2pH/wAUbcbAYGGgUrAAAAAdQZueSahBbJlMFEwr//3hAAF9EkOQH6FXo53lD4AAAAARAZ+9akf/ABRtxsBdR3V8P9EAAAAxQZugSeEKUmUwUsK//eEAAX0SQ5AjQb+mXbFg2ACdZK1VZHo2izRSjBi+y4foQ6mC4AAAABUBn99qR/8AFG3GwGtr4JU2PJPspRAAAAAiQZvDSeEOiZTAhX/94QABhxOQYksO8oVnrOb43f42GruLtwAAABdBn+FFFTx/ABULQmixVaq+emWE733DdAAAABYBngJqR/8AFQtCaUT/xYeBhcoEKPp1AAAAI0GaBUmoQWiZTBTwr/3hAAGHEkOQILRNXHW5QH0DQXksudutAAAAGQGeJGpH/wAVC0Jr1gAZ8zk7ypBHMS1E0qQAAAAdQZonSeEKUmUwUsL//fEAAPJaQfUzXbcYjVsiycEAAAATAZ5Gakf/ABULQmpqsWCXi8mnvAAAACZBmktJ4Q6JlMCFf/3hAAGJ8oo8U7om/syAFqhJOaRXQM28zEx9ZwAAABxBnmlFFTwj/wAQI55SoxZAbX1WADa6koeKAj6BAAAAEQGeiHRH/wAU/hKnIeJLBz8IAAAAHAGeimpH/wAN2KWYkFLLQAhSOrItXkv8PrDyeUAAAAAZQZqPSahBaJlMCFf//eEAAP2XFlDM0aPDTwAAABJBnq1FESwj/wAQZIXeOLx65SgAAAAOAZ7MdEf/AA3RT1L0UkMAAAANAZ7Oakf/AA3YnR2yQAAAAEhBmtFJqEFsmUwUTCv//eEAAQbhqBD+SQBEg1gci0nwvs0rQ3miwtPU002tP/Hh3S9jnnHeN3GJ86NnDyeW20Qm34kZ656qg7EAAAATAZ7wakf/ABUTso1gXKFi7tiYrQAAADdBmvJJ4QpSZTAhX/3hAAEFLhshvsNQCifwAV8GwKVAA7ovs7aAbJx8rJ4PYELr1HZDQD5ZVr4JAAAAHEGbFUnhDomUwIV//eEAAQTSVrxI6lhlxsh5mb0AAAAVQZ8zRRE8fwAVEF1G7k6ik2A9m++YAAAADgGfVGpH/wAOJFXjMABNAAAAGUGbWUmoQWiZTAhX//3hAAEFNnLUeSmwN1UAAAAYQZ93RREsI/8AEGSF9neYEor+uB7wi/+AAAAAEgGflnRH/wAOH2g7qrWQ5DGYzQAAABIBn5hqR/8ADinzyJIQkwA5mM0AAAAeQZuaSahBbJlMCFf//eEAAQTSEb7OaSTXjMrVUpDxAAAAEUGbvknhClJlMCFf/eEAAFbBAAAAFkGf3EU0TCP/ABBiQAZmNIPv9D/xRPAAAAATAZ/7dEf/AA6Dzj89dheljWgb2AAAABIBn/1qR/8ADiCo+OGkqVdpGaEAAAAdQZv/SahBaJlMCFf//eEAAQTSVrp7PAeqx42ZQ6AAAAAZQZoCSeEKUmUwIV/94QABBUest+EtPEnQ8AAAABZBniBFNEx/ABUQXUwvnMw9M0SmF75pAAAAEgGeQWpH/wAOKivIIFFAAHMxmgAAAEBBmkNJqEFomUwIV//95Z6dgzDOJwuDifIBiJbAnH/ZJWos5BZKTtGufZnylbkIjaN0E7kbHDYWoNQJxkC7DThBAAAANUGaZknhClJlMCFf/eEAC5yktAAQn/y2M0jIIIcKlNH1sz2CMMYWH7C/qj5tuIS/4QmuPGw1AAAAF0GehEU0TH8An2dmsILUUn9OnxV1HGEwAAAAFwGepWpH/wCj5e1sTMdsqvyzo/mx3qW9AAAAGEGaqEmoQWiZTBTwr/3hAAubFESAJiJ9BAAAABIBnsdqR/8ApBvMhvgvBeyxbxkAAAAgQZrLSeEKUmUwIV/94QALn2/H9Q0VxWW12Yd1y3KzaoUAAAAaQZ7pRTRMfwCkAmkwMz2iedbTqEvbRD3r8m8AAAAZAZ8Kakf/AKPme4yv/wBIJtue3Fh1rahXeAAAACdBmwxJqEFomUwIV//94QAG5F9UWFQNqAIzgLpyfZ7hV4E79wsLH18AAAArQZsvSeEKUmUwIV/94QAG73/ZRVT4111wAUhIMn6suuYvyIOFZx9tYOIE0AAAAB1Bn01FNEx/AKQC43oIehC9Pz9jHwkEFmQOtxyZIQAAABgBn25qR/8Ao+etaN8CxGaWsv4UXCnEeS4AAAAcQZtySahBaJlMCFf//eEABr3w64MkqTPWxbrpHwAAABVBn5BFESx/AKQdhj09B9iRFz6nv4EAAAARAZ+xakf/AKPnrWjfAsRlzsEAAAAWQZuzSahBbJlMCFf//eEABrxfVKCuuQAAADBBm9ZJ4QpSZTAhX/3hAAbH76Qe4dDg/Ag8gy2M0jIIIcKlNH1s0FAjTJZ02C/s9qYAAAAVQZ/0RTRMfwCkAuMpyIlaQX8s8QUOAAAAEwGeFWpH/wCj56y0bycZWstRjsEAAAAYQZoYSahBaJlMFPC//fEABBN4ZxSKBDgEAAAAEwGeN2pH/wCkHYU/oHwIfzxjmyAAAAAYQZo7SeEKUmUwIX/98QAEG9rDqN/ANFAJAAAAFkGeWUU0TH8ApALivr2Mzkh51tKfp8cAAAATAZ56akf/AKPnrAJCKhAALlR2QQAAACdBmn9JqEFomUwIV//94QAD5b/qpRGoArf///CuNA4IraDlh/EjzA0AAAAUQZ6dRREsI/8Afz7gmAKjM/FzOpsAAAASAZ68dEf/AKNwV71NfpSbcv9tAAAAEQGevmpH/wCj55SzoRWTeidgAAAAF0GaokmoQWyZTAhX//3hAAPJQmYG+NpAAAAAEkGewEUVLH8ApB18Qs21WgCL7QAAABEBnuFqR/8Ao+eUnkkIpvq+wAAAABZBmuNJqEFsmUwIV//94QADyU7bwLaxAAAALkGbBknhClJlMCFf/eEAA8+/vm1zCAIH/5bGaRkEEOFSmj62Z7BGGMLD9hf2fL8AAAAVQZ8kRTRMfwCkAt4hZto8vd9Z/iPdAAAAEwGfRWpH/wCj55RUyYdNq17w4HEAAAAbQZtISahBaJlMFPC//fEAAm3RIZuGcdNwfzFgAAAAFAGfZ2pH/wCkHXw8Gn0Aq4bZy8JBAAAAGUGba0nhClJlMCF//fEAAl3wDbWnMBUicmEAAAAUQZ+JRTRMfwCkAt308dchE9RK2yQAAAASAZ+qakf/AKPnk+5JB5E9Q+LJAAAAIUGbr0moQWiZTAhX//3hAAI90TUVwd0r4PlCgChJBk/VmwAAABZBn81FESwj/wB/PuAzj38xjWL36tBQAAAAEgGf7HRH/wCjcEeI9H9KVQ4TOQAAABIBn+5qR/8Ao+eTVt0S9ea3i0AAAAAXQZvySahBbJlMCFf//eEAAimnQ0SvEYEAAAATQZ4QRRUsfwCkHXumrrsNbzW/QQAAABIBnjFqR/8Ao+eTVtEhUAzidV8AAAAWQZozSahBbJlMCFf//eEAAimvqlBiMQAAADBBmlZJ4QpSZTAhX/3hAAIt+3xQ1i/4NAWUn5bGaRkEEOFSmj62aCgRpks6bBf2fzQAAAAXQZ50RTRMfwCkAt3THGtMyyu1RVox7YAAAAAUAZ6Vakf/AKPnk1bc8ei0A2gL9asAAAAYQZqYSahBaJlMFPC//fEAAVh3CI5SgREcAAAAFQGet2pH/wCkHXums1uy0Aqim8SzwAAAABhBmrlJ4QpSZTAj//pYABAIu7Qas+ZWcO0AAAIvZYiCAA3//vau/MsrdH6VLh1ZbWZ9BLskABuEu9rbeKFT1LRk27f1H1oK4pveLnTwfwEFbMq+zPr7qG45wYVlG+hxaJTFfehe8P4NyHOfSApdygPD41Qd56BkzxggBa00b0kC/hk++jHifjJqH8pkNUlQhVeueWBtQhffp1MVfN5Inwop/hYvcRf5TaWrRn+alqzv5ZJLeGJUoZ6x5KqcJBbnSyDjqNcIQ9FFHu2jQEQnLOtblQhnSzSkxDPDL1JPT6AII+zTenilb9X6RgAAAwAUkeFcv09Y/zBY2+4yJ1OBp/vz4SePCxNQIJLxa+293HAACIqNqI1GTukSRLoR6+a3g8GWzmXmVpTn2vZNlvwOzbI+5n4ALZtTHtRJ2KgWQq2LyPv8+QBUiNlKobhd4px9YA5+KYfl+TPG1+Uzr4rBQedCu7INe0+BdihrqXV2odeZRjzGTBRN5E+dTXsHK6eOQLzIemITdSiSD1MyPWiG2Me/sGHzp2oI/pTOe0ujfucSQKOpHxKuutA3V+m3TUCg4hhQHsAMgaNuKdPDKLcHCt1YfRN966bOLv/UEt9HMoA2FTfq640i9taZbc1eZw1D5+MFu1FcdlSXTOJeCGTzjzJFmxXGETnJq9T0tKUeYb6F+sEWFZpK/US/3alKk4JroNoey2bl5QbiBAe/S8dPI/ja72z1UsV1uD1YoK9Oml1JhN6xmAoMs0rVQ5PofFBGLMcxHmurjfTECCMagQAAABpBmiJsQr/94QFklBXuRWvWxB4f6E/kazdtowAAAA8BnkF5H/8AHPgkSkGrAtAAAAAZQZpEPCGTKYQr//3hAAFI5PcrREkzmN8D4AAAAA4BnmNqR/8AEVVtUhNyoQAAABZBmmZJ4Q8mUwU8K//94QABPWKIkA3aAAAADgGehWpH/wAQwg82HTWAAAAAFkGaiUnhDyZTAhX//eEAAT1joaJXu0EAAAAPQZ6nRRE8fwAQx8+dce1gAAAADQGeyGpH/wAQ3cRqSDkAAAA0QZrMSahBaJlMCFf//eEAAT/k90RTKAGvQZbGaRkEEOFSmj62Z7BGGMLD9hf6lw7tdG4riQAAABVBnupFESx/ABDdxGjZ/3Ovk0qLNZ4AAAATAZ8Lakf/ABCgyQBjVcaeGUe/pQAAACVBmw5JqEFsmUwUTC///fEAAMn6aSwzirAuysT9ijEbIoMyjZo4AAAAEgGfLWpH/wAQ1McPMJUpobV6eQAAABhBmzFJ4QpSZTAhf/3xAADE+m6+8dRUg6EAAAAWQZ9PRTRMfwAQUbYLuG2fl3xfLU9C4AAAABIBn3BqR/8AEFJUwNYpNJFCjqQAAAAZQZt1SahBaJlMCF///fEAAKNynLdiJHM6+QAAABtBn5NFESwj/wALCCVteD5+ADXXF4H3yi3VQYAAAAAZAZ+ydEf/AA3RSfVuy8wAK2aYxIcPYDVewQAAAA4Bn7RqR/8ADdigx3FslQAAABZBm7lJqEFsmUwIX//98QAAo3zglak7AAAADkGf10UVLCP/AAsRg+WDAAAADQGf9nRH/wANqZK0d7EAAAAJAZ/4akf/AASdAAAAEkGb/UmoQWyZTAhf//3xAAA2YAAAAA9BnhtFFSwj/wALF/l7BggAAAAMAZ46dEf/AA3WV+qtAAAADQGePGpH/wANqZK0d7AAAAASQZohSahBbJlMCFf//eEAAFbAAAAAEEGeX0UVLCP/AAsPxNzorEEAAAAOAZ5+dEf/AA3Kc2/TSSEAAAAMAZ5gakf/AA3OsdxZAAAAFkGaZUmoQWyZTAhP//yEAAPgM3+Ez4AAAAAQQZ6DRRUsI/8ACvdrfncTBAAAAAwBnqJ0R/8ADcvS95MAAAAOAZ6kakf/AA3Tez2orVgAAAAXQZqmSahBbJlMCE///IQAA97wYRtIRpAAAAAsQZrHSeEKUmUwIT/8hAAD9PGRZyFL8IAAH87Lv4WAegr0lMVqqd/PY9d5CHkAAAA2QZrpSeEOiZTBTRMI//pYAAf8wizH3WCMNFVoANd14Ps2Me5czznsfxV1opbAiBE9f/X/Op9fAAAAEwGfCGpH/wAOeMmQf3ELkV1KUUEAAAAcQZsKSeEPJlMCP//6WAAH/DPKEDYfhPPTg26dNQAAJNJtb292AAAAbG12aGQAAAAAAAAAAAAAAAAAAAPoAAAzoQABAAABAAAAAAAAAAAAAAAAAQAAAAAAAAAAAAAAAAAAAAEAAAAAAAAAAAAAAAAAAEAAAAAAAAAAAAAAAAAAAAAAAAAAAAAAAAAAAAAAAAACAAAj/HRyYWsAAABcdGtoZAAAAAMAAAAAAAAAAAAAAAEAAAAAAAAzoQAAAAAAAAAAAAAAAAAAAAAAAQAAAAAAAAAAAAAAAAAAAAEAAAAAAAAAAAAAAAAAAEAAAAABQAAAANIAAAAAACRlZHRzAAAAHGVsc3QAAAAAAAAAAQAAM6EAAAIAAAEAAAAAI3RtZGlhAAAAIG1kaGQAAAAAAAAAAAAAAAAAADwAAAMZAFXEAAAAAAAtaGRscgAAAAAAAAAAdmlkZQAAAAAAAAAAAAAAAFZpZGVvSGFuZGxlcgAAACMfbWluZgAAABR2bWhkAAAAAQAAAAAAAAAAAAAAJGRpbmYAAAAcZHJlZgAAAAAAAAABAAAADHVybCAAAAABAAAi33N0YmwAAACXc3RzZAAAAAAAAAABAAAAh2F2YzEAAAAAAAAAAQAAAAAAAAAAAAAAAAAAAAABQADSAEgAAABIAAAAAAAAAAEAAAAAAAAAAAAAAAAAAAAAAAAAAAAAAAAAAAAAAAAAAAAY//8AAAAxYXZjQwFkABX/4QAZZ2QAFazZQUHfiIQAAAMABAAAAwHgPFi2WAEABWjr5yyLAAAAGHN0dHMAAAAAAAAAAQAAAxkAAAEAAAAAIHN0c3MAAAAAAAAABAAAAAEAAAD7AAAB9QAAAu8AABVgY3R0cwAAAAAAAAKqAAAAAQAAAgAAAAABAAAFAAAAAAEAAAIAAAAAAQAAAAAAAAABAAABAAAAAAEAAAIAAAAAAQAABAAAAAACAAABAAAAAAEAAAMAAAAAAQAAAQAAAAABAAAFAAAAAAEAAAIAAAAAAQAAAAAAAAABAAABAAAAAAEAAAUAAAAAAQAAAgAAAAABAAAAAAAAAAEAAAEAAAAAAQAABAAAAAACAAABAAAAAAEAAAUAAAAAAQAAAgAAAAABAAAAAAAAAAEAAAEAAAAAAgAAAgAAAAABAAAEAAAAAAIAAAEAAAAAAQAAAgAAAAABAAAEAAAAAAIAAAEAAAAAAQAABAAAAAACAAABAAAAAAEAAAMAAAAAAQAAAQAAAAABAAAEAAAAAAIAAAEAAAAAAQAABQAAAAABAAACAAAAAAEAAAAAAAAAAQAAAQAAAAABAAAEAAAAAAIAAAEAAAAAAQAAAgAAAAABAAADAAAAAAEAAAEAAAAAAQAABQAAAAABAAACAAAAAAEAAAAAAAAAAQAAAQAAAAACAAACAAAAAAEAAAQAAAAAAgAAAQAAAAABAAADAAAAAAEAAAEAAAAAAQAAAgAAAAABAAADAAAAAAEAAAEAAAAAAQAABAAAAAACAAABAAAAAAEAAAQAAAAAAgAAAQAAAAABAAADAAAAAAEAAAEAAAAAAQAABQAAAAABAAACAAAAAAEAAAAAAAAAAQAAAQAAAAABAAAFAAAAAAEAAAIAAAAAAQAAAAAAAAABAAABAAAAAAEAAAIAAAAAAQAABQAAAAABAAACAAAAAAEAAAAAAAAAAQAAAQAAAAABAAAFAAAAAAEAAAIAAAAAAQAAAAAAAAABAAABAAAAAAEAAAQAAAAAAgAAAQAAAAABAAADAAAAAAEAAAEAAAAAAQAAAgAAAAABAAAFAAAAAAEAAAIAAAAAAQAAAAAAAAABAAABAAAAAAEAAAUAAAAAAQAAAgAAAAABAAAAAAAAAAEAAAEAAAAAAQAAAgAAAAABAAADAAAAAAEAAAEAAAAAAQAAAwAAAAABAAABAAAAAAEAAAMAAAAAAQAAAQAAAAABAAAEAAAAAAIAAAEAAAAAAQAABAAAAAACAAABAAAAAAEAAAMAAAAAAQAAAQAAAAABAAAEAAAAAAIAAAEAAAAAAQAABQAAAAABAAACAAAAAAEAAAAAAAAAAQAAAQAAAAABAAADAAAAAAEAAAEAAAAAAQAABAAAAAACAAABAAAAAAEAAAMAAAAAAQAAAQAAAAABAAADAAAAAAEAAAEAAAAAAQAABAAAAAACAAABAAAAAAEAAAUAAAAAAQAAAgAAAAABAAAAAAAAAAEAAAEAAAAAAQAABAAAAAACAAABAAAAAAEAAAIAAAAAAQAABAAAAAACAAABAAAAAAEAAAMAAAAAAQAAAQAAAAABAAAEAAAAAAIAAAEAAAAAAQAABQAAAAABAAACAAAAAAEAAAAAAAAAAQAAAQAAAAABAAAEAAAAAAIAAAEAAAAAAQAAAgAAAAABAAAEAAAAAAIAAAEAAAAAAQAAAwAAAAABAAABAAAAAAEAAAQAAAAAAgAAAQAAAAABAAAFAAAAAAEAAAIAAAAAAQAAAAAAAAABAAABAAAAAAEAAAQAAAAAAgAAAQAAAAABAAAFAAAAAAEAAAIAAAAAAQAAAAAAAAABAAABAAAAAAEAAAMAAAAAAQAAAQAAAAABAAAEAAAAAAIAAAEAAAAAAQAABQAAAAABAAACAAAAAAEAAAAAAAAAAQAAAQAAAAABAAAFAAAAAAEAAAIAAAAAAQAAAAAAAAABAAABAAAAAAEAAAUAAAAAAQAAAgAAAAABAAAAAAAAAAEAAAEAAAAAAQAAAwAAAAABAAABAAAAAAEAAAMAAAAAAQAAAQAAAAABAAADAAAAAAEAAAEAAAAAAQAABQAAAAABAAACAAAAAAEAAAAAAAAAAQAAAQAAAAABAAAEAAAAAAIAAAEAAAAAAQAAAgAAAAABAAAEAAAAAAIAAAEAAAAAAQAAAwAAAAABAAABAAAAAAEAAAQAAAAAAgAAAQAAAAABAAAFAAAAAAEAAAIAAAAAAQAAAAAAAAABAAABAAAAAAEAAAQAAAAAAgAAAQAAAAABAAACAAAAAAEAAAQAAAAAAgAAAQAAAAABAAADAAAAAAEAAAEAAAAAAQAABAAAAAACAAABAAAAAAEAAAUAAAAAAQAAAgAAAAABAAAAAAAAAAEAAAEAAAAAAQAABAAAAAACAAABAAAAAAEAAAIAAAAAAQAABAAAAAACAAABAAAAAAIAAAIAAAAAAQAABAAAAAACAAABAAAAAAEAAAMAAAAAAQAAAQAAAAABAAADAAAAAAEAAAEAAAAAAQAABAAAAAACAAABAAAAAAEAAAUAAAAAAQAAAgAAAAABAAAAAAAAAAEAAAEAAAAAAQAAAgAAAAABAAAEAAAAAAIAAAEAAAAAAQAAAwAAAAABAAABAAAAAAEAAAMAAAAAAQAAAQAAAAAHAAACAAAAAAEAAAMAAAAAAQAAAQAAAAABAAACAAAAAAEAAAMAAAAAAQAAAQAAAAABAAAEAAAAAAIAAAEAAAAAAQAAAwAAAAABAAABAAAAAAYAAAIAAAAAAQAAAwAAAAABAAABAAAAAAEAAAIAAAAAAQAAAwAAAAABAAABAAAAAAEAAAQAAAAAAgAAAQAAAAABAAADAAAAAAEAAAEAAAAABgAAAgAAAAABAAADAAAAAAEAAAEAAAAAAQAAAgAAAAABAAADAAAAAAEAAAEAAAAAAQAABAAAAAACAAABAAAAAAEAAAMAAAAAAQAAAQAAAAAGAAACAAAAAAEAAAMAAAAAAQAAAQAAAAABAAACAAAAAAEAAAMAAAAAAQAAAQAAAAABAAAEAAAAAAIAAAEAAAAAAQAAAwAAAAABAAABAAAAAAMAAAIAAAAAAQAAAwAAAAABAAABAAAAAAEAAAIAAAAAAQAAAwAAAAABAAABAAAAAAEAAAIAAAAAAQAAAwAAAAABAAABAAAAAAIAAAIAAAAAAQAAAwAAAAABAAABAAAAAAEAAAUAAAAAAQAAAgAAAAABAAAAAAAAAAEAAAEAAAAAAQAAAwAAAAABAAABAAAAAAEAAAMAAAAAAQAAAQAAAAABAAACAAAAAAEAAAMAAAAAAQAAAQAAAAABAAACAAAAAAEAAAMAAAAAAQAAAQAAAAABAAADAAAAAAEAAAEAAAAABAAAAgAAAAABAAADAAAAAAEAAAEAAAAAAQAAAwAAAAABAAABAAAAAAEAAAIAAAAAAQAAAwAAAAABAAABAAAAAAEAAAIAAAAAAQAAAwAAAAABAAABAAAAAAEAAAMAAAAAAQAAAQAAAAACAAACAAAAAAEAAAMAAAAAAQAAAQAAAAABAAADAAAAAAEAAAEAAAAAAQAAAwAAAAABAAABAAAAAAEAAAIAAAAAAQAAAwAAAAABAAABAAAAAAEAAAIAAAAAAQAAAwAAAAABAAABAAAAAAEAAAMAAAAAAQAAAQAAAAACAAACAAAAAAEAAAMAAAAAAQAAAQAAAAABAAADAAAAAAEAAAEAAAAAAQAAAwAAAAABAAABAAAAAAEAAAIAAAAAAQAAAwAAAAABAAABAAAAAAEAAAIAAAAAAQAAAwAAAAABAAABAAAAAAEAAAMAAAAAAQAAAQAAAAACAAACAAAAAAEAAAMAAAAAAQAAAQAAAAABAAADAAAAAAEAAAEAAAAAAQAAAwAAAAABAAABAAAAAAEAAAIAAAAAAQAAAwAAAAABAAABAAAAAAEAAAIAAAAAAQAAAwAAAAABAAABAAAAAAEAAAMAAAAAAQAAAQAAAAACAAACAAAAAAEAAAMAAAAAAQAAAQAAAAABAAADAAAAAAEAAAEAAAAAAQAAAwAAAAABAAABAAAAAAEAAAIAAAAAAQAABQAAAAABAAACAAAAAAEAAAAAAAAAAQAAAQAAAAADAAACAAAAAAEAAAUAAAAAAQAAAgAAAAABAAAAAAAAAAEAAAEAAAAAAQAABAAAAAACAAABAAAAAAEAAAMAAAAAAQAAAQAAAAABAAADAAAAAAEAAAEAAAAAAQAABQAAAAABAAACAAAAAAEAAAAAAAAAAQAAAQAAAAACAAACAAAAAAEAAAMAAAAAAQAAAQAAAAABAAAFAAAAAAEAAAIAAAAAAQAAAAAAAAABAAABAAAAAAEAAAMAAAAAAQAAAQAAAAABAAADAAAAAAEAAAEAAAAAAQAAAwAAAAABAAABAAAAAAEAAAMAAAAAAQAAAQAAAAABAAACAAAAAAEAAAMAAAAAAQAAAQAAAAABAAACAAAAAAEAAAUAAAAAAQAAAgAAAAABAAAAAAAAAAEAAAEAAAAAAQAAAgAAAAABAAADAAAAAAEAAAEAAAAAAQAAAgAAAAABAAAFAAAAAAEAAAIAAAAAAQAAAAAAAAABAAABAAAAAAIAAAIAAAAAAQAAAwAAAAABAAABAAAAAAEAAAIAAAAAAQAABAAAAAACAAABAAAAAAEAAAMAAAAAAQAAAQAAAAABAAADAAAAAAEAAAEAAAAAAQAABQAAAAABAAACAAAAAAEAAAAAAAAAAQAAAQAAAAABAAAEAAAAAAIAAAEAAAAAAgAAAgAAAAABAAAEAAAAAAIAAAEAAAAAAQAAAwAAAAABAAABAAAAAAEAAAIAAAAAAQAAAwAAAAABAAABAAAAAAEAAAMAAAAAAQAAAQAAAAABAAADAAAAAAEAAAEAAAAAAQAAAwAAAAABAAABAAAAAAEAAAIAAAAAAQAAAwAAAAABAAABAAAAAAEAAAMAAAAAAQAAAQAAAAABAAACAAAAAAEAAAMAAAAAAQAAAQAAAAABAAACAAAAAAEAAAQAAAAAAgAAAQAAAAABAAACAAAAAAEAAAQAAAAAAgAAAQAAAAABAAACAAAAAAEAAAUAAAAAAQAAAgAAAAABAAAAAAAAAAEAAAEAAAAAAQAAAgAAAAABAAADAAAAAAEAAAEAAAAAAQAAAwAAAAABAAABAAAAAAEAAAMAAAAAAQAAAQAAAAABAAADAAAAAAEAAAEAAAAAAQAAAwAAAAABAAABAAAAAAEAAAIAAAAAAQAAAwAAAAABAAABAAAAAAEAAAMAAAAAAQAAAQAAAAABAAACAAAAAAEAAAMAAAAAAQAAAQAAAAABAAACAAAAAAEAAAQAAAAAAgAAAQAAAAABAAACAAAAAAEAAAUAAAAAAQAAAgAAAAABAAAAAAAAAAEAAAEAAAAAAQAABQAAAAABAAACAAAAAAEAAAAAAAAAAQAAAQAAAAABAAAFAAAAAAEAAAIAAAAAAQAAAAAAAAABAAABAAAAAAEAAAUAAAAAAQAAAgAAAAABAAAAAAAAAAEAAAEAAAAAAQAABQAAAAABAAACAAAAAAEAAAAAAAAAAQAAAQAAAAABAAAFAAAAAAEAAAIAAAAAAQAAAAAAAAABAAABAAAAAAEAAAMAAAAAAQAAAQAAAAABAAAEAAAAAAIAAAEAAAAAAQAABQAAAAABAAACAAAAAAEAAAAAAAAAAQAAAQAAAAABAAAEAAAAAAIAAAEAAAAAAQAAAwAAAAABAAABAAAAAAEAAAMAAAAAAQAAAQAAAAABAAADAAAAAAEAAAEAAAAAAQAABAAAAAACAAABAAAAAAEAAAUAAAAAAQAAAgAAAAABAAAAAAAAAAEAAAEAAAAAAQAABAAAAAACAAABAAAAAAEAAAMAAAAAAQAAAQAAAAABAAADAAAAAAEAAAEAAAAAAQAAAwAAAAABAAABAAAAAAEAAAQAAAAAAgAAAQAAAAABAAAFAAAAAAEAAAIAAAAAAQAAAAAAAAABAAABAAAAAAEAAAQAAAAAAgAAAQAAAAABAAADAAAAAAEAAAEAAAAAAQAAAwAAAAABAAABAAAAAAEAAAMAAAAAAQAAAQAAAAABAAAEAAAAAAIAAAEAAAAAAQAABQAAAAABAAACAAAAAAEAAAAAAAAAAQAAAQAAAAABAAADAAAAAAEAAAEAAAAAAQAAAwAAAAABAAABAAAAAAEAAAQAAAAAAgAAAQAAAAABAAADAAAAAAEAAAEAAAAAAQAAAwAAAAABAAABAAAAAAEAAAUAAAAAAQAAAgAAAAABAAAAAAAAAAEAAAEAAAAAAQAABQAAAAABAAACAAAAAAEAAAAAAAAAAQAAAQAAAAABAAADAAAAAAEAAAEAAAAAAQAAAgAAAAABAAAEAAAAAAIAAAEAAAAAAQAABQAAAAABAAACAAAAAAEAAAAAAAAAAQAAAQAAAAABAAACAAAAAAEAAAUAAAAAAQAAAgAAAAABAAAAAAAAAAEAAAEAAAAAAQAAAgAAAAABAAAEAAAAAAIAAAEAAAAAAQAAAgAAAAABAAAEAAAAAAIAAAEAAAAAAQAAAwAAAAABAAABAAAAAAEAAAQAAAAAAgAAAQAAAAABAAACAAAAAAEAAAQAAAAAAgAAAQAAAAABAAAEAAAAAAIAAAEAAAAAAQAAAgAAAAABAAAEAAAAAAIAAAEAAAAAAQAAAwAAAAABAAABAAAAAAEAAAQAAAAAAgAAAQAAAAABAAAFAAAAAAEAAAIAAAAAAQAAAAAAAAABAAABAAAAAAEAAAQAAAAAAgAAAQAAAAABAAACAAAAAAEAAAQAAAAAAgAAAQAAAAABAAADAAAAAAEAAAEAAAAAAQAABAAAAAACAAABAAAAAAEAAAUAAAAAAQAAAgAAAAABAAAAAAAAAAEAAAEAAAAAAQAABAAAAAACAAABAAAAAAEAAAIAAAAAAQAABAAAAAACAAABAAAAAAEAAAMAAAAAAQAAAQAAAAACAAACAAAAAAEAAAMAAAAAAQAAAQAAAAABAAADAAAAAAEAAAEAAAAAAQAAAwAAAAABAAABAAAAAAEAAAQAAAAAAgAAAQAAAAABAAAEAAAAAAIAAAEAAAAAAQAAAwAAAAABAAABAAAAAAEAAAQAAAAAAgAAAQAAAAABAAAFAAAAAAEAAAIAAAAAAQAAAAAAAAABAAABAAAAAAEAAAUAAAAAAQAAAgAAAAABAAAAAAAAAAEAAAEAAAAAAQAABQAAAAABAAACAAAAAAEAAAAAAAAAAQAAAQAAAAABAAAFAAAAAAEAAAIAAAAAAQAAAAAAAAABAAABAAAAAAEAAAUAAAAAAQAAAgAAAAABAAAAAAAAAAEAAAEAAAAAAgAAAgAAAAABAAADAAAAAAEAAAEAAAAAAQAAAgAAAAAcc3RzYwAAAAAAAAABAAAAAQAAAxkAAAABAAAMeHN0c3oAAAAAAAAAAAAAAxkAAASzAAAAWgAAACAAAAAcAAAAGwAAADsAAAAbAAAAIAAAAB4AAAAoAAAAGgAAACUAAAAbAAAAGgAAABgAAAA1AAAAHAAAABoAAAAcAAAAJgAAABwAAAAbAAAAJQAAAB0AAAAdAAAAGgAAACgAAAAdAAAALwAAAB4AAAAaAAAAJAAAACQAAAAXAAAAGQAAACkAAAAcAAAAGgAAACcAAAAaAAAAJQAAABoAAAAYAAAAKQAAABwAAAAbAAAAGQAAAEQAAAAbAAAALAAAACoAAAAzAAAAGwAAACgAAAAeAAAAFgAAABsAAAA7AAAAKgAAAEEAAAAYAAAAGwAAAEEAAAAdAAAAKwAAACcAAAAZAAAAJQAAAB4AAAAZAAAAKQAAABwAAAAaAAAAJAAAABoAAAAYAAAAIgAAACUAAAAUAAAAPAAAABsAAAAYAAAAFwAAACAAAAAnAAAAGwAAABgAAAAVAAAAIAAAABgAAAATAAAAEwAAACAAAAATAAAAFAAAACEAAAAXAAAAHwAAAFIAAAAdAAAAFgAAABgAAAAzAAAAHgAAAC4AAAAcAAAAKQAAAC4AAAAcAAAAJgAAABwAAAAkAAAAHAAAACMAAAAaAAAAGQAAADMAAAAfAAAAHQAAACkAAAAbAAAAHQAAABwAAAAdAAAALAAAACAAAAAaAAAAGgAAACQAAAAZAAAALAAAABwAAAAcAAAAKwAAABsAAAAmAAAAHwAAACEAAAAZAAAAGAAAACoAAAAaAAAAGAAAABYAAAAbAAAAFwAAABcAAAAeAAAAOQAAABwAAAAZAAAAIQAAABkAAAAjAAAAGQAAAB0AAAAwAAAAGQAAABQAAAAWAAAAHwAAABcAAAATAAAAIAAAADIAAAAXAAAAFQAAAB4AAAAWAAAAIQAAABwAAAAZAAAAJgAAACUAAAAjAAAAGQAAACMAAAAWAAAAGQAAACAAAAAaAAAAFQAAABUAAAAoAAAAGgAAACMAAAAaAAAAFgAAABsAAAAVAAAAFAAAABQAAAAbAAAAFgAAABQAAAAUAAAASQAAABYAAAAPAAAAFAAAACEAAAAoAAAAHAAAABUAAAAdAAAAFQAAACoAAAAXAAAAFAAAABMAAAAbAAAAFAAAABMAAAAaAAAAMgAAABcAAAAVAAAAHwAAABYAAAAiAAAAGgAAABcAAAAqAAAAGwAAABgAAAAXAAAAIAAAABgAAAAXAAAAGgAAADQAAAAYAAAAFwAAABwAAAAXAAAAHQAAABoAAAAXAAAAKwAAABgAAAAWAAAAFQAAABsAAAAWAAAAFQAAABoAAAAyAAAAGQAAABcAAAAZAAACBwAAACoAAAAYAAAAEwAAAB0AAAATAAAAIAAAABIAAAAaAAAAEgAAABEAAAAaAAAAIQAAABcAAAAbAAAAGgAAACoAAAAUAAAAEgAAADMAAAAWAAAAIAAAABQAAAAfAAAAHgAAACAAAAAkAAAAGwAAABkAAAAZAAAALgAAABIAAAAZAAAAHAAAABEAAAAcAAAAFAAAABIAAAAgAAAAEQAAAB8AAAAgAAAAIgAAABsAAAAZAAAAGQAAAC4AAAASAAAAGQAAACcAAAAUAAAAMgAAABgAAAAVAAAAKAAAABUAAAAfAAAAJAAAACIAAAAbAAAAGQAAABkAAAAuAAAAEgAAABkAAAAcAAAAEQAAABwAAAAUAAAAEgAAACAAAAARAAAAIAAAACAAAAAiAAAAGwAAABkAAAAZAAAALgAAABIAAAAZAAAAHAAAABEAAAAcAAAAFAAAABIAAAAgAAAAEQAAACEAAAAfAAAAIQAAAB0AAAASAAAAGQAAADsAAAATAAAAHAAAABoAAAATAAAAIQAAAC4AAAAiAAAAEQAAADYAAAAcAAAAFAAAAB4AAABvAAAAIgAAACYAAAAUAAAAGgAAAB8AAAARAAAAHAAAAD8AAAASAAAAHQAAABEAAAAZAAAAHAAAABwAAAAfAAAAHgAAABMAAAAgAAAAFAAAABkAAAAcAAAAEQAAABkAAABBAAAAFAAAAB8AAAATAAAAGQAAABsAAAA2AAAAEwAAABwAAAATAAAAHwAAABQAAAAZAAAAGwAAABEAAAAZAAAAOwAAABIAAAAdAAAAEQAAABkAAAAbAAAANgAAABMAAAAcAAAAEwAAAB8AAAAUAAAAGQAAABsAAAARAAAAGQAAADsAAAASAAAAHQAAABEAAAAZAAAAGwAAADYAAAATAAAAHAAAABMAAAAeAAAAFAAAABkAAAAbAAAAEQAAABkAAABBAAAAFAAAACAAAAATAAAAGQAAABsAAAA2AAAAEwAAABwAAAATAAAAHwAAABQAAAAZAAAALAAAABUAAAARAAAAEgAAAC0AAAApAAAALQAAADcAAAAUAAAAGAAAABwAAAAsAAAAFAAAABIAAAAxAAAAEwAAAB4AAAASAAAAHAAAABoAAAATAAAAEgAAABoAAAAZAAAAIwAAABIAAAAeAAAAFgAAABUAAAASAAAAGwAAABEAAAAaAAAAEQAAAB0AAAAUAAAAIgAAABMAAAAcAAAAHAAAABEAAAAZAAAALAAAABoAAAAUAAAAEQAAABwAAAAeAAAAEwAAABkAAAAuAAAAFQAAABMAAAASAAAAHQAAACgAAAAfAAAAEwAAAh4AAABNAAAAGwAAABEAAAAkAAAAEQAAABwAAAARAAAAPgAAABsAAAATAAAAHQAAAHAAAAAgAAAAFQAAABoAAAAcAAAALQAAABMAAAASAAAAGwAAABIAAAAbAAAAIAAAABUAAAAdAAAAEgAAABsAAAARAAAAGgAAABEAAAAZAAAAJgAAABMAAAAcAAAAEwAAABkAAAAcAAAAFgAAABkAAAAcAAAAFAAAABIAAAAjAAAAHAAAABQAAAASAAAAGgAAACwAAAAUAAAAEwAAABEAAAAaAAAAHwAAABIAAAAiAAAAGgAAACQAAAASAAAAGgAAABEAAAAaAAAAEQAAABkAAAAgAAAAEwAAABwAAAATAAAAGQAAABwAAAARAAAAGQAAABwAAAAUAAAAEgAAABwAAAAiAAAAGQAAABMAAAAfAAAAGQAAABEAAAAPAAAADQAAABYAAAAPAAAADQAAAA0AAAAWAAAADwAAAA0AAAANAAAAFgAAAA8AAAANAAAADQAAAE8AAAAXAAAAEQAAABUAAAAuAAAAFgAAABwAAAAWAAAAFAAAACQAAAAXAAAAFAAAABMAAAAeAAAAFAAAABMAAAAjAAAAFAAAACIAAAASAAAAHAAAABIAAAAgAAAAGAAAABUAAABAAAAAFwAAABYAAAAUAAAAGwAAABYAAAAUAAAAKAAAABUAAAAdAAAAFQAAABwAAAASAAAAIAAAABQAAAATAAAAJgAAABQAAAATAAAAEQAAABsAAAASAAAAEQAAACEAAAASAAAAHwAAABIAAAAcAAAAEgAAABwAAAAUAAAAEwAAACIAAAAXAAAAEwAAABQAAAAhAAAAFQAAADUAAAAZAAAAJgAAABsAAAAaAAAAJwAAAB0AAAAhAAAAFwAAACoAAAAgAAAAFQAAACAAAAAdAAAAFgAAABIAAAARAAAATAAAABcAAAA7AAAAIAAAABkAAAASAAAAHQAAABwAAAAWAAAAFgAAACIAAAAVAAAAGgAAABcAAAAWAAAAIQAAAB0AAAAaAAAAFgAAAEQAAAA5AAAAGwAAABsAAAAcAAAAFgAAACQAAAAeAAAAHQAAACsAAAAvAAAAIQAAABwAAAAgAAAAGQAAABUAAAAaAAAANAAAABkAAAAXAAAAHAAAABcAAAAcAAAAGgAAABcAAAArAAAAGAAAABYAAAAVAAAAGwAAABYAAAAVAAAAGgAAADIAAAAZAAAAFwAAAB8AAAAYAAAAHQAAABgAAAAWAAAAJQAAABoAAAAWAAAAFgAAABsAAAAXAAAAFgAAABoAAAA0AAAAGwAAABgAAAAcAAAAGQAAABwAAAIzAAAAHgAAABMAAAAdAAAAEgAAABoAAAASAAAAGgAAABMAAAARAAAAOAAAABkAAAAXAAAAKQAAABYAAAAcAAAAGgAAABYAAAAdAAAAHwAAAB0AAAASAAAAGgAAABIAAAARAAAADQAAABYAAAATAAAAEAAAABEAAAAWAAAAFAAAABIAAAAQAAAAGgAAABQAAAAQAAAAEgAAABsAAAAwAAAAOgAAABcAAAAgAAAAFHN0Y28AAAAAAAAAAQAAADAAAABidWR0YQAAAFptZXRhAAAAAAAAACFoZGxyAAAAAAAAAABtZGlyYXBwbAAAAAAAAAAAAAAAAC1pbHN0AAAAJal0b28AAAAdZGF0YQAAAAEAAAAATGF2ZjU3LjgzLjEwMA==\" type=\"video/mp4\" />\n",
              "              </video>"
            ],
            "text/plain": [
              "<IPython.core.display.HTML object>"
            ]
          },
          "metadata": {}
        }
      ]
    }
  ]
}