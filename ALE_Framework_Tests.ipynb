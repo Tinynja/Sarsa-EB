{
  "nbformat": 4,
  "nbformat_minor": 0,
  "metadata": {
    "colab": {
      "name": "ALE Framework Tests",
      "provenance": [],
      "include_colab_link": true
    },
    "kernelspec": {
      "display_name": "Python 3 (ipykernel)",
      "language": "python",
      "name": "python3"
    },
    "language_info": {
      "codemirror_mode": {
        "name": "ipython",
        "version": 3
      },
      "file_extension": ".py",
      "mimetype": "text/x-python",
      "name": "python",
      "nbconvert_exporter": "python",
      "pygments_lexer": "ipython3",
      "version": "3.9.8"
    }
  },
  "cells": [
    {
      "cell_type": "markdown",
      "metadata": {
        "id": "view-in-github",
        "colab_type": "text"
      },
      "source": [
        "<a href=\"https://colab.research.google.com/github/Tinynja/Sarsa-phi-EB/blob/main/ALE_Framework_Tests.ipynb\" target=\"_parent\"><img src=\"https://colab.research.google.com/assets/colab-badge.svg\" alt=\"Open In Colab\"/></a>"
      ]
    },
    {
      "cell_type": "code",
      "metadata": {
        "id": "3z3aqLItDvig",
        "colab": {
          "base_uri": "https://localhost:8080/"
        },
        "outputId": "bf13c2fa-0cac-410e-812b-42a082834104"
      },
      "source": [
        "import sys\n",
        "\n",
        "if 'google.colab' in sys.modules:\n",
        "    !rm -rf *\n",
        "    !git clone https://github.com/Tinynja/Sarsa-phi-EB\n",
        "    !mv Sarsa-phi-EB/* .\n",
        "    !rm -rf Sarsa-phi-EB\n",
        "    # DON'T install packages defined in Pipfile_colab_remove\n",
        "    !sed -ri \"/$(tr '\\n' '|' < Pipfile_colab_remove)/d\" Pipfile\n",
        "else:\n",
        "    print('Skipping GitHub cloning since not running in Colab.')"
      ],
      "execution_count": 1,
      "outputs": [
        {
          "output_type": "stream",
          "name": "stdout",
          "text": [
            "Cloning into 'Sarsa-phi-EB'...\n",
            "remote: Enumerating objects: 187, done.\u001b[K\n",
            "remote: Counting objects: 100% (187/187), done.\u001b[K\n",
            "remote: Compressing objects: 100% (161/161), done.\u001b[K\n",
            "remote: Total 187 (delta 36), reused 148 (delta 17), pack-reused 0\u001b[K\n",
            "Receiving objects: 100% (187/187), 567.38 KiB | 5.40 MiB/s, done.\n",
            "Resolving deltas: 100% (36/36), done.\n"
          ]
        }
      ]
    },
    {
      "cell_type": "code",
      "metadata": {
        "id": "ZdficWqDDviq",
        "colab": {
          "base_uri": "https://localhost:8080/"
        },
        "outputId": "a6ab0795-c62a-4428-e954-2d2cbfad00b6"
      },
      "source": [
        "# Install required dependencies\n",
        "if 'google.colab' in sys.modules:\n",
        "    # Colab doesn't support pipenv, hence we convert Pipfile into requirements.txt\n",
        "    !pip install pipenv 1> /dev/null\n",
        "    !pipenv lock -r > requirements.txt\n",
        "    !pip install -r requirements.txt 1> /dev/null\n",
        "else:\n",
        "    !pipenv lock 1> /dev/null\n",
        "    !pipenv install --deploy 1> /dev/null"
      ],
      "execution_count": 2,
      "outputs": [
        {
          "output_type": "stream",
          "name": "stdout",
          "text": [
            "Creating a virtualenv for this project...\n",
            "Pipfile: /content/Pipfile\n",
            "Using /usr/local/bin/python (3.7.12) to create virtualenv...\n",
            "⠴\u001b[0m Creating virtual environment...\u001b[Kcreated virtual environment CPython3.7.12.final.0-64 in 992ms\n",
            "  creator CPython3Posix(dest=/root/.local/share/virtualenvs/content-cQIIIOO2, clear=False, no_vcs_ignore=False, global=False)\n",
            "  seeder FromAppData(download=False, pip=bundle, setuptools=bundle, wheel=bundle, via=copy, app_data_dir=/root/.local/share/virtualenv)\n",
            "    added seed packages: pip==21.3.1, setuptools==58.3.0, wheel==0.37.0\n",
            "  activators BashActivator,CShellActivator,FishActivator,NushellActivator,PowerShellActivator,PythonActivator\n",
            "\n",
            "\u001b[K\u001b[?25h\u001b[32m\u001b[22m✔ Successfully created virtual environment!\u001b[39m\u001b[22m\u001b[0m \n",
            "Virtualenv location: /root/.local/share/virtualenvs/content-cQIIIOO2\n",
            "Pipfile.lock not found, creating...\n",
            "Locking [dev-packages] dependencies...\n",
            "Locking [packages] dependencies...\n",
            "\u001b[KBuilding requirements...\n",
            "\u001b[KResolving dependencies...\n",
            "\u001b[K\u001b[?25h\u001b[32m\u001b[22m✔ Success!\u001b[39m\u001b[22m\u001b[0m \n",
            "Updated Pipfile.lock (44ce9b)!\n",
            "\u001b[31mERROR: pip's dependency resolver does not currently take into account all the packages that are installed. This behaviour is the source of the following dependency conflicts.\n",
            "yellowbrick 1.3.post1 requires numpy<1.20,>=1.16.0, but you have numpy 1.21.4 which is incompatible.\n",
            "datascience 0.10.6 requires folium==0.2.1, but you have folium 0.8.3 which is incompatible.\n",
            "arviz 0.11.4 requires typing-extensions<4,>=3.7.4.3, but you have typing-extensions 4.0.1 which is incompatible.\n",
            "albumentations 0.1.12 requires imgaug<0.2.7,>=0.2.5, but you have imgaug 0.2.9 which is incompatible.\u001b[0m\n"
          ]
        }
      ]
    },
    {
      "cell_type": "code",
      "metadata": {
        "scrolled": true,
        "id": "_YFCigY7Dvis",
        "colab": {
          "base_uri": "https://localhost:8080/"
        },
        "outputId": "78ebe860-2992-40f3-f1ca-0e25f7dc108d"
      },
      "source": [
        "# Import all supported ROMs into ALE\n",
        "!ale-import-roms ROMS"
      ],
      "execution_count": 3,
      "outputs": [
        {
          "output_type": "stream",
          "name": "stdout",
          "text": [
            "\u001b[92m[SUPPORTED]    \u001b[0m                qbert        ROMS/Q. Bert (1983).bin\n",
            "\u001b[92m[SUPPORTED]    \u001b[0m               casino ROMS/Casino - Poker Plus (Paddle) (1979).bin\n",
            "\u001b[92m[SUPPORTED]    \u001b[0m         demon_attack ROMS/Demon Attack (Death from Above) (1982).bin\n",
            "\u001b[92m[SUPPORTED]    \u001b[0m              bowling        ROMS/Bowling (1979).bin\n",
            "\u001b[92m[SUPPORTED]    \u001b[0m             seaquest       ROMS/Seaquest (1983).bin\n",
            "\u001b[92m[SUPPORTED]    \u001b[0m      chopper_command ROMS/Chopper Command (1982).bin\n",
            "\u001b[92m[SUPPORTED]    \u001b[0m           time_pilot     ROMS/Time Pilot (1983).bin\n",
            "\u001b[92m[SUPPORTED]    \u001b[0m             trondead ROMS/TRON - Deadly Discs (TRON Joystick) (1983).bin\n",
            "\u001b[92m[SUPPORTED]    \u001b[0m            jamesbond ROMS/James Bond 007 (James Bond Agent 007) (1984).bin\n",
            "\u001b[92m[SUPPORTED]    \u001b[0m               pacman        ROMS/Pac-Man (1982).bin\n",
            "\u001b[92m[SUPPORTED]    \u001b[0m               kaboom ROMS/Kaboom! (Paddle) (1981).bin\n",
            "\u001b[92m[SUPPORTED]    \u001b[0m              asterix ROMS/Asterix (AKA Taz) (1983).bin\n",
            "\u001b[92m[SUPPORTED]    \u001b[0m                qbert         ROMS/Q-bert (1987).bin\n",
            "\u001b[92m[SUPPORTED]    \u001b[0m              pitfall ROMS/Pitfall! - Pitfall Harry's Jungle Adventure (Jungle Runner) (1982).bin\n",
            "\u001b[92m[SUPPORTED]    \u001b[0m              venture        ROMS/Venture (1982).bin\n",
            "\u001b[92m[SUPPORTED]    \u001b[0m               enduro         ROMS/Enduro (1983).bin\n",
            "\u001b[92m[SUPPORTED]    \u001b[0m                alien          ROMS/Alien (1982).bin\n",
            "\u001b[92m[SUPPORTED]    \u001b[0m             atlantis ROMS/Atlantis (Lost City of Atlantis) (1982).bin\n",
            "\u001b[92m[SUPPORTED]    \u001b[0m           basic_math ROMS/Basic Math - Math (Math Pack) (1977).bin\n",
            "\u001b[92m[SUPPORTED]    \u001b[0m                   et ROMS/E.T. - The Extra-Terrestrial (1982).bin\n",
            "\u001b[92m[SUPPORTED]    \u001b[0m         lost_luggage ROMS/Lost Luggage (Airport Mayhem) (1982).bin\n",
            "\u001b[92m[SUPPORTED]    \u001b[0m               boxing ROMS/Boxing - La Boxe (1980).bin\n",
            "\u001b[92m[SUPPORTED]    \u001b[0m             gravitar       ROMS/Gravitar (1983).bin\n",
            "\u001b[92m[SUPPORTED]    \u001b[0m     human_cannonball ROMS/Human Cannonball - Cannon Man (1979).bin\n",
            "\u001b[92m[SUPPORTED]    \u001b[0m           beam_rider      ROMS/Beamrider (1984).bin\n",
            "\u001b[92m[SUPPORTED]    \u001b[0m               gopher ROMS/Gopher (Gopher Attack) (1982).bin\n",
            "\u001b[92m[SUPPORTED]    \u001b[0m              asterix ROMS/Asterix (AKA Taz) (1984).bin\n",
            "\u001b[92m[SUPPORTED]    \u001b[0m       name_this_game ROMS/Name This Game (Guardians of Treasure) (1983).bin\n",
            "\u001b[92m[SUPPORTED]    \u001b[0m                krull          ROMS/Krull (1983).bin\n",
            "\u001b[92m[SUPPORTED]    \u001b[0m            videocube ROMS/Atari Video Cube (Atari Cube, Video Cube) (1983).bin\n",
            "\u001b[92m[SUPPORTED]    \u001b[0m            tutankham      ROMS/Tutankham (1983).bin\n",
            "\u001b[92m[SUPPORTED]    \u001b[0m       space_invaders ROMS/Space Invaders (1980).bin\n",
            "\u001b[92m[SUPPORTED]    \u001b[0m         sir_lancelot   ROMS/Sir Lancelot (1983).bin\n",
            "\u001b[92m[SUPPORTED]    \u001b[0m             robotank ROMS/Robot Tank (Robotank) (1983).bin\n",
            "\u001b[92m[SUPPORTED]    \u001b[0m             kangaroo       ROMS/Kangaroo (1983).bin\n",
            "\u001b[92m[SUPPORTED]    \u001b[0m       tic_tac_toe_3d ROMS/3-D Tic-Tac-Toe (1980).bin\n",
            "\u001b[92m[SUPPORTED]    \u001b[0m            centipede      ROMS/Centipede (1983).bin\n",
            "\u001b[92m[SUPPORTED]    \u001b[0m      elevator_action ROMS/Elevator Action (1983).bin\n",
            "\u001b[92m[SUPPORTED]    \u001b[0m               tennis ROMS/Tennis - Le Tennis (1981).bin\n",
            "\u001b[92m[SUPPORTED]    \u001b[0m        wizard_of_wor  ROMS/Wizard of Wor (1982).bin\n",
            "\u001b[92m[SUPPORTED]    \u001b[0m            atlantis2    ROMS/Atlantis II (1982).bin\n",
            "\u001b[92m[SUPPORTED]    \u001b[0m           ice_hockey ROMS/Ice Hockey - Le Hockey Sur Glace (1981).bin\n",
            "\u001b[92m[SUPPORTED]    \u001b[0m             surround ROMS/Surround - Chase (Blockade) (1977).bin\n",
            "\u001b[92m[SUPPORTED]    \u001b[0m      keystone_kapers ROMS/Keystone Kapers - Raueber und Gendarm (1983).bin\n",
            "\u001b[92m[SUPPORTED]    \u001b[0m             carnival       ROMS/Carnival (1982).bin\n",
            "\u001b[92m[SUPPORTED]    \u001b[0m              phoenix        ROMS/Phoenix (1983).bin\n",
            "\u001b[92m[SUPPORTED]    \u001b[0m           basic_math ROMS/Fun with Numbers (AKA Basic Math) (1980).bin\n",
            "\u001b[92m[SUPPORTED]    \u001b[0m               skiing ROMS/Skiing - Le Ski (1980).bin\n",
            "\u001b[92m[SUPPORTED]    \u001b[0m              frogger        ROMS/Frogger (1982).bin\n",
            "\u001b[92m[SUPPORTED]    \u001b[0m              assault ROMS/Assault (AKA Sky Alien) (1983).bin\n",
            "\u001b[92m[SUPPORTED]    \u001b[0m         yars_revenge ROMS/Yars' Revenge (Time Freeze) (1982).bin\n",
            "\u001b[92m[SUPPORTED]    \u001b[0m          double_dunk ROMS/Double Dunk (Super Basketball) (1989).bin\n",
            "\u001b[92m[SUPPORTED]    \u001b[0m             defender       ROMS/Defender (1982).bin\n",
            "\u001b[92m[SUPPORTED]    \u001b[0m             entombed ROMS/Entombed (Maze Chase, Pharaoh's Tomb, Zombie) (1983).bin\n",
            "\u001b[92m[SUPPORTED]    \u001b[0m                qbert         ROMS/Q-bert (1983).bin\n",
            "\u001b[92m[SUPPORTED]    \u001b[0m              koolaid ROMS/Kool-Aid Man (Kool Aid Pitcher Man) (1983).bin\n",
            "\u001b[92m[SUPPORTED]    \u001b[0m       kung_fu_master ROMS/Kung-Fu Master (1987).bin\n",
            "\u001b[92m[SUPPORTED]    \u001b[0m            space_war ROMS/Space War - Space Star (32 in 1) (1988).bin\n",
            "\u001b[92m[SUPPORTED]    \u001b[0m         darkchambers ROMS/Dark Chambers (Dungeon, Dungeon Masters) (1989).bin\n",
            "\u001b[92m[SUPPORTED]    \u001b[0m       miniature_golf ROMS/Miniature Golf - Arcade Golf (1979).bin\n",
            "\u001b[92m[SUPPORTED]    \u001b[0m              turmoil        ROMS/Turmoil (1982).bin\n",
            "\u001b[92m[SUPPORTED]    \u001b[0m                 pong ROMS/Video Olympics - Pong Sports (Paddle) (1977).bin\n",
            "\u001b[92m[SUPPORTED]    \u001b[0m             galaxian       ROMS/Galaxian (1983).bin\n",
            "\u001b[92m[SUPPORTED]    \u001b[0m        fishing_derby  ROMS/Fishing Derby (1980).bin\n",
            "\u001b[92m[SUPPORTED]    \u001b[0m          donkey_kong    ROMS/Donkey Kong (1982).bin\n",
            "\u001b[92m[SUPPORTED]    \u001b[0m            frostbite      ROMS/Frostbite (1983).bin\n",
            "\u001b[92m[SUPPORTED]    \u001b[0m           backgammon ROMS/Backgammon (Paddle) (1979).bin\n",
            "\u001b[92m[SUPPORTED]    \u001b[0m            king_kong      ROMS/King Kong (1982).bin\n",
            "\u001b[92m[SUPPORTED]    \u001b[0m          road_runner    ROMS/Road Runner (1989).bin\n",
            "\u001b[92m[SUPPORTED]    \u001b[0m              othello        ROMS/Othello (1981).bin\n",
            "\u001b[92m[SUPPORTED]    \u001b[0m          donkey_kong    ROMS/Donkey Kong (1987).bin\n",
            "\u001b[92m[SUPPORTED]    \u001b[0m           videochess ROMS/Video Chess (Computer Chess) (1979).bin\n",
            "\u001b[92m[SUPPORTED]    \u001b[0m              solaris ROMS/Solaris (The Last Starfighter, Star Raiders II, Universe) (1986).bin\n",
            "\u001b[92m[SUPPORTED]    \u001b[0m              hangman ROMS/Hangman - Spelling (1978).bin\n",
            "\u001b[92m[SUPPORTED]    \u001b[0m             crossbow       ROMS/Crossbow (1988).bin\n",
            "\u001b[92m[SUPPORTED]    \u001b[0m       journey_escape ROMS/Journey Escape (1983).bin\n",
            "\u001b[92m[SUPPORTED]    \u001b[0m        video_pinball ROMS/Video Pinball - Arcade Pinball (1981).bin\n",
            "\u001b[92m[SUPPORTED]    \u001b[0m    montezuma_revenge ROMS/Montezuma's Revenge - Featuring Panama Joe (1984).bin\n",
            "\u001b[92m[SUPPORTED]    \u001b[0m           mario_bros    ROMS/Mario Bros. (1983).bin\n",
            "\u001b[92m[SUPPORTED]    \u001b[0m                 klax           ROMS/Klax (1991).bin\n",
            "\u001b[92m[SUPPORTED]    \u001b[0m             breakout ROMS/Breakout - Breakaway IV (Paddle) (1978).bin\n",
            "\u001b[92m[SUPPORTED]    \u001b[0m            blackjack ROMS/Blackjack - Black Jack (Gambling) (Paddle) (1977).bin\n",
            "\u001b[92m[SUPPORTED]    \u001b[0m         flag_capture ROMS/Flag Capture - Capture (Capture the Flag) (1978).bin\n",
            "\u001b[92m[SUPPORTED]    \u001b[0m             air_raid ROMS/Air Raid (Men-A-Vision) (PAL) ~.bin\n",
            "\u001b[92m[SUPPORTED]    \u001b[0m           earthworld ROMS/SwordQuest - EarthWorld (Adventure I, SwordQuest I - EarthWorld) (1982).bin\n",
            "\u001b[92m[SUPPORTED]    \u001b[0m            riverraid     ROMS/River Raid (1982).bin\n",
            "\u001b[92m[SUPPORTED]    \u001b[0m             pitfall2 ROMS/Pitfall II - Lost Caverns (1984).bin\n",
            "\u001b[92m[SUPPORTED]    \u001b[0m               pooyan         ROMS/Pooyan (1983).bin\n",
            "\u001b[92m[SUPPORTED]    \u001b[0m               amidar         ROMS/Amidar (1982).bin\n",
            "\u001b[92m[SUPPORTED]    \u001b[0m            asteroids      ROMS/Asteroids (1981).bin\n",
            "\u001b[92m[SUPPORTED]    \u001b[0m          battle_zone     ROMS/Battlezone (1983).bin\n",
            "\u001b[92m[SUPPORTED]    \u001b[0m             surround ROMS/Surround (32 in 1) (Bit Corporation) (R320).bin\n",
            "\u001b[92m[SUPPORTED]    \u001b[0m          private_eye    ROMS/Private Eye (1984).bin\n",
            "\u001b[92m[SUPPORTED]    \u001b[0m        crazy_climber  ROMS/Crazy Climber (1983).bin\n",
            "\u001b[92m[SUPPORTED]    \u001b[0m          star_gunner     ROMS/Stargunner (1983).bin\n",
            "\u001b[92m[SUPPORTED]    \u001b[0m            up_n_down     ROMS/Up 'n Down (1984).bin\n",
            "\u001b[92m[SUPPORTED]    \u001b[0m          laser_gates ROMS/Laser Gates (AKA Innerspace) (1983).bin\n",
            "\u001b[92m[SUPPORTED]    \u001b[0m        video_pinball ROMS/Pinball (AKA Video Pinball) (Zellers).bin\n",
            "\u001b[92m[SUPPORTED]    \u001b[0m               zaxxon         ROMS/Zaxxon (1983).bin\n",
            "\u001b[92m[SUPPORTED]    \u001b[0m       video_checkers ROMS/Video Checkers - Checkers - Atari Video Checkers (1980).bin\n",
            "\u001b[92m[SUPPORTED]    \u001b[0m             superman       ROMS/Superman (1979).bin\n",
            "\u001b[92m[SUPPORTED]    \u001b[0m              berzerk        ROMS/Berzerk (1982).bin\n",
            "\u001b[92m[SUPPORTED]    \u001b[0m            adventure      ROMS/Adventure (1980).bin\n",
            "\u001b[92m[SUPPORTED]    \u001b[0m            ms_pacman    ROMS/Ms. Pac-Man (1983).bin\n",
            "\u001b[92m[SUPPORTED]    \u001b[0m        haunted_house ROMS/Haunted House (Mystery Mansion, Graves' Manor, Nightmare Manor) (1982).bin\n",
            "\u001b[92m[SUPPORTED]    \u001b[0m           bank_heist ROMS/Bank Heist (Bonnie & Clyde, Cops 'n' Robbers, Hold-Up, Roaring 20's) (1983).bin\n",
            "\u001b[92m[SUPPORTED]    \u001b[0m              freeway        ROMS/Freeway (1981).bin\n",
            "\u001b[92m[SUPPORTED]    \u001b[0m                 hero       ROMS/H.E.R.O. (1984).bin\n",
            "\u001b[92m[SUPPORTED]    \u001b[0m                mr_do        ROMS/Mr. Do! (1983).bin\n",
            "\u001b[92m[SUPPORTED]    \u001b[0m          word_zapper ROMS/Word Zapper (Word Grabber) (1982).bin\n",
            "\n",
            "\n",
            "\n",
            "Imported 110 / 110 ROMs\n"
          ]
        }
      ]
    },
    {
      "cell_type": "code",
      "metadata": {
        "id": "_SfKRFx8Dvit"
      },
      "source": [
        "# Built-in libraries\n",
        "import re\n",
        "import sys\n",
        "import base64\n",
        "import random\n",
        "from pathlib import Path\n",
        "\n",
        "# Pipy libraries\n",
        "from IPython import display as ipythondisplay\n",
        "from ale_py import ALEInterface, SDL_SUPPORT\n",
        "from ale_py.roms import Breakout\n",
        "from PIL import Image"
      ],
      "execution_count": 71,
      "outputs": []
    },
    {
      "cell_type": "code",
      "metadata": {
        "id": "zAs6_UzuKGjz"
      },
      "source": [
        "class EnvALE:\n",
        "    def __init__(self, rom, out_dir='ale-results', display=False, seed=0):\n",
        "        self.out_dir = Path(out_dir).resolve()\n",
        "        self.out_dir.mkdir(exist_ok=True)\n",
        "    \n",
        "        self.ale = ALEInterface()\n",
        "        self.ale.setInt(\"random_seed\", seed)\n",
        "        if SDL_SUPPORT and 'google.colab' not in sys.modules:\n",
        "            ale.setBool(\"sound\", True)\n",
        "            ale.setBool(\"display_screen\", True)\n",
        "        self.ale.loadROM(rom)\n",
        "\n",
        "        self.action_space = self.ale.getMinimalActionSet()\n",
        "\n",
        "        # Default values\n",
        "        self._timestep = 0\n",
        "        self._do_record = False\n",
        "        self._record_padding = None\n",
        "\n",
        "    def reset(self, do_record=False):\n",
        "        self.ale.reset_game()\n",
        "        observation = self._observe()\n",
        "        self._timestep = 0\n",
        "\n",
        "        self._do_record = do_record\n",
        "        self._handle_recording()\n",
        "        \n",
        "        return observation\n",
        "        \n",
        "    def step(self, action):\n",
        "        reward = self.ale.act(action)\n",
        "        observation = self._observe()\n",
        "        done = self.ale.game_over()\n",
        "        self._timestep += 1\n",
        "        \n",
        "        self._handle_recording()\n",
        "        \n",
        "        return observation, reward, done, None\n",
        "\n",
        "    def show_video(self, scale=1):\n",
        "        \"\"\"Show a .mp4 video in html format of the recorded episode\"\"\"\n",
        "        filepath = self.out_dir.joinpath('record.mp4')\n",
        "        video_b64 = base64.b64encode(filepath.read_bytes())\n",
        "        html = f'''<video alt=\"{filepath}\" autoplay loop controls style=\"height:300px\">\n",
        "                        <source src=\"data:video/mp4;base64,{video_b64.decode('ascii')}\" type=\"video/mp4\" />\n",
        "                   </video>'''\n",
        "        ipythondisplay.display(ipythondisplay.HTML(data=html))\n",
        "        \n",
        "    def _observe(self):\n",
        "        return self.ale.getScreenRGB()\n",
        "    \n",
        "    def _handle_recording(self):\n",
        "        # Do nothing if not asked to record\n",
        "        if not self._do_record: return\n",
        "        # This is a new episode, delete previously recorded steps\n",
        "        if not self._timestep:\n",
        "            self.out_dir.joinpath('record').mkdir(exist_ok=True)\n",
        "            for step_png in self.out_dir.glob('record/step_*.png'):\n",
        "                step_png.unlink()\n",
        "            self._record_padding = None\n",
        "        # Record current timestep png\n",
        "        out_path = self.out_dir.joinpath(f'record/step_{self._timestep}.png')\n",
        "        self.ale.saveScreenPNG(str(out_path))\n",
        "        # Once the episode is over, format all png filenames to have the same integer 0 padding\n",
        "        if self.ale.game_over():\n",
        "            self._record_padding = len(str(self._timestep))\n",
        "            self._standardize_record_padding()\n",
        "            self._png_to_mp4()\n",
        "    \n",
        "    def _standardize_record_padding(self):\n",
        "        number_pattern = re.compile('\\d+')\n",
        "        for png in self.out_dir.glob('record/step_*.png'):\n",
        "            timestep = int(number_pattern.search(png.stem).group(0))\n",
        "            new_name = png.parent.joinpath(f'step_{timestep:0{self._record_padding}d}.png')\n",
        "            png.rename(new_name)\n",
        "\n",
        "    def _png_to_mp4(self):\n",
        "        \"\"\"Convert the recorded set of png files into a mp4 video\"\"\"\n",
        "        in_dir = self.out_dir.joinpath('record')\n",
        "        in_pattern = self.out_dir.joinpath(f'record/step_%0{self._record_padding}d.png')\n",
        "        out_file = self.out_dir.joinpath('record.mp4')\n",
        "        !cd $in_dir; ffmpeg -hide_banner -loglevel error -r 60 -i $in_pattern -vcodec libx264 -crf 25 -pix_fmt yuv420p -y $out_file"
      ],
      "execution_count": 87,
      "outputs": []
    },
    {
      "cell_type": "code",
      "metadata": {
        "colab": {
          "base_uri": "https://localhost:8080/",
          "height": 321
        },
        "id": "dh8WdcHh4Z8M",
        "outputId": "53bd30a8-ed39-4c97-88fa-dff23b158ff4"
      },
      "source": [
        "env = EnvALE(Breakout)\n",
        "\n",
        "# Play an episode\n",
        "done, observation = False, env.reset(do_record=True)\n",
        "while not done:\n",
        "    action = random.choice(env.action_space)\n",
        "    observation, reward, done, info = env.step(action)\n",
        "env.show_video()"
      ],
      "execution_count": 95,
      "outputs": [
        {
          "output_type": "display_data",
          "data": {
            "text/html": [
              "<video alt=\"/content/ale-results/record.mp4\" autoplay loop controls style=\"height:300px\">\n",
              "                        <source src=\"data:video/mp4;base64,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\" type=\"video/mp4\" />\n",
              "                   </video>"
            ],
            "text/plain": [
              "<IPython.core.display.HTML object>"
            ]
          },
          "metadata": {}
        }
      ]
    }
  ]
}