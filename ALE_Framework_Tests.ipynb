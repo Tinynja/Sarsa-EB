{
  "nbformat": 4,
  "nbformat_minor": 0,
  "metadata": {
    "colab": {
      "name": "ALE Framework Tests",
      "provenance": [],
      "include_colab_link": true
    },
    "kernelspec": {
      "display_name": "Python 3 (ipykernel)",
      "language": "python",
      "name": "python3"
    },
    "language_info": {
      "codemirror_mode": {
        "name": "ipython",
        "version": 3
      },
      "file_extension": ".py",
      "mimetype": "text/x-python",
      "name": "python",
      "nbconvert_exporter": "python",
      "pygments_lexer": "ipython3",
      "version": "3.9.8"
    }
  },
  "cells": [
    {
      "cell_type": "markdown",
      "metadata": {
        "id": "view-in-github",
        "colab_type": "text"
      },
      "source": [
        "<a href=\"https://colab.research.google.com/github/Tinynja/Sarsa-phi-EB/blob/main/ALE_Framework_Tests.ipynb\" target=\"_parent\"><img src=\"https://colab.research.google.com/assets/colab-badge.svg\" alt=\"Open In Colab\"/></a>"
      ]
    },
    {
      "cell_type": "code",
      "metadata": {
        "id": "3z3aqLItDvig",
        "colab": {
          "base_uri": "https://localhost:8080/"
        },
        "outputId": "92347b23-bc1b-4990-8972-43417eb17f03"
      },
      "source": [
        "import sys\n",
        "\n",
        "if 'google.colab' in sys.modules:\n",
        "    !rm -rf *\n",
        "    !git clone https://github.com/Tinynja/Sarsa-phi-EB\n",
        "    !mv Sarsa-phi-EB/* .\n",
        "    !rm -rf Sarsa-phi-EB\n",
        "    # DON'T install packages defined in Pipfile_colab_remove\n",
        "    !sed -ri \"/$(tr '\\n' '|' < Pipfile_colab_remove)/d\" Pipfile\n",
        "else:\n",
        "    print('Skipping GitHub cloning since not running in Colab.')"
      ],
      "execution_count": 64,
      "outputs": [
        {
          "output_type": "stream",
          "name": "stdout",
          "text": [
            "Cloning into 'Sarsa-phi-EB'...\n",
            "remote: Enumerating objects: 181, done.\u001b[K\n",
            "remote: Counting objects: 100% (181/181), done.\u001b[K\n",
            "remote: Compressing objects: 100% (155/155), done.\u001b[K\n",
            "remote: Total 181 (delta 34), reused 148 (delta 17), pack-reused 0\u001b[K\n",
            "Receiving objects: 100% (181/181), 510.08 KiB | 2.03 MiB/s, done.\n",
            "Resolving deltas: 100% (34/34), done.\n"
          ]
        }
      ]
    },
    {
      "cell_type": "code",
      "metadata": {
        "id": "ZdficWqDDviq",
        "colab": {
          "base_uri": "https://localhost:8080/"
        },
        "outputId": "198e03f0-d0c6-4415-b0e1-e1d0c3ebf5b9"
      },
      "source": [
        "# Install required dependencies\n",
        "if 'google.colab' in sys.modules:\n",
        "    # Colab doesn't support pipenv, hence we convert Pipfile into requirements.txt\n",
        "    !pip install pipenv 1> /dev/null\n",
        "    !pipenv lock -r > requirements.txt\n",
        "    !pip install -r requirements.txt 1> /dev/null\n",
        "else:\n",
        "    !pipenv lock 1> /dev/null\n",
        "    !pipenv install --deploy 1> /dev/null"
      ],
      "execution_count": null,
      "outputs": [
        {
          "output_type": "stream",
          "name": "stdout",
          "text": [
            "Creating a virtualenv for this project...\n",
            "Pipfile: /content/Pipfile\n",
            "Using /usr/local/bin/python (3.7.12) to create virtualenv...\n",
            "⠼\u001b[0m Creating virtual environment...\u001b[Kcreated virtual environment CPython3.7.12.final.0-64 in 908ms\n",
            "  creator CPython3Posix(dest=/root/.local/share/virtualenvs/content-cQIIIOO2, clear=False, no_vcs_ignore=False, global=False)\n",
            "  seeder FromAppData(download=False, pip=bundle, setuptools=bundle, wheel=bundle, via=copy, app_data_dir=/root/.local/share/virtualenv)\n",
            "    added seed packages: pip==21.3.1, setuptools==58.3.0, wheel==0.37.0\n",
            "  activators BashActivator,CShellActivator,FishActivator,NushellActivator,PowerShellActivator,PythonActivator\n",
            "\n",
            "\u001b[K\u001b[?25h\u001b[32m\u001b[22m✔ Successfully created virtual environment!\u001b[39m\u001b[22m\u001b[0m \n",
            "Virtualenv location: /root/.local/share/virtualenvs/content-cQIIIOO2\n",
            "Pipfile.lock not found, creating...\n",
            "Locking [dev-packages] dependencies...\n",
            "Locking [packages] dependencies...\n",
            "\u001b[KBuilding requirements...\n",
            "\u001b[KResolving dependencies...\n",
            "\u001b[K\u001b[?25h\u001b[32m\u001b[22m✔ Success!\u001b[39m\u001b[22m\u001b[0m \n",
            "Updated Pipfile.lock (44ce9b)!\n",
            "\u001b[31mERROR: pip's dependency resolver does not currently take into account all the packages that are installed. This behaviour is the source of the following dependency conflicts.\n",
            "yellowbrick 1.3.post1 requires numpy<1.20,>=1.16.0, but you have numpy 1.21.4 which is incompatible.\n",
            "datascience 0.10.6 requires folium==0.2.1, but you have folium 0.8.3 which is incompatible.\n",
            "arviz 0.11.4 requires typing-extensions<4,>=3.7.4.3, but you have typing-extensions 4.0.1 which is incompatible.\n",
            "albumentations 0.1.12 requires imgaug<0.2.7,>=0.2.5, but you have imgaug 0.2.9 which is incompatible.\u001b[0m\n"
          ]
        }
      ]
    },
    {
      "cell_type": "code",
      "metadata": {
        "scrolled": true,
        "id": "_YFCigY7Dvis",
        "colab": {
          "base_uri": "https://localhost:8080/"
        },
        "outputId": "8e45a4a5-7e1e-4121-abc1-b3cc3063f51b"
      },
      "source": [
        "# Import all supported ROMs into ALE\n",
        "!ale-import-roms ROMS"
      ],
      "execution_count": 65,
      "outputs": [
        {
          "output_type": "stream",
          "name": "stdout",
          "text": [
            "\u001b[92m[SUPPORTED]    \u001b[0m                qbert        ROMS/Q. Bert (1983).bin\n",
            "\u001b[92m[SUPPORTED]    \u001b[0m               casino ROMS/Casino - Poker Plus (Paddle) (1979).bin\n",
            "\u001b[92m[SUPPORTED]    \u001b[0m         demon_attack ROMS/Demon Attack (Death from Above) (1982).bin\n",
            "\u001b[92m[SUPPORTED]    \u001b[0m              bowling        ROMS/Bowling (1979).bin\n",
            "\u001b[92m[SUPPORTED]    \u001b[0m             seaquest       ROMS/Seaquest (1983).bin\n",
            "\u001b[92m[SUPPORTED]    \u001b[0m      chopper_command ROMS/Chopper Command (1982).bin\n",
            "\u001b[92m[SUPPORTED]    \u001b[0m           time_pilot     ROMS/Time Pilot (1983).bin\n",
            "\u001b[92m[SUPPORTED]    \u001b[0m             trondead ROMS/TRON - Deadly Discs (TRON Joystick) (1983).bin\n",
            "\u001b[92m[SUPPORTED]    \u001b[0m            jamesbond ROMS/James Bond 007 (James Bond Agent 007) (1984).bin\n",
            "\u001b[92m[SUPPORTED]    \u001b[0m               pacman        ROMS/Pac-Man (1982).bin\n",
            "\u001b[92m[SUPPORTED]    \u001b[0m               kaboom ROMS/Kaboom! (Paddle) (1981).bin\n",
            "\u001b[92m[SUPPORTED]    \u001b[0m              asterix ROMS/Asterix (AKA Taz) (1983).bin\n",
            "\u001b[92m[SUPPORTED]    \u001b[0m                qbert         ROMS/Q-bert (1987).bin\n",
            "\u001b[92m[SUPPORTED]    \u001b[0m              pitfall ROMS/Pitfall! - Pitfall Harry's Jungle Adventure (Jungle Runner) (1982).bin\n",
            "\u001b[92m[SUPPORTED]    \u001b[0m              venture        ROMS/Venture (1982).bin\n",
            "\u001b[92m[SUPPORTED]    \u001b[0m               enduro         ROMS/Enduro (1983).bin\n",
            "\u001b[92m[SUPPORTED]    \u001b[0m                alien          ROMS/Alien (1982).bin\n",
            "\u001b[92m[SUPPORTED]    \u001b[0m             atlantis ROMS/Atlantis (Lost City of Atlantis) (1982).bin\n",
            "\u001b[92m[SUPPORTED]    \u001b[0m           basic_math ROMS/Basic Math - Math (Math Pack) (1977).bin\n",
            "\u001b[92m[SUPPORTED]    \u001b[0m                   et ROMS/E.T. - The Extra-Terrestrial (1982).bin\n",
            "\u001b[92m[SUPPORTED]    \u001b[0m         lost_luggage ROMS/Lost Luggage (Airport Mayhem) (1982).bin\n",
            "\u001b[92m[SUPPORTED]    \u001b[0m               boxing ROMS/Boxing - La Boxe (1980).bin\n",
            "\u001b[92m[SUPPORTED]    \u001b[0m             gravitar       ROMS/Gravitar (1983).bin\n",
            "\u001b[92m[SUPPORTED]    \u001b[0m     human_cannonball ROMS/Human Cannonball - Cannon Man (1979).bin\n",
            "\u001b[92m[SUPPORTED]    \u001b[0m           beam_rider      ROMS/Beamrider (1984).bin\n",
            "\u001b[92m[SUPPORTED]    \u001b[0m               gopher ROMS/Gopher (Gopher Attack) (1982).bin\n",
            "\u001b[92m[SUPPORTED]    \u001b[0m              asterix ROMS/Asterix (AKA Taz) (1984).bin\n",
            "\u001b[92m[SUPPORTED]    \u001b[0m       name_this_game ROMS/Name This Game (Guardians of Treasure) (1983).bin\n",
            "\u001b[92m[SUPPORTED]    \u001b[0m                krull          ROMS/Krull (1983).bin\n",
            "\u001b[92m[SUPPORTED]    \u001b[0m            videocube ROMS/Atari Video Cube (Atari Cube, Video Cube) (1983).bin\n",
            "\u001b[92m[SUPPORTED]    \u001b[0m            tutankham      ROMS/Tutankham (1983).bin\n",
            "\u001b[92m[SUPPORTED]    \u001b[0m       space_invaders ROMS/Space Invaders (1980).bin\n",
            "\u001b[92m[SUPPORTED]    \u001b[0m         sir_lancelot   ROMS/Sir Lancelot (1983).bin\n",
            "\u001b[92m[SUPPORTED]    \u001b[0m             robotank ROMS/Robot Tank (Robotank) (1983).bin\n",
            "\u001b[92m[SUPPORTED]    \u001b[0m             kangaroo       ROMS/Kangaroo (1983).bin\n",
            "\u001b[92m[SUPPORTED]    \u001b[0m       tic_tac_toe_3d ROMS/3-D Tic-Tac-Toe (1980).bin\n",
            "\u001b[92m[SUPPORTED]    \u001b[0m            centipede      ROMS/Centipede (1983).bin\n",
            "\u001b[92m[SUPPORTED]    \u001b[0m      elevator_action ROMS/Elevator Action (1983).bin\n",
            "\u001b[92m[SUPPORTED]    \u001b[0m               tennis ROMS/Tennis - Le Tennis (1981).bin\n",
            "\u001b[92m[SUPPORTED]    \u001b[0m        wizard_of_wor  ROMS/Wizard of Wor (1982).bin\n",
            "\u001b[92m[SUPPORTED]    \u001b[0m            atlantis2    ROMS/Atlantis II (1982).bin\n",
            "\u001b[92m[SUPPORTED]    \u001b[0m           ice_hockey ROMS/Ice Hockey - Le Hockey Sur Glace (1981).bin\n",
            "\u001b[92m[SUPPORTED]    \u001b[0m             surround ROMS/Surround - Chase (Blockade) (1977).bin\n",
            "\u001b[92m[SUPPORTED]    \u001b[0m      keystone_kapers ROMS/Keystone Kapers - Raueber und Gendarm (1983).bin\n",
            "\u001b[92m[SUPPORTED]    \u001b[0m             carnival       ROMS/Carnival (1982).bin\n",
            "\u001b[92m[SUPPORTED]    \u001b[0m              phoenix        ROMS/Phoenix (1983).bin\n",
            "\u001b[92m[SUPPORTED]    \u001b[0m           basic_math ROMS/Fun with Numbers (AKA Basic Math) (1980).bin\n",
            "\u001b[92m[SUPPORTED]    \u001b[0m               skiing ROMS/Skiing - Le Ski (1980).bin\n",
            "\u001b[92m[SUPPORTED]    \u001b[0m              frogger        ROMS/Frogger (1982).bin\n",
            "\u001b[92m[SUPPORTED]    \u001b[0m              assault ROMS/Assault (AKA Sky Alien) (1983).bin\n",
            "\u001b[92m[SUPPORTED]    \u001b[0m         yars_revenge ROMS/Yars' Revenge (Time Freeze) (1982).bin\n",
            "\u001b[92m[SUPPORTED]    \u001b[0m          double_dunk ROMS/Double Dunk (Super Basketball) (1989).bin\n",
            "\u001b[92m[SUPPORTED]    \u001b[0m             defender       ROMS/Defender (1982).bin\n",
            "\u001b[92m[SUPPORTED]    \u001b[0m             entombed ROMS/Entombed (Maze Chase, Pharaoh's Tomb, Zombie) (1983).bin\n",
            "\u001b[92m[SUPPORTED]    \u001b[0m                qbert         ROMS/Q-bert (1983).bin\n",
            "\u001b[92m[SUPPORTED]    \u001b[0m              koolaid ROMS/Kool-Aid Man (Kool Aid Pitcher Man) (1983).bin\n",
            "\u001b[92m[SUPPORTED]    \u001b[0m       kung_fu_master ROMS/Kung-Fu Master (1987).bin\n",
            "\u001b[92m[SUPPORTED]    \u001b[0m            space_war ROMS/Space War - Space Star (32 in 1) (1988).bin\n",
            "\u001b[92m[SUPPORTED]    \u001b[0m         darkchambers ROMS/Dark Chambers (Dungeon, Dungeon Masters) (1989).bin\n",
            "\u001b[92m[SUPPORTED]    \u001b[0m       miniature_golf ROMS/Miniature Golf - Arcade Golf (1979).bin\n",
            "\u001b[92m[SUPPORTED]    \u001b[0m              turmoil        ROMS/Turmoil (1982).bin\n",
            "\u001b[92m[SUPPORTED]    \u001b[0m                 pong ROMS/Video Olympics - Pong Sports (Paddle) (1977).bin\n",
            "\u001b[92m[SUPPORTED]    \u001b[0m             galaxian       ROMS/Galaxian (1983).bin\n",
            "\u001b[92m[SUPPORTED]    \u001b[0m        fishing_derby  ROMS/Fishing Derby (1980).bin\n",
            "\u001b[92m[SUPPORTED]    \u001b[0m          donkey_kong    ROMS/Donkey Kong (1982).bin\n",
            "\u001b[92m[SUPPORTED]    \u001b[0m            frostbite      ROMS/Frostbite (1983).bin\n",
            "\u001b[92m[SUPPORTED]    \u001b[0m           backgammon ROMS/Backgammon (Paddle) (1979).bin\n",
            "\u001b[92m[SUPPORTED]    \u001b[0m            king_kong      ROMS/King Kong (1982).bin\n",
            "\u001b[92m[SUPPORTED]    \u001b[0m          road_runner    ROMS/Road Runner (1989).bin\n",
            "\u001b[92m[SUPPORTED]    \u001b[0m              othello        ROMS/Othello (1981).bin\n",
            "\u001b[92m[SUPPORTED]    \u001b[0m          donkey_kong    ROMS/Donkey Kong (1987).bin\n",
            "\u001b[92m[SUPPORTED]    \u001b[0m           videochess ROMS/Video Chess (Computer Chess) (1979).bin\n",
            "\u001b[92m[SUPPORTED]    \u001b[0m              solaris ROMS/Solaris (The Last Starfighter, Star Raiders II, Universe) (1986).bin\n",
            "\u001b[92m[SUPPORTED]    \u001b[0m              hangman ROMS/Hangman - Spelling (1978).bin\n",
            "\u001b[92m[SUPPORTED]    \u001b[0m             crossbow       ROMS/Crossbow (1988).bin\n",
            "\u001b[92m[SUPPORTED]    \u001b[0m       journey_escape ROMS/Journey Escape (1983).bin\n",
            "\u001b[92m[SUPPORTED]    \u001b[0m        video_pinball ROMS/Video Pinball - Arcade Pinball (1981).bin\n",
            "\u001b[92m[SUPPORTED]    \u001b[0m    montezuma_revenge ROMS/Montezuma's Revenge - Featuring Panama Joe (1984).bin\n",
            "\u001b[92m[SUPPORTED]    \u001b[0m           mario_bros    ROMS/Mario Bros. (1983).bin\n",
            "\u001b[92m[SUPPORTED]    \u001b[0m                 klax           ROMS/Klax (1991).bin\n",
            "\u001b[92m[SUPPORTED]    \u001b[0m             breakout ROMS/Breakout - Breakaway IV (Paddle) (1978).bin\n",
            "\u001b[92m[SUPPORTED]    \u001b[0m            blackjack ROMS/Blackjack - Black Jack (Gambling) (Paddle) (1977).bin\n",
            "\u001b[92m[SUPPORTED]    \u001b[0m         flag_capture ROMS/Flag Capture - Capture (Capture the Flag) (1978).bin\n",
            "\u001b[92m[SUPPORTED]    \u001b[0m             air_raid ROMS/Air Raid (Men-A-Vision) (PAL) ~.bin\n",
            "\u001b[92m[SUPPORTED]    \u001b[0m           earthworld ROMS/SwordQuest - EarthWorld (Adventure I, SwordQuest I - EarthWorld) (1982).bin\n",
            "\u001b[92m[SUPPORTED]    \u001b[0m            riverraid     ROMS/River Raid (1982).bin\n",
            "\u001b[92m[SUPPORTED]    \u001b[0m             pitfall2 ROMS/Pitfall II - Lost Caverns (1984).bin\n",
            "\u001b[92m[SUPPORTED]    \u001b[0m               pooyan         ROMS/Pooyan (1983).bin\n",
            "\u001b[92m[SUPPORTED]    \u001b[0m               amidar         ROMS/Amidar (1982).bin\n",
            "\u001b[92m[SUPPORTED]    \u001b[0m            asteroids      ROMS/Asteroids (1981).bin\n",
            "\u001b[92m[SUPPORTED]    \u001b[0m          battle_zone     ROMS/Battlezone (1983).bin\n",
            "\u001b[92m[SUPPORTED]    \u001b[0m             surround ROMS/Surround (32 in 1) (Bit Corporation) (R320).bin\n",
            "\u001b[92m[SUPPORTED]    \u001b[0m          private_eye    ROMS/Private Eye (1984).bin\n",
            "\u001b[92m[SUPPORTED]    \u001b[0m        crazy_climber  ROMS/Crazy Climber (1983).bin\n",
            "\u001b[92m[SUPPORTED]    \u001b[0m          star_gunner     ROMS/Stargunner (1983).bin\n",
            "\u001b[92m[SUPPORTED]    \u001b[0m            up_n_down     ROMS/Up 'n Down (1984).bin\n",
            "\u001b[92m[SUPPORTED]    \u001b[0m          laser_gates ROMS/Laser Gates (AKA Innerspace) (1983).bin\n",
            "\u001b[92m[SUPPORTED]    \u001b[0m        video_pinball ROMS/Pinball (AKA Video Pinball) (Zellers).bin\n",
            "\u001b[92m[SUPPORTED]    \u001b[0m               zaxxon         ROMS/Zaxxon (1983).bin\n",
            "\u001b[92m[SUPPORTED]    \u001b[0m       video_checkers ROMS/Video Checkers - Checkers - Atari Video Checkers (1980).bin\n",
            "\u001b[92m[SUPPORTED]    \u001b[0m             superman       ROMS/Superman (1979).bin\n",
            "\u001b[92m[SUPPORTED]    \u001b[0m              berzerk        ROMS/Berzerk (1982).bin\n",
            "\u001b[92m[SUPPORTED]    \u001b[0m            adventure      ROMS/Adventure (1980).bin\n",
            "\u001b[92m[SUPPORTED]    \u001b[0m            ms_pacman    ROMS/Ms. Pac-Man (1983).bin\n",
            "\u001b[92m[SUPPORTED]    \u001b[0m        haunted_house ROMS/Haunted House (Mystery Mansion, Graves' Manor, Nightmare Manor) (1982).bin\n",
            "\u001b[92m[SUPPORTED]    \u001b[0m           bank_heist ROMS/Bank Heist (Bonnie & Clyde, Cops 'n' Robbers, Hold-Up, Roaring 20's) (1983).bin\n",
            "\u001b[92m[SUPPORTED]    \u001b[0m              freeway        ROMS/Freeway (1981).bin\n",
            "\u001b[92m[SUPPORTED]    \u001b[0m                 hero       ROMS/H.E.R.O. (1984).bin\n",
            "\u001b[92m[SUPPORTED]    \u001b[0m                mr_do        ROMS/Mr. Do! (1983).bin\n",
            "\u001b[92m[SUPPORTED]    \u001b[0m          word_zapper ROMS/Word Zapper (Word Grabber) (1982).bin\n",
            "\n",
            "\n",
            "\n",
            "Imported 110 / 110 ROMs\n"
          ]
        }
      ]
    },
    {
      "cell_type": "code",
      "metadata": {
        "id": "yPWZT9W-OOum"
      },
      "source": [
        "# Utilities for visualizing a simulation\n",
        "import base64\n",
        "from IPython import display as ipythondisplay\n",
        "\n",
        "def show_video(filepath):\n",
        "    \"\"\"Show a .mp4 video in html format\n",
        "    \n",
        "    Example usage: show_video('record.mp4')\n",
        "    \"\"\"\n",
        "    mp4 = Path(filepath)\n",
        "    video_b64 = base64.b64encode(mp4.read_bytes())\n",
        "    html = '''<video alt=\"{}\" autoplay loop controls style=\"height: 400px;\">\n",
        "                <source src=\"data:video/mp4;base64,{}\" type=\"video/mp4\" />\n",
        "              </video>'''.format(mp4, video_b64.decode('ascii'))\n",
        "    ipythondisplay.display(ipythondisplay.HTML(data=html))\n",
        "\n",
        "def png_to_mp4(file_pattern, output):\n",
        "    \"\"\"Convert a set of png files into a mp4 video\n",
        "\n",
        "    Arguments:\n",
        "    file_pattern -- pattern matching the name of the input png\n",
        "    output -- output path of the mp4\n",
        "    \n",
        "    Example usage: png_to_mp4('record/step_%03d.png', 'record.mp4')\n",
        "    \"\"\"\n",
        "    input_full = Path(file_pattern).resolve()\n",
        "    input_directory = input_full.parent\n",
        "    input_pattern = input_full.name\n",
        "    output_full = Path(output).resolve()\n",
        "    !cd $input_directory; ffmpeg -hide_banner -loglevel error -r 60 -i $input_pattern -vcodec libx264 -crf 25 -pix_fmt yuv420p -y $output_full"
      ],
      "execution_count": 77,
      "outputs": []
    },
    {
      "cell_type": "code",
      "metadata": {
        "id": "_SfKRFx8Dvit"
      },
      "source": [
        "# Built-in libraries\n",
        "import sys\n",
        "import random\n",
        "from pathlib import Path\n",
        "\n",
        "# Pipy libraries\n",
        "from ale_py import ALEInterface, SDL_SUPPORT\n",
        "from ale_py.roms import Breakout"
      ],
      "execution_count": 13,
      "outputs": []
    },
    {
      "cell_type": "code",
      "metadata": {
        "id": "BGWZkn54Dviu",
        "colab": {
          "base_uri": "https://localhost:8080/"
        },
        "outputId": "075ecc80-15fd-4bca-f479-30138f0afdb7"
      },
      "source": [
        "# Setup\n",
        "ale = ALEInterface()\n",
        "ale.setInt(\"random_seed\", 0)\n",
        "\n",
        "if SDL_SUPPORT and 'google.colab' not in sys.modules:\n",
        "    ale.setBool(\"sound\", True)\n",
        "    ale.setBool(\"display_screen\", True)\n",
        "\n",
        "ale.loadROM(Breakout)\n",
        "legal_actions = ale.getLegalActionSet()\n",
        "\n",
        "# Export\n",
        "!rm record/*\n",
        "Path('record').mkdir(exist_ok=True)\n",
        "\n",
        "# Play 10 episodes\n",
        "for episode in range(1):\n",
        "    total_reward = 0\n",
        "    j = 0\n",
        "    while not ale.game_over():\n",
        "        ale.saveScreenPNG(f'record/step_{j:04d}.png')\n",
        "        action = random.choice(legal_actions)\n",
        "        # Apply an action and get the resulting reward\n",
        "        reward = ale.act(action)\n",
        "        total_reward += reward\n",
        "        j += 1\n",
        "    print(\"Episode %d ended with score: %d\" % (episode, total_reward))\n",
        "    ale.reset_game()"
      ],
      "execution_count": 73,
      "outputs": [
        {
          "output_type": "stream",
          "name": "stdout",
          "text": [
            "Episode 0 ended with score: 2\n"
          ]
        }
      ]
    },
    {
      "cell_type": "code",
      "metadata": {
        "id": "CtO3jsi9Eepv",
        "outputId": "acdd47ee-f603-4ac0-e379-dc4aab3bd0b1",
        "colab": {
          "base_uri": "https://localhost:8080/",
          "height": 422
        }
      },
      "source": [
        "png_to_mp4('record/step_%04d.png', 'record.mp4')\n",
        "show_video('record.mp4')"
      ],
      "execution_count": 78,
      "outputs": [
        {
          "output_type": "display_data",
          "data": {
            "text/html": [
              "<video alt=\"record.mp4\" autoplay loop controls style=\"height: 400px;\">\n",
              "                <source src=\"data:video/mp4;base64,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\" type=\"video/mp4\" />\n",
              "              </video>"
            ],
            "text/plain": [
              "<IPython.core.display.HTML object>"
            ]
          },
          "metadata": {}
        }
      ]
    }
  ]
}