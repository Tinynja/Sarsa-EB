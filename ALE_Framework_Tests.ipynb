{
  "nbformat": 4,
  "nbformat_minor": 0,
  "metadata": {
    "colab": {
      "name": "ALE Framework Tests",
      "provenance": [],
      "include_colab_link": true
    },
    "kernelspec": {
      "display_name": "Python 3 (ipykernel)",
      "language": "python",
      "name": "python3"
    },
    "language_info": {
      "codemirror_mode": {
        "name": "ipython",
        "version": 3
      },
      "file_extension": ".py",
      "mimetype": "text/x-python",
      "name": "python",
      "nbconvert_exporter": "python",
      "pygments_lexer": "ipython3",
      "version": "3.9.8"
    }
  },
  "cells": [
    {
      "cell_type": "markdown",
      "metadata": {
        "id": "view-in-github",
        "colab_type": "text"
      },
      "source": [
        "<a href=\"https://colab.research.google.com/github/Tinynja/Sarsa-phi-EB/blob/main/ALE_Framework_Tests.ipynb\" target=\"_parent\"><img src=\"https://colab.research.google.com/assets/colab-badge.svg\" alt=\"Open In Colab\"/></a>"
      ]
    },
    {
      "cell_type": "code",
      "metadata": {
        "id": "3z3aqLItDvig",
        "colab": {
          "base_uri": "https://localhost:8080/"
        },
        "outputId": "bf13c2fa-0cac-410e-812b-42a082834104"
      },
      "source": [
        "import sys\n",
        "\n",
        "if 'google.colab' in sys.modules:\n",
        "    !rm -rf *\n",
        "    !git clone https://github.com/Tinynja/Sarsa-phi-EB\n",
        "    !mv Sarsa-phi-EB/* .\n",
        "    !rm -rf Sarsa-phi-EB\n",
        "    # DON'T install packages defined in Pipfile_colab_remove\n",
        "    !sed -ri \"/$(tr '\\n' '|' < Pipfile_colab_remove)/d\" Pipfile\n",
        "else:\n",
        "    print('Skipping GitHub cloning since not running in Colab.')"
      ],
      "execution_count": 1,
      "outputs": [
        {
          "output_type": "stream",
          "name": "stdout",
          "text": [
            "Cloning into 'Sarsa-phi-EB'...\n",
            "remote: Enumerating objects: 187, done.\u001b[K\n",
            "remote: Counting objects: 100% (187/187), done.\u001b[K\n",
            "remote: Compressing objects: 100% (161/161), done.\u001b[K\n",
            "remote: Total 187 (delta 36), reused 148 (delta 17), pack-reused 0\u001b[K\n",
            "Receiving objects: 100% (187/187), 567.38 KiB | 5.40 MiB/s, done.\n",
            "Resolving deltas: 100% (36/36), done.\n"
          ]
        }
      ]
    },
    {
      "cell_type": "code",
      "metadata": {
        "id": "ZdficWqDDviq",
        "colab": {
          "base_uri": "https://localhost:8080/"
        },
        "outputId": "a6ab0795-c62a-4428-e954-2d2cbfad00b6"
      },
      "source": [
        "# Install required dependencies\n",
        "if 'google.colab' in sys.modules:\n",
        "    # Colab doesn't support pipenv, hence we convert Pipfile into requirements.txt\n",
        "    !pip install pipenv 1> /dev/null\n",
        "    !pipenv lock -r > requirements.txt\n",
        "    !pip install -r requirements.txt 1> /dev/null\n",
        "else:\n",
        "    !pipenv lock 1> /dev/null\n",
        "    !pipenv install --deploy 1> /dev/null"
      ],
      "execution_count": 2,
      "outputs": [
        {
          "output_type": "stream",
          "name": "stdout",
          "text": [
            "Creating a virtualenv for this project...\n",
            "Pipfile: /content/Pipfile\n",
            "Using /usr/local/bin/python (3.7.12) to create virtualenv...\n",
            "⠴\u001b[0m Creating virtual environment...\u001b[Kcreated virtual environment CPython3.7.12.final.0-64 in 992ms\n",
            "  creator CPython3Posix(dest=/root/.local/share/virtualenvs/content-cQIIIOO2, clear=False, no_vcs_ignore=False, global=False)\n",
            "  seeder FromAppData(download=False, pip=bundle, setuptools=bundle, wheel=bundle, via=copy, app_data_dir=/root/.local/share/virtualenv)\n",
            "    added seed packages: pip==21.3.1, setuptools==58.3.0, wheel==0.37.0\n",
            "  activators BashActivator,CShellActivator,FishActivator,NushellActivator,PowerShellActivator,PythonActivator\n",
            "\n",
            "\u001b[K\u001b[?25h\u001b[32m\u001b[22m✔ Successfully created virtual environment!\u001b[39m\u001b[22m\u001b[0m \n",
            "Virtualenv location: /root/.local/share/virtualenvs/content-cQIIIOO2\n",
            "Pipfile.lock not found, creating...\n",
            "Locking [dev-packages] dependencies...\n",
            "Locking [packages] dependencies...\n",
            "\u001b[KBuilding requirements...\n",
            "\u001b[KResolving dependencies...\n",
            "\u001b[K\u001b[?25h\u001b[32m\u001b[22m✔ Success!\u001b[39m\u001b[22m\u001b[0m \n",
            "Updated Pipfile.lock (44ce9b)!\n",
            "\u001b[31mERROR: pip's dependency resolver does not currently take into account all the packages that are installed. This behaviour is the source of the following dependency conflicts.\n",
            "yellowbrick 1.3.post1 requires numpy<1.20,>=1.16.0, but you have numpy 1.21.4 which is incompatible.\n",
            "datascience 0.10.6 requires folium==0.2.1, but you have folium 0.8.3 which is incompatible.\n",
            "arviz 0.11.4 requires typing-extensions<4,>=3.7.4.3, but you have typing-extensions 4.0.1 which is incompatible.\n",
            "albumentations 0.1.12 requires imgaug<0.2.7,>=0.2.5, but you have imgaug 0.2.9 which is incompatible.\u001b[0m\n"
          ]
        }
      ]
    },
    {
      "cell_type": "code",
      "metadata": {
        "scrolled": true,
        "id": "_YFCigY7Dvis",
        "colab": {
          "base_uri": "https://localhost:8080/"
        },
        "outputId": "78ebe860-2992-40f3-f1ca-0e25f7dc108d"
      },
      "source": [
        "# Import all supported ROMs into ALE\n",
        "!ale-import-roms ROMS"
      ],
      "execution_count": 3,
      "outputs": [
        {
          "output_type": "stream",
          "name": "stdout",
          "text": [
            "\u001b[92m[SUPPORTED]    \u001b[0m                qbert        ROMS/Q. Bert (1983).bin\n",
            "\u001b[92m[SUPPORTED]    \u001b[0m               casino ROMS/Casino - Poker Plus (Paddle) (1979).bin\n",
            "\u001b[92m[SUPPORTED]    \u001b[0m         demon_attack ROMS/Demon Attack (Death from Above) (1982).bin\n",
            "\u001b[92m[SUPPORTED]    \u001b[0m              bowling        ROMS/Bowling (1979).bin\n",
            "\u001b[92m[SUPPORTED]    \u001b[0m             seaquest       ROMS/Seaquest (1983).bin\n",
            "\u001b[92m[SUPPORTED]    \u001b[0m      chopper_command ROMS/Chopper Command (1982).bin\n",
            "\u001b[92m[SUPPORTED]    \u001b[0m           time_pilot     ROMS/Time Pilot (1983).bin\n",
            "\u001b[92m[SUPPORTED]    \u001b[0m             trondead ROMS/TRON - Deadly Discs (TRON Joystick) (1983).bin\n",
            "\u001b[92m[SUPPORTED]    \u001b[0m            jamesbond ROMS/James Bond 007 (James Bond Agent 007) (1984).bin\n",
            "\u001b[92m[SUPPORTED]    \u001b[0m               pacman        ROMS/Pac-Man (1982).bin\n",
            "\u001b[92m[SUPPORTED]    \u001b[0m               kaboom ROMS/Kaboom! (Paddle) (1981).bin\n",
            "\u001b[92m[SUPPORTED]    \u001b[0m              asterix ROMS/Asterix (AKA Taz) (1983).bin\n",
            "\u001b[92m[SUPPORTED]    \u001b[0m                qbert         ROMS/Q-bert (1987).bin\n",
            "\u001b[92m[SUPPORTED]    \u001b[0m              pitfall ROMS/Pitfall! - Pitfall Harry's Jungle Adventure (Jungle Runner) (1982).bin\n",
            "\u001b[92m[SUPPORTED]    \u001b[0m              venture        ROMS/Venture (1982).bin\n",
            "\u001b[92m[SUPPORTED]    \u001b[0m               enduro         ROMS/Enduro (1983).bin\n",
            "\u001b[92m[SUPPORTED]    \u001b[0m                alien          ROMS/Alien (1982).bin\n",
            "\u001b[92m[SUPPORTED]    \u001b[0m             atlantis ROMS/Atlantis (Lost City of Atlantis) (1982).bin\n",
            "\u001b[92m[SUPPORTED]    \u001b[0m           basic_math ROMS/Basic Math - Math (Math Pack) (1977).bin\n",
            "\u001b[92m[SUPPORTED]    \u001b[0m                   et ROMS/E.T. - The Extra-Terrestrial (1982).bin\n",
            "\u001b[92m[SUPPORTED]    \u001b[0m         lost_luggage ROMS/Lost Luggage (Airport Mayhem) (1982).bin\n",
            "\u001b[92m[SUPPORTED]    \u001b[0m               boxing ROMS/Boxing - La Boxe (1980).bin\n",
            "\u001b[92m[SUPPORTED]    \u001b[0m             gravitar       ROMS/Gravitar (1983).bin\n",
            "\u001b[92m[SUPPORTED]    \u001b[0m     human_cannonball ROMS/Human Cannonball - Cannon Man (1979).bin\n",
            "\u001b[92m[SUPPORTED]    \u001b[0m           beam_rider      ROMS/Beamrider (1984).bin\n",
            "\u001b[92m[SUPPORTED]    \u001b[0m               gopher ROMS/Gopher (Gopher Attack) (1982).bin\n",
            "\u001b[92m[SUPPORTED]    \u001b[0m              asterix ROMS/Asterix (AKA Taz) (1984).bin\n",
            "\u001b[92m[SUPPORTED]    \u001b[0m       name_this_game ROMS/Name This Game (Guardians of Treasure) (1983).bin\n",
            "\u001b[92m[SUPPORTED]    \u001b[0m                krull          ROMS/Krull (1983).bin\n",
            "\u001b[92m[SUPPORTED]    \u001b[0m            videocube ROMS/Atari Video Cube (Atari Cube, Video Cube) (1983).bin\n",
            "\u001b[92m[SUPPORTED]    \u001b[0m            tutankham      ROMS/Tutankham (1983).bin\n",
            "\u001b[92m[SUPPORTED]    \u001b[0m       space_invaders ROMS/Space Invaders (1980).bin\n",
            "\u001b[92m[SUPPORTED]    \u001b[0m         sir_lancelot   ROMS/Sir Lancelot (1983).bin\n",
            "\u001b[92m[SUPPORTED]    \u001b[0m             robotank ROMS/Robot Tank (Robotank) (1983).bin\n",
            "\u001b[92m[SUPPORTED]    \u001b[0m             kangaroo       ROMS/Kangaroo (1983).bin\n",
            "\u001b[92m[SUPPORTED]    \u001b[0m       tic_tac_toe_3d ROMS/3-D Tic-Tac-Toe (1980).bin\n",
            "\u001b[92m[SUPPORTED]    \u001b[0m            centipede      ROMS/Centipede (1983).bin\n",
            "\u001b[92m[SUPPORTED]    \u001b[0m      elevator_action ROMS/Elevator Action (1983).bin\n",
            "\u001b[92m[SUPPORTED]    \u001b[0m               tennis ROMS/Tennis - Le Tennis (1981).bin\n",
            "\u001b[92m[SUPPORTED]    \u001b[0m        wizard_of_wor  ROMS/Wizard of Wor (1982).bin\n",
            "\u001b[92m[SUPPORTED]    \u001b[0m            atlantis2    ROMS/Atlantis II (1982).bin\n",
            "\u001b[92m[SUPPORTED]    \u001b[0m           ice_hockey ROMS/Ice Hockey - Le Hockey Sur Glace (1981).bin\n",
            "\u001b[92m[SUPPORTED]    \u001b[0m             surround ROMS/Surround - Chase (Blockade) (1977).bin\n",
            "\u001b[92m[SUPPORTED]    \u001b[0m      keystone_kapers ROMS/Keystone Kapers - Raueber und Gendarm (1983).bin\n",
            "\u001b[92m[SUPPORTED]    \u001b[0m             carnival       ROMS/Carnival (1982).bin\n",
            "\u001b[92m[SUPPORTED]    \u001b[0m              phoenix        ROMS/Phoenix (1983).bin\n",
            "\u001b[92m[SUPPORTED]    \u001b[0m           basic_math ROMS/Fun with Numbers (AKA Basic Math) (1980).bin\n",
            "\u001b[92m[SUPPORTED]    \u001b[0m               skiing ROMS/Skiing - Le Ski (1980).bin\n",
            "\u001b[92m[SUPPORTED]    \u001b[0m              frogger        ROMS/Frogger (1982).bin\n",
            "\u001b[92m[SUPPORTED]    \u001b[0m              assault ROMS/Assault (AKA Sky Alien) (1983).bin\n",
            "\u001b[92m[SUPPORTED]    \u001b[0m         yars_revenge ROMS/Yars' Revenge (Time Freeze) (1982).bin\n",
            "\u001b[92m[SUPPORTED]    \u001b[0m          double_dunk ROMS/Double Dunk (Super Basketball) (1989).bin\n",
            "\u001b[92m[SUPPORTED]    \u001b[0m             defender       ROMS/Defender (1982).bin\n",
            "\u001b[92m[SUPPORTED]    \u001b[0m             entombed ROMS/Entombed (Maze Chase, Pharaoh's Tomb, Zombie) (1983).bin\n",
            "\u001b[92m[SUPPORTED]    \u001b[0m                qbert         ROMS/Q-bert (1983).bin\n",
            "\u001b[92m[SUPPORTED]    \u001b[0m              koolaid ROMS/Kool-Aid Man (Kool Aid Pitcher Man) (1983).bin\n",
            "\u001b[92m[SUPPORTED]    \u001b[0m       kung_fu_master ROMS/Kung-Fu Master (1987).bin\n",
            "\u001b[92m[SUPPORTED]    \u001b[0m            space_war ROMS/Space War - Space Star (32 in 1) (1988).bin\n",
            "\u001b[92m[SUPPORTED]    \u001b[0m         darkchambers ROMS/Dark Chambers (Dungeon, Dungeon Masters) (1989).bin\n",
            "\u001b[92m[SUPPORTED]    \u001b[0m       miniature_golf ROMS/Miniature Golf - Arcade Golf (1979).bin\n",
            "\u001b[92m[SUPPORTED]    \u001b[0m              turmoil        ROMS/Turmoil (1982).bin\n",
            "\u001b[92m[SUPPORTED]    \u001b[0m                 pong ROMS/Video Olympics - Pong Sports (Paddle) (1977).bin\n",
            "\u001b[92m[SUPPORTED]    \u001b[0m             galaxian       ROMS/Galaxian (1983).bin\n",
            "\u001b[92m[SUPPORTED]    \u001b[0m        fishing_derby  ROMS/Fishing Derby (1980).bin\n",
            "\u001b[92m[SUPPORTED]    \u001b[0m          donkey_kong    ROMS/Donkey Kong (1982).bin\n",
            "\u001b[92m[SUPPORTED]    \u001b[0m            frostbite      ROMS/Frostbite (1983).bin\n",
            "\u001b[92m[SUPPORTED]    \u001b[0m           backgammon ROMS/Backgammon (Paddle) (1979).bin\n",
            "\u001b[92m[SUPPORTED]    \u001b[0m            king_kong      ROMS/King Kong (1982).bin\n",
            "\u001b[92m[SUPPORTED]    \u001b[0m          road_runner    ROMS/Road Runner (1989).bin\n",
            "\u001b[92m[SUPPORTED]    \u001b[0m              othello        ROMS/Othello (1981).bin\n",
            "\u001b[92m[SUPPORTED]    \u001b[0m          donkey_kong    ROMS/Donkey Kong (1987).bin\n",
            "\u001b[92m[SUPPORTED]    \u001b[0m           videochess ROMS/Video Chess (Computer Chess) (1979).bin\n",
            "\u001b[92m[SUPPORTED]    \u001b[0m              solaris ROMS/Solaris (The Last Starfighter, Star Raiders II, Universe) (1986).bin\n",
            "\u001b[92m[SUPPORTED]    \u001b[0m              hangman ROMS/Hangman - Spelling (1978).bin\n",
            "\u001b[92m[SUPPORTED]    \u001b[0m             crossbow       ROMS/Crossbow (1988).bin\n",
            "\u001b[92m[SUPPORTED]    \u001b[0m       journey_escape ROMS/Journey Escape (1983).bin\n",
            "\u001b[92m[SUPPORTED]    \u001b[0m        video_pinball ROMS/Video Pinball - Arcade Pinball (1981).bin\n",
            "\u001b[92m[SUPPORTED]    \u001b[0m    montezuma_revenge ROMS/Montezuma's Revenge - Featuring Panama Joe (1984).bin\n",
            "\u001b[92m[SUPPORTED]    \u001b[0m           mario_bros    ROMS/Mario Bros. (1983).bin\n",
            "\u001b[92m[SUPPORTED]    \u001b[0m                 klax           ROMS/Klax (1991).bin\n",
            "\u001b[92m[SUPPORTED]    \u001b[0m             breakout ROMS/Breakout - Breakaway IV (Paddle) (1978).bin\n",
            "\u001b[92m[SUPPORTED]    \u001b[0m            blackjack ROMS/Blackjack - Black Jack (Gambling) (Paddle) (1977).bin\n",
            "\u001b[92m[SUPPORTED]    \u001b[0m         flag_capture ROMS/Flag Capture - Capture (Capture the Flag) (1978).bin\n",
            "\u001b[92m[SUPPORTED]    \u001b[0m             air_raid ROMS/Air Raid (Men-A-Vision) (PAL) ~.bin\n",
            "\u001b[92m[SUPPORTED]    \u001b[0m           earthworld ROMS/SwordQuest - EarthWorld (Adventure I, SwordQuest I - EarthWorld) (1982).bin\n",
            "\u001b[92m[SUPPORTED]    \u001b[0m            riverraid     ROMS/River Raid (1982).bin\n",
            "\u001b[92m[SUPPORTED]    \u001b[0m             pitfall2 ROMS/Pitfall II - Lost Caverns (1984).bin\n",
            "\u001b[92m[SUPPORTED]    \u001b[0m               pooyan         ROMS/Pooyan (1983).bin\n",
            "\u001b[92m[SUPPORTED]    \u001b[0m               amidar         ROMS/Amidar (1982).bin\n",
            "\u001b[92m[SUPPORTED]    \u001b[0m            asteroids      ROMS/Asteroids (1981).bin\n",
            "\u001b[92m[SUPPORTED]    \u001b[0m          battle_zone     ROMS/Battlezone (1983).bin\n",
            "\u001b[92m[SUPPORTED]    \u001b[0m             surround ROMS/Surround (32 in 1) (Bit Corporation) (R320).bin\n",
            "\u001b[92m[SUPPORTED]    \u001b[0m          private_eye    ROMS/Private Eye (1984).bin\n",
            "\u001b[92m[SUPPORTED]    \u001b[0m        crazy_climber  ROMS/Crazy Climber (1983).bin\n",
            "\u001b[92m[SUPPORTED]    \u001b[0m          star_gunner     ROMS/Stargunner (1983).bin\n",
            "\u001b[92m[SUPPORTED]    \u001b[0m            up_n_down     ROMS/Up 'n Down (1984).bin\n",
            "\u001b[92m[SUPPORTED]    \u001b[0m          laser_gates ROMS/Laser Gates (AKA Innerspace) (1983).bin\n",
            "\u001b[92m[SUPPORTED]    \u001b[0m        video_pinball ROMS/Pinball (AKA Video Pinball) (Zellers).bin\n",
            "\u001b[92m[SUPPORTED]    \u001b[0m               zaxxon         ROMS/Zaxxon (1983).bin\n",
            "\u001b[92m[SUPPORTED]    \u001b[0m       video_checkers ROMS/Video Checkers - Checkers - Atari Video Checkers (1980).bin\n",
            "\u001b[92m[SUPPORTED]    \u001b[0m             superman       ROMS/Superman (1979).bin\n",
            "\u001b[92m[SUPPORTED]    \u001b[0m              berzerk        ROMS/Berzerk (1982).bin\n",
            "\u001b[92m[SUPPORTED]    \u001b[0m            adventure      ROMS/Adventure (1980).bin\n",
            "\u001b[92m[SUPPORTED]    \u001b[0m            ms_pacman    ROMS/Ms. Pac-Man (1983).bin\n",
            "\u001b[92m[SUPPORTED]    \u001b[0m        haunted_house ROMS/Haunted House (Mystery Mansion, Graves' Manor, Nightmare Manor) (1982).bin\n",
            "\u001b[92m[SUPPORTED]    \u001b[0m           bank_heist ROMS/Bank Heist (Bonnie & Clyde, Cops 'n' Robbers, Hold-Up, Roaring 20's) (1983).bin\n",
            "\u001b[92m[SUPPORTED]    \u001b[0m              freeway        ROMS/Freeway (1981).bin\n",
            "\u001b[92m[SUPPORTED]    \u001b[0m                 hero       ROMS/H.E.R.O. (1984).bin\n",
            "\u001b[92m[SUPPORTED]    \u001b[0m                mr_do        ROMS/Mr. Do! (1983).bin\n",
            "\u001b[92m[SUPPORTED]    \u001b[0m          word_zapper ROMS/Word Zapper (Word Grabber) (1982).bin\n",
            "\n",
            "\n",
            "\n",
            "Imported 110 / 110 ROMs\n"
          ]
        }
      ]
    },
    {
      "cell_type": "code",
      "metadata": {
        "id": "_SfKRFx8Dvit"
      },
      "source": [
        "# Built-in libraries\n",
        "import re\n",
        "import sys\n",
        "import base64\n",
        "import random\n",
        "from pathlib import Path\n",
        "\n",
        "# Pipy libraries\n",
        "from IPython import display as ipythondisplay\n",
        "from ale_py import ALEInterface, SDL_SUPPORT\n",
        "from ale_py.roms import Breakout"
      ],
      "execution_count": 17,
      "outputs": []
    },
    {
      "cell_type": "code",
      "metadata": {
        "id": "zAs6_UzuKGjz"
      },
      "source": [
        "class EnvALE:\n",
        "    def __init__(self, rom, out_dir='ale-results', display=False, seed=0):\n",
        "        self.out_dir = Path(out_dir).resolve()\n",
        "        self.out_dir.mkdir(exist_ok=True)\n",
        "    \n",
        "        self.ale = ALEInterface()\n",
        "        self.ale.setInt(\"random_seed\", seed)\n",
        "        if SDL_SUPPORT and 'google.colab' not in sys.modules:\n",
        "            ale.setBool(\"sound\", True)\n",
        "            ale.setBool(\"display_screen\", True)\n",
        "        self.ale.loadROM(rom)\n",
        "\n",
        "        self.action_space = self.ale.getMinimalActionSet()\n",
        "\n",
        "        # Default values\n",
        "        self._timestep = 0\n",
        "        self._do_record = False\n",
        "        self._record_padding = None\n",
        "\n",
        "    def reset(self, do_record=False):\n",
        "        self.ale.reset_game()\n",
        "        observation = self._observe()\n",
        "        self._timestep = 0\n",
        "\n",
        "        self._do_record = do_record\n",
        "        self._handle_recording()\n",
        "        \n",
        "        return observation\n",
        "        \n",
        "    def step(self, action):\n",
        "        reward = self.ale.act(action)\n",
        "        observation = self._observe()\n",
        "        done = self.ale.game_over()\n",
        "        self._timestep += 1\n",
        "        \n",
        "        self._handle_recording()\n",
        "        \n",
        "        return observation, reward, done, None\n",
        "\n",
        "    def show_video(self):\n",
        "        \"\"\"Show a .mp4 video in html format of the recorded episode\"\"\"\n",
        "        filepath = self.out_dir.joinpath('record.mp4')\n",
        "        video_b64 = base64.b64encode(filepath.read_bytes())\n",
        "        html = f'''<video alt=\"{filepath}\" autoplay loop controls style=\"height: 400px;\">\n",
        "                        <source src=\"data:video/mp4;base64,{video_b64.decode('ascii')}\" type=\"video/mp4\" />\n",
        "                   </video>'''\n",
        "        ipythondisplay.display(ipythondisplay.HTML(data=html))\n",
        "        \n",
        "    def _observe(self):\n",
        "        return self.ale.getScreenRGB()\n",
        "    \n",
        "    def _handle_recording(self):\n",
        "        # Do nothing if not asked to record\n",
        "        if not self._do_record: return\n",
        "        # This is a new episode, delete previously recorded steps\n",
        "        if not self._timestep:\n",
        "            self.out_dir.joinpath('record').mkdir(exist_ok=True)\n",
        "            for step_png in self.out_dir.glob('record/step_*.png'):\n",
        "                step_png.unlink()\n",
        "            self._record_padding = None\n",
        "        # Record current timestep png\n",
        "        self.ale.saveScreenPNG(str(self.out_dir.joinpath(f'record/step_{self._timestep}.png')))\n",
        "        # Once the episode is over, format all png filenames to have the same integer 0 padding\n",
        "        if self.ale.game_over():\n",
        "            self._record_padding = len(str(self._timestep))\n",
        "            self._standardize_record_padding()\n",
        "            self._png_to_mp4()\n",
        "    \n",
        "    def _standardize_record_padding(self):\n",
        "        number_pattern = re.compile('\\d+')\n",
        "        for png in self.out_dir.glob('record/step_*.png'):\n",
        "            timestep = int(number_pattern.search(png.stem).group(0))\n",
        "            new_name = png.parent.joinpath(f'step_{timestep:0{self._record_padding}d}.png')\n",
        "            png.rename(new_name)\n",
        "\n",
        "    def _png_to_mp4(self):\n",
        "        \"\"\"Convert the recorded set of png files into a mp4 video\"\"\"\n",
        "        in_dir = self.out_dir.joinpath('record')\n",
        "        in_pattern = self.out_dir.joinpath(f'record/step_%0{self._record_padding}d.png')\n",
        "        out_file = self.out_dir.joinpath('record.mp4')\n",
        "        !cd $in_dir; ffmpeg -hide_banner -loglevel error -r 60 -i $in_pattern -vcodec libx264 -crf 25 -pix_fmt yuv420p -y $out_file"
      ],
      "execution_count": 58,
      "outputs": []
    },
    {
      "cell_type": "code",
      "metadata": {
        "id": "dh8WdcHh4Z8M",
        "outputId": "e5aebc3d-1686-4a61-db8f-55d1c5d3c49b",
        "colab": {
          "base_uri": "https://localhost:8080/",
          "height": 439
        }
      },
      "source": [
        "env = EnvALE(Breakout)\n",
        "\n",
        "# Play an episode\n",
        "observation, done = env.reset(do_record=True), False\n",
        "total_reward = 0\n",
        "while not done:\n",
        "    observation, reward, done, info = env.step(random.choice(env.action_space))\n",
        "    total_reward += reward\n",
        "print(f\"Episode ended with score: {total_reward}\")\n",
        "env.show_video()"
      ],
      "execution_count": 61,
      "outputs": [
        {
          "output_type": "stream",
          "name": "stdout",
          "text": [
            "Episode ended with score: 1\n"
          ]
        },
        {
          "output_type": "display_data",
          "data": {
            "text/html": [
              "<video alt=\"/content/ale-results/record.mp4\" autoplay loop controls style=\"height: 400px;\">\n",
              "                        <source src=\"data:video/mp4;base64,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\" type=\"video/mp4\" />\n",
              "                   </video>"
            ],
            "text/plain": [
              "<IPython.core.display.HTML object>"
            ]
          },
          "metadata": {}
        }
      ]
    }
  ]
}