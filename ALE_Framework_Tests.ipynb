{
  "nbformat": 4,
  "nbformat_minor": 0,
  "metadata": {
    "colab": {
      "name": "ALE Framework Tests",
      "provenance": [],
      "include_colab_link": true
    },
    "kernelspec": {
      "display_name": "Python 3 (ipykernel)",
      "language": "python",
      "name": "python3"
    },
    "language_info": {
      "codemirror_mode": {
        "name": "ipython",
        "version": 3
      },
      "file_extension": ".py",
      "mimetype": "text/x-python",
      "name": "python",
      "nbconvert_exporter": "python",
      "pygments_lexer": "ipython3",
      "version": "3.9.8"
    }
  },
  "cells": [
    {
      "cell_type": "markdown",
      "metadata": {
        "id": "view-in-github",
        "colab_type": "text"
      },
      "source": [
        "<a href=\"https://colab.research.google.com/github/Tinynja/Sarsa-phi-EB/blob/main/ALE_Framework_Tests.ipynb\" target=\"_parent\"><img src=\"https://colab.research.google.com/assets/colab-badge.svg\" alt=\"Open In Colab\"/></a>"
      ]
    },
    {
      "cell_type": "code",
      "metadata": {
        "id": "3z3aqLItDvig",
        "colab": {
          "base_uri": "https://localhost:8080/"
        },
        "outputId": "644aa141-58c4-4541-fbfe-a2e3a33dae46"
      },
      "source": [
        "import sys\n",
        "\n",
        "if 'google.colab' in sys.modules:\n",
        "    !rm -rf *\n",
        "    !git clone https://github.com/Tinynja/Sarsa-phi-EB\n",
        "    !mv Sarsa-phi-EB/* .\n",
        "    !rm -rf Sarsa-phi-EB\n",
        "    # DON'T install packages defined in Pipfile_colab_remove\n",
        "    !sed -ri \"/$(tr '\\n' '|' < Pipfile_colab_remove)/d\" Pipfile\n",
        "else:\n",
        "    print('Skipping GitHub cloning since not running in Colab.')"
      ],
      "execution_count": 1,
      "outputs": [
        {
          "output_type": "stream",
          "name": "stdout",
          "text": [
            "Cloning into 'Sarsa-phi-EB'...\n",
            "remote: Enumerating objects: 210, done.\u001b[K\n",
            "remote: Counting objects: 100% (210/210), done.\u001b[K\n",
            "remote: Compressing objects: 100% (182/182), done.\u001b[K\n",
            "remote: Total 210 (delta 45), reused 155 (delta 19), pack-reused 0\u001b[K\n",
            "Receiving objects: 100% (210/210), 655.71 KiB | 6.43 MiB/s, done.\n",
            "Resolving deltas: 100% (45/45), done.\n"
          ]
        }
      ]
    },
    {
      "cell_type": "code",
      "metadata": {
        "id": "ZdficWqDDviq",
        "colab": {
          "base_uri": "https://localhost:8080/"
        },
        "outputId": "a43b696c-5cc4-4954-bc90-48e1a2426023"
      },
      "source": [
        "# Install required dependencies\n",
        "if 'google.colab' in sys.modules:\n",
        "    # Colab doesn't support pipenv, hence we convert Pipfile into requirements.txt\n",
        "    !pip install pipenv 1> /dev/null\n",
        "    !pipenv lock -r > requirements.txt\n",
        "    !pip install -r requirements.txt 1> /dev/null\n",
        "else:\n",
        "    !pipenv lock 1> /dev/null\n",
        "    !pipenv install --deploy 1> /dev/null"
      ],
      "execution_count": 2,
      "outputs": [
        {
          "output_type": "stream",
          "name": "stdout",
          "text": [
            "Creating a virtualenv for this project...\n",
            "Pipfile: /content/Pipfile\n",
            "Using /usr/local/bin/python (3.7.12) to create virtualenv...\n",
            "⠴\u001b[0m Creating virtual environment...\u001b[Kcreated virtual environment CPython3.7.12.final.0-64 in 1042ms\n",
            "  creator CPython3Posix(dest=/root/.local/share/virtualenvs/content-cQIIIOO2, clear=False, no_vcs_ignore=False, global=False)\n",
            "  seeder FromAppData(download=False, pip=bundle, setuptools=bundle, wheel=bundle, via=copy, app_data_dir=/root/.local/share/virtualenv)\n",
            "    added seed packages: pip==21.3.1, setuptools==58.3.0, wheel==0.37.0\n",
            "  activators BashActivator,CShellActivator,FishActivator,NushellActivator,PowerShellActivator,PythonActivator\n",
            "\n",
            "\u001b[K\u001b[?25h\u001b[32m\u001b[22m✔ Successfully created virtual environment!\u001b[39m\u001b[22m\u001b[0m \n",
            "Virtualenv location: /root/.local/share/virtualenvs/content-cQIIIOO2\n",
            "Pipfile.lock not found, creating...\n",
            "Locking [dev-packages] dependencies...\n",
            "Locking [packages] dependencies...\n",
            "\u001b[KBuilding requirements...\n",
            "\u001b[KResolving dependencies...\n",
            "\u001b[K\u001b[?25h\u001b[32m\u001b[22m✔ Success!\u001b[39m\u001b[22m\u001b[0m \n",
            "Updated Pipfile.lock (44ce9b)!\n",
            "\u001b[31mERROR: pip's dependency resolver does not currently take into account all the packages that are installed. This behaviour is the source of the following dependency conflicts.\n",
            "yellowbrick 1.3.post1 requires numpy<1.20,>=1.16.0, but you have numpy 1.21.4 which is incompatible.\n",
            "datascience 0.10.6 requires folium==0.2.1, but you have folium 0.8.3 which is incompatible.\n",
            "arviz 0.11.4 requires typing-extensions<4,>=3.7.4.3, but you have typing-extensions 4.0.1 which is incompatible.\n",
            "albumentations 0.1.12 requires imgaug<0.2.7,>=0.2.5, but you have imgaug 0.2.9 which is incompatible.\u001b[0m\n"
          ]
        }
      ]
    },
    {
      "cell_type": "code",
      "metadata": {
        "scrolled": true,
        "id": "_YFCigY7Dvis",
        "colab": {
          "base_uri": "https://localhost:8080/"
        },
        "outputId": "d0bbf517-159a-409c-a431-ae1f2524bb26"
      },
      "source": [
        "# Import all supported ROMs into ALE\n",
        "!ale-import-roms ROMS"
      ],
      "execution_count": 3,
      "outputs": [
        {
          "output_type": "stream",
          "name": "stdout",
          "text": [
            "\u001b[92m[SUPPORTED]    \u001b[0m            ms_pacman    ROMS/Ms. Pac-Man (1983).bin\n",
            "\u001b[92m[SUPPORTED]    \u001b[0m               amidar         ROMS/Amidar (1982).bin\n",
            "\u001b[92m[SUPPORTED]    \u001b[0m        haunted_house ROMS/Haunted House (Mystery Mansion, Graves' Manor, Nightmare Manor) (1982).bin\n",
            "\u001b[92m[SUPPORTED]    \u001b[0m               gopher ROMS/Gopher (Gopher Attack) (1982).bin\n",
            "\u001b[92m[SUPPORTED]    \u001b[0m            centipede      ROMS/Centipede (1983).bin\n",
            "\u001b[92m[SUPPORTED]    \u001b[0m           beam_rider      ROMS/Beamrider (1984).bin\n",
            "\u001b[92m[SUPPORTED]    \u001b[0m         demon_attack ROMS/Demon Attack (Death from Above) (1982).bin\n",
            "\u001b[92m[SUPPORTED]    \u001b[0m          road_runner    ROMS/Road Runner (1989).bin\n",
            "\u001b[92m[SUPPORTED]    \u001b[0m              berzerk        ROMS/Berzerk (1982).bin\n",
            "\u001b[92m[SUPPORTED]    \u001b[0m           mario_bros    ROMS/Mario Bros. (1983).bin\n",
            "\u001b[92m[SUPPORTED]    \u001b[0m                   et ROMS/E.T. - The Extra-Terrestrial (1982).bin\n",
            "\u001b[92m[SUPPORTED]    \u001b[0m           time_pilot     ROMS/Time Pilot (1983).bin\n",
            "\u001b[92m[SUPPORTED]    \u001b[0m       journey_escape ROMS/Journey Escape (1983).bin\n",
            "\u001b[92m[SUPPORTED]    \u001b[0m                 hero       ROMS/H.E.R.O. (1984).bin\n",
            "\u001b[92m[SUPPORTED]    \u001b[0m              koolaid ROMS/Kool-Aid Man (Kool Aid Pitcher Man) (1983).bin\n",
            "\u001b[92m[SUPPORTED]    \u001b[0m             robotank ROMS/Robot Tank (Robotank) (1983).bin\n",
            "\u001b[92m[SUPPORTED]    \u001b[0m           basic_math ROMS/Fun with Numbers (AKA Basic Math) (1980).bin\n",
            "\u001b[92m[SUPPORTED]    \u001b[0m            up_n_down     ROMS/Up 'n Down (1984).bin\n",
            "\u001b[92m[SUPPORTED]    \u001b[0m                mr_do        ROMS/Mr. Do! (1983).bin\n",
            "\u001b[92m[SUPPORTED]    \u001b[0m         flag_capture ROMS/Flag Capture - Capture (Capture the Flag) (1978).bin\n",
            "\u001b[92m[SUPPORTED]    \u001b[0m             surround ROMS/Surround (32 in 1) (Bit Corporation) (R320).bin\n",
            "\u001b[92m[SUPPORTED]    \u001b[0m            videocube ROMS/Atari Video Cube (Atari Cube, Video Cube) (1983).bin\n",
            "\u001b[92m[SUPPORTED]    \u001b[0m             defender       ROMS/Defender (1982).bin\n",
            "\u001b[92m[SUPPORTED]    \u001b[0m             galaxian       ROMS/Galaxian (1983).bin\n",
            "\u001b[92m[SUPPORTED]    \u001b[0m              phoenix        ROMS/Phoenix (1983).bin\n",
            "\u001b[92m[SUPPORTED]    \u001b[0m            blackjack ROMS/Blackjack - Black Jack (Gambling) (Paddle) (1977).bin\n",
            "\u001b[92m[SUPPORTED]    \u001b[0m          laser_gates ROMS/Laser Gates (AKA Innerspace) (1983).bin\n",
            "\u001b[92m[SUPPORTED]    \u001b[0m          donkey_kong    ROMS/Donkey Kong (1987).bin\n",
            "\u001b[92m[SUPPORTED]    \u001b[0m            asteroids      ROMS/Asteroids (1981).bin\n",
            "\u001b[92m[SUPPORTED]    \u001b[0m            space_war ROMS/Space War - Space Star (32 in 1) (1988).bin\n",
            "\u001b[92m[SUPPORTED]    \u001b[0m          battle_zone     ROMS/Battlezone (1983).bin\n",
            "\u001b[92m[SUPPORTED]    \u001b[0m                qbert         ROMS/Q-bert (1983).bin\n",
            "\u001b[92m[SUPPORTED]    \u001b[0m            jamesbond ROMS/James Bond 007 (James Bond Agent 007) (1984).bin\n",
            "\u001b[92m[SUPPORTED]    \u001b[0m                alien          ROMS/Alien (1982).bin\n",
            "\u001b[92m[SUPPORTED]    \u001b[0m        video_pinball ROMS/Pinball (AKA Video Pinball) (Zellers).bin\n",
            "\u001b[92m[SUPPORTED]    \u001b[0m            riverraid     ROMS/River Raid (1982).bin\n",
            "\u001b[92m[SUPPORTED]    \u001b[0m              hangman ROMS/Hangman - Spelling (1978).bin\n",
            "\u001b[92m[SUPPORTED]    \u001b[0m    montezuma_revenge ROMS/Montezuma's Revenge - Featuring Panama Joe (1984).bin\n",
            "\u001b[92m[SUPPORTED]    \u001b[0m                 klax           ROMS/Klax (1991).bin\n",
            "\u001b[92m[SUPPORTED]    \u001b[0m              pitfall ROMS/Pitfall! - Pitfall Harry's Jungle Adventure (Jungle Runner) (1982).bin\n",
            "\u001b[92m[SUPPORTED]    \u001b[0m              solaris ROMS/Solaris (The Last Starfighter, Star Raiders II, Universe) (1986).bin\n",
            "\u001b[92m[SUPPORTED]    \u001b[0m              frogger        ROMS/Frogger (1982).bin\n",
            "\u001b[92m[SUPPORTED]    \u001b[0m        video_pinball ROMS/Video Pinball - Arcade Pinball (1981).bin\n",
            "\u001b[92m[SUPPORTED]    \u001b[0m              freeway        ROMS/Freeway (1981).bin\n",
            "\u001b[92m[SUPPORTED]    \u001b[0m             entombed ROMS/Entombed (Maze Chase, Pharaoh's Tomb, Zombie) (1983).bin\n",
            "\u001b[92m[SUPPORTED]    \u001b[0m             gravitar       ROMS/Gravitar (1983).bin\n",
            "\u001b[92m[SUPPORTED]    \u001b[0m              assault ROMS/Assault (AKA Sky Alien) (1983).bin\n",
            "\u001b[92m[SUPPORTED]    \u001b[0m             kangaroo       ROMS/Kangaroo (1983).bin\n",
            "\u001b[92m[SUPPORTED]    \u001b[0m     human_cannonball ROMS/Human Cannonball - Cannon Man (1979).bin\n",
            "\u001b[92m[SUPPORTED]    \u001b[0m                qbert        ROMS/Q. Bert (1983).bin\n",
            "\u001b[92m[SUPPORTED]    \u001b[0m                krull          ROMS/Krull (1983).bin\n",
            "\u001b[92m[SUPPORTED]    \u001b[0m      chopper_command ROMS/Chopper Command (1982).bin\n",
            "\u001b[92m[SUPPORTED]    \u001b[0m              asterix ROMS/Asterix (AKA Taz) (1984).bin\n",
            "\u001b[92m[SUPPORTED]    \u001b[0m            frostbite      ROMS/Frostbite (1983).bin\n",
            "\u001b[92m[SUPPORTED]    \u001b[0m               enduro         ROMS/Enduro (1983).bin\n",
            "\u001b[92m[SUPPORTED]    \u001b[0m               pacman        ROMS/Pac-Man (1982).bin\n",
            "\u001b[92m[SUPPORTED]    \u001b[0m          double_dunk ROMS/Double Dunk (Super Basketball) (1989).bin\n",
            "\u001b[92m[SUPPORTED]    \u001b[0m               tennis ROMS/Tennis - Le Tennis (1981).bin\n",
            "\u001b[92m[SUPPORTED]    \u001b[0m          word_zapper ROMS/Word Zapper (Word Grabber) (1982).bin\n",
            "\u001b[92m[SUPPORTED]    \u001b[0m           earthworld ROMS/SwordQuest - EarthWorld (Adventure I, SwordQuest I - EarthWorld) (1982).bin\n",
            "\u001b[92m[SUPPORTED]    \u001b[0m             breakout ROMS/Breakout - Breakaway IV (Paddle) (1978).bin\n",
            "\u001b[92m[SUPPORTED]    \u001b[0m             crossbow       ROMS/Crossbow (1988).bin\n",
            "\u001b[92m[SUPPORTED]    \u001b[0m       video_checkers ROMS/Video Checkers - Checkers - Atari Video Checkers (1980).bin\n",
            "\u001b[92m[SUPPORTED]    \u001b[0m      elevator_action ROMS/Elevator Action (1983).bin\n",
            "\u001b[92m[SUPPORTED]    \u001b[0m       space_invaders ROMS/Space Invaders (1980).bin\n",
            "\u001b[92m[SUPPORTED]    \u001b[0m                qbert         ROMS/Q-bert (1987).bin\n",
            "\u001b[92m[SUPPORTED]    \u001b[0m              othello        ROMS/Othello (1981).bin\n",
            "\u001b[92m[SUPPORTED]    \u001b[0m             air_raid ROMS/Air Raid (Men-A-Vision) (PAL) ~.bin\n",
            "\u001b[92m[SUPPORTED]    \u001b[0m             pitfall2 ROMS/Pitfall II - Lost Caverns (1984).bin\n",
            "\u001b[92m[SUPPORTED]    \u001b[0m           backgammon ROMS/Backgammon (Paddle) (1979).bin\n",
            "\u001b[92m[SUPPORTED]    \u001b[0m            king_kong      ROMS/King Kong (1982).bin\n",
            "\u001b[92m[SUPPORTED]    \u001b[0m       tic_tac_toe_3d ROMS/3-D Tic-Tac-Toe (1980).bin\n",
            "\u001b[92m[SUPPORTED]    \u001b[0m            atlantis2    ROMS/Atlantis II (1982).bin\n",
            "\u001b[92m[SUPPORTED]    \u001b[0m             surround ROMS/Surround - Chase (Blockade) (1977).bin\n",
            "\u001b[92m[SUPPORTED]    \u001b[0m          donkey_kong    ROMS/Donkey Kong (1982).bin\n",
            "\u001b[92m[SUPPORTED]    \u001b[0m               pooyan         ROMS/Pooyan (1983).bin\n",
            "\u001b[92m[SUPPORTED]    \u001b[0m              venture        ROMS/Venture (1982).bin\n",
            "\u001b[92m[SUPPORTED]    \u001b[0m              turmoil        ROMS/Turmoil (1982).bin\n",
            "\u001b[92m[SUPPORTED]    \u001b[0m         darkchambers ROMS/Dark Chambers (Dungeon, Dungeon Masters) (1989).bin\n",
            "\u001b[92m[SUPPORTED]    \u001b[0m           videochess ROMS/Video Chess (Computer Chess) (1979).bin\n",
            "\u001b[92m[SUPPORTED]    \u001b[0m         sir_lancelot   ROMS/Sir Lancelot (1983).bin\n",
            "\u001b[92m[SUPPORTED]    \u001b[0m       kung_fu_master ROMS/Kung-Fu Master (1987).bin\n",
            "\u001b[92m[SUPPORTED]    \u001b[0m         yars_revenge ROMS/Yars' Revenge (Time Freeze) (1982).bin\n",
            "\u001b[92m[SUPPORTED]    \u001b[0m             superman       ROMS/Superman (1979).bin\n",
            "\u001b[92m[SUPPORTED]    \u001b[0m               kaboom ROMS/Kaboom! (Paddle) (1981).bin\n",
            "\u001b[92m[SUPPORTED]    \u001b[0m      keystone_kapers ROMS/Keystone Kapers - Raueber und Gendarm (1983).bin\n",
            "\u001b[92m[SUPPORTED]    \u001b[0m          private_eye    ROMS/Private Eye (1984).bin\n",
            "\u001b[92m[SUPPORTED]    \u001b[0m             atlantis ROMS/Atlantis (Lost City of Atlantis) (1982).bin\n",
            "\u001b[92m[SUPPORTED]    \u001b[0m               skiing ROMS/Skiing - Le Ski (1980).bin\n",
            "\u001b[92m[SUPPORTED]    \u001b[0m        crazy_climber  ROMS/Crazy Climber (1983).bin\n",
            "\u001b[92m[SUPPORTED]    \u001b[0m           ice_hockey ROMS/Ice Hockey - Le Hockey Sur Glace (1981).bin\n",
            "\u001b[92m[SUPPORTED]    \u001b[0m          star_gunner     ROMS/Stargunner (1983).bin\n",
            "\u001b[92m[SUPPORTED]    \u001b[0m                 pong ROMS/Video Olympics - Pong Sports (Paddle) (1977).bin\n",
            "\u001b[92m[SUPPORTED]    \u001b[0m       name_this_game ROMS/Name This Game (Guardians of Treasure) (1983).bin\n",
            "\u001b[92m[SUPPORTED]    \u001b[0m             carnival       ROMS/Carnival (1982).bin\n",
            "\u001b[92m[SUPPORTED]    \u001b[0m              bowling        ROMS/Bowling (1979).bin\n",
            "\u001b[92m[SUPPORTED]    \u001b[0m              asterix ROMS/Asterix (AKA Taz) (1983).bin\n",
            "\u001b[92m[SUPPORTED]    \u001b[0m            tutankham      ROMS/Tutankham (1983).bin\n",
            "\u001b[92m[SUPPORTED]    \u001b[0m        wizard_of_wor  ROMS/Wizard of Wor (1982).bin\n",
            "\u001b[92m[SUPPORTED]    \u001b[0m           basic_math ROMS/Basic Math - Math (Math Pack) (1977).bin\n",
            "\u001b[92m[SUPPORTED]    \u001b[0m           bank_heist ROMS/Bank Heist (Bonnie & Clyde, Cops 'n' Robbers, Hold-Up, Roaring 20's) (1983).bin\n",
            "\u001b[92m[SUPPORTED]    \u001b[0m        fishing_derby  ROMS/Fishing Derby (1980).bin\n",
            "\u001b[92m[SUPPORTED]    \u001b[0m            adventure      ROMS/Adventure (1980).bin\n",
            "\u001b[92m[SUPPORTED]    \u001b[0m               boxing ROMS/Boxing - La Boxe (1980).bin\n",
            "\u001b[92m[SUPPORTED]    \u001b[0m         lost_luggage ROMS/Lost Luggage (Airport Mayhem) (1982).bin\n",
            "\u001b[92m[SUPPORTED]    \u001b[0m             seaquest       ROMS/Seaquest (1983).bin\n",
            "\u001b[92m[SUPPORTED]    \u001b[0m               zaxxon         ROMS/Zaxxon (1983).bin\n",
            "\u001b[92m[SUPPORTED]    \u001b[0m               casino ROMS/Casino - Poker Plus (Paddle) (1979).bin\n",
            "\u001b[92m[SUPPORTED]    \u001b[0m       miniature_golf ROMS/Miniature Golf - Arcade Golf (1979).bin\n",
            "\u001b[92m[SUPPORTED]    \u001b[0m             trondead ROMS/TRON - Deadly Discs (TRON Joystick) (1983).bin\n",
            "\n",
            "\n",
            "\n",
            "Imported 110 / 110 ROMs\n"
          ]
        }
      ]
    },
    {
      "cell_type": "code",
      "metadata": {
        "id": "_SfKRFx8Dvit"
      },
      "source": [
        "#### ALE-related imports ####\n",
        "\n",
        "# Built-in libraries\n",
        "import re\n",
        "import sys\n",
        "import base64\n",
        "import pickle\n",
        "import subprocess\n",
        "from pathlib import Path\n",
        "\n",
        "# Pypi libraries\n",
        "import numpy as np\n",
        "from IPython import display as ipythondisplay\n",
        "from ale_py import ALEInterface, SDL_SUPPORT"
      ],
      "execution_count": 4,
      "outputs": []
    },
    {
      "cell_type": "code",
      "metadata": {
        "id": "zAs6_UzuKGjz"
      },
      "source": [
        "class features:\n",
        "    @staticmethod\n",
        "    def basic(img, palette, crop_size=np.array([15,10])):\n",
        "        # For each color in palette, tell if each pixel is that color\n",
        "        # e.g. 4x4x3 image, with 2x3 palette, returns 4x4x2\n",
        "        colors_in_pixels = np.logical_and.reduce(np.expand_dims(img,-2) == palette, axis=-1)\n",
        "        # Split the image into `n_subimages`, each with dimension `crop_size`\n",
        "        n_subimages = (img.shape[:2]/crop_size).prod()\n",
        "        if n_subimages.is_integer():\n",
        "            n_subimages = int(n_subimages)\n",
        "        else:\n",
        "            raise TypeError(f'n_subimages must be an integer, got `{n_subimages}` instead')\n",
        "        cropped_colors_in_pixels = colors_in_pixels.reshape(n_subimages, *crop_size, colors_in_pixels.shape[-1])\n",
        "        # Apply logical or insize each cropped image\n",
        "        cropped_features = np.logical_or.reduce(cropped_colors_in_pixels, axis=(1,2))\n",
        "        # Flatten the features\n",
        "        features = cropped_features.flatten()\n",
        "        return features\n",
        "\n",
        "    @staticmethod\n",
        "    def b_pros(img, palette, crop_size=np.array([15,10])):\n",
        "        basic_features = features.basic(img, palette, crop_size=crop_size)\n",
        "        pass"
      ],
      "execution_count": 5,
      "outputs": []
    },
    {
      "cell_type": "code",
      "metadata": {
        "id": "k0fNQ7lIlEdl"
      },
      "source": [
        "class EnvALE:\n",
        "    def __init__(self, rom, out_dir='ale-results', display=False, seed=0, feature_type='raw'):\n",
        "        self.rom = rom\n",
        "        self.out_dir = Path(out_dir).resolve()\n",
        "        self.out_dir.mkdir(exist_ok=True)\n",
        "        self.feature_type = feature_type\n",
        "\n",
        "        self.ale = ALEInterface()\n",
        "        self.ale.setInt(\"random_seed\", seed)\n",
        "        if display and SDL_SUPPORT and 'google.colab' not in sys.modules:\n",
        "            ale.setBool(\"sound\", True)\n",
        "            ale.setBool(\"display_screen\", True)\n",
        "        self.ale.loadROM(rom)\n",
        "\n",
        "        self.action_space = self.ale.getMinimalActionSet()\n",
        "        self.color_palette = self._get_color_palette()\n",
        "        self._set_observe_method(feature_type)\n",
        "\n",
        "        # Default values\n",
        "        self._timestep = 0\n",
        "        self._do_record = False\n",
        "        self._record_padding = None\n",
        "\n",
        "    def reset(self, do_record=False):\n",
        "        self.ale.reset_game()\n",
        "        observation = self._observe()\n",
        "        self._timestep = 0\n",
        "\n",
        "        self._do_record = do_record\n",
        "        self._handle_recording()\n",
        "        \n",
        "        return observation\n",
        "        \n",
        "    def step(self, action, number_of_frames=4):\n",
        "        if isinstance(action, int):\n",
        "            action = self.action_space[action]\n",
        "        for i in range(number_of_frames):\n",
        "          reward = self.ale.act(action)\n",
        "        observation = self._observe()\n",
        "        done = self.ale.game_over()\n",
        "        self._timestep += 1\n",
        "        \n",
        "        self._handle_recording()\n",
        "        \n",
        "        return observation, reward, done, None\n",
        "\n",
        "    def show_video(self, scale=1):\n",
        "        \"\"\"Show a .mp4 video in html format of the recorded episode\"\"\"\n",
        "        filepath = self.out_dir.joinpath('record.mp4')\n",
        "        video_b64 = base64.b64encode(filepath.read_bytes())\n",
        "        html = f'''<video alt=\"{filepath}\" autoplay loop controls style=\"height:300px\">\n",
        "                        <source src=\"data:video/mp4;base64,{video_b64.decode('ascii')}\" type=\"video/mp4\" />\n",
        "                   </video>'''\n",
        "        ipythondisplay.display(ipythondisplay.HTML(data=html))\n",
        "\n",
        "    def _set_observe_method(self, feature_type):\n",
        "        if feature_type == 'raw':\n",
        "            self._observe = self.ale.getScreenRGB\n",
        "        elif feature_type == 'Basic':\n",
        "            self._observe = lambda: features.basic(img=self.ale.getScreenRGB(),\n",
        "                                                   palette=self.color_palette)\n",
        "        else:\n",
        "            raise NotImplementedError(f'Feature type `{feature_type}` is not supported')\n",
        "        \n",
        "    def _observe(self):\n",
        "        raise NotImplementedError()\n",
        "    \n",
        "    def _handle_recording(self):\n",
        "        # Do nothing if not asked to record\n",
        "        if not self._do_record: return\n",
        "        # This is a new episode, delete previously recorded steps\n",
        "        if not self._timestep:\n",
        "            self.out_dir.joinpath('record').mkdir(exist_ok=True)\n",
        "            for step_png in self.out_dir.glob('record/step_*.png'):\n",
        "                step_png.unlink()\n",
        "            self._record_padding = None\n",
        "        # Record current timestep png\n",
        "        out_path = self.out_dir.joinpath(f'record/step_{self._timestep}.png')\n",
        "        self.ale.saveScreenPNG(str(out_path))\n",
        "        # Once the episode is over, format all png filenames to have the same integer 0 padding\n",
        "        if self.ale.game_over():\n",
        "            self._record_padding = len(str(self._timestep))\n",
        "            self._standardize_record_padding()\n",
        "            self._png_to_mp4()\n",
        "    \n",
        "    def _standardize_record_padding(self):\n",
        "        number_pattern = re.compile('\\d+')\n",
        "        for png in self.out_dir.glob('record/step_*.png'):\n",
        "            timestep = int(number_pattern.search(png.stem).group(0))\n",
        "            new_name = png.parent.joinpath(f'step_{timestep:0{self._record_padding}d}.png')\n",
        "            png.rename(new_name)\n",
        "\n",
        "    def _png_to_mp4(self):\n",
        "        \"\"\"Convert the recorded set of png files into a mp4 video\"\"\"\n",
        "        in_dir = self.out_dir.joinpath('record')\n",
        "        in_pattern = self.out_dir.joinpath(f'record/step_%0{self._record_padding}d.png')\n",
        "        out_file = self.out_dir.joinpath('record.mp4')\n",
        "        !cd $in_dir; ffmpeg -hide_banner -loglevel error -r 60 -i $in_pattern -vcodec libx264 -crf 25 -pix_fmt yuv420p -y $out_file\n",
        "    \n",
        "    def _get_color_palette(self):\n",
        "        result = subprocess.run(['python', '-c', f'__import__(\"ale_py\").ALEInterface().loadROM(\"{str(self.rom)}\")'], capture_output=True)\n",
        "        palette_name = result.stderr.decode().splitlines()[6].strip().split()[-1]\n",
        "        with open(f'{palette_name}_Palette.pickle', 'rb') as file:\n",
        "            palette = pickle.load(file)\n",
        "        return palette"
      ],
      "execution_count": 22,
      "outputs": []
    },
    {
      "cell_type": "code",
      "metadata": {
        "id": "9zh0pXuVbUvp",
        "outputId": "cc52b06e-374c-4e88-8b10-4ce56eeeabc4",
        "colab": {
          "base_uri": "https://localhost:8080/",
          "height": 356
        }
      },
      "source": [
        "from ale_py.roms import Breakout\n",
        "\n",
        "env = EnvALE(Breakout, feature_type='Basic')\n",
        "done, observation = False, env.reset(do_record=True)\n",
        "t = 0\n",
        "while not done and t <= 150:\n",
        "    #action = random.choice(env.action_space)\n",
        "    action = random.choice(range(4))\n",
        "    observation, reward, done, info = env.step(action)\n",
        "    t += 1\n",
        "env.show_video()\n",
        "\n",
        "print(env._get_color_palette().shape)\n",
        "print(observation.shape)\n",
        "#59 sec without speedup\n",
        "#15 sec with 4 frames speedup (game ended)\n",
        "#13 sec with 5 frames speedup (game ended)\n",
        "#7 sec with 10 frames speedup (game ended)"
      ],
      "execution_count": 30,
      "outputs": [
        {
          "output_type": "display_data",
          "data": {
            "text/html": [
              "<video alt=\"/content/ale-results/record.mp4\" autoplay loop controls style=\"height:300px\">\n",
              "                        <source src=\"data:video/mp4;base64,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\" type=\"video/mp4\" />\n",
              "                   </video>"
            ],
            "text/plain": [
              "<IPython.core.display.HTML object>"
            ]
          },
          "metadata": {}
        },
        {
          "output_type": "stream",
          "name": "stdout",
          "text": [
            "(128, 3)\n",
            "(28672,)\n"
          ]
        }
      ]
    },
    {
      "cell_type": "code",
      "metadata": {
        "colab": {
          "base_uri": "https://localhost:8080/"
        },
        "id": "dh8WdcHh4Z8M",
        "outputId": "5fc81ad7-47b1-49dd-eeef-10d6f1cd309e"
      },
      "source": [
        "#@title\n",
        "# Uncomment the following line to run this test\n",
        "%%script echo Skipped this cell because it is a manual test.\n",
        "\n",
        "import random\n",
        "\n",
        "# Init environment\n",
        "env = EnvALE(Breakout, observe_method=lambda *args: env.ale.getScreenRGB())\n",
        "\n",
        "# Play an episode\n",
        "done, observation = False, env.reset(do_record=True)\n",
        "while not done:\n",
        "    action = random.choice(env.action_space)\n",
        "    observation, reward, done, info = env.step(action)\n",
        "\n",
        "# Show episode\n",
        "env.show_video()"
      ],
      "execution_count": 15,
      "outputs": [
        {
          "output_type": "stream",
          "name": "stdout",
          "text": [
            "Skipped this cell because it is a manual test.\n"
          ]
        }
      ]
    },
    {
      "cell_type": "code",
      "metadata": {
        "id": "SUzoxYP6GJ4J"
      },
      "source": [
        "class BreakoutEnv(EnvALE):\n",
        "    def __init__(self):\n",
        "        from ale_py.roms import Breakout\n",
        "        super().__init__(Breakout)\n",
        "\n",
        "    def _observe(self):\n",
        "        # Blob-PROS\n",
        "        return self.ale.getScreenRGB()"
      ],
      "execution_count": 9,
      "outputs": []
    },
    {
      "cell_type": "code",
      "metadata": {
        "id": "jO-e0i9qFA_h",
        "colab": {
          "base_uri": "https://localhost:8080/"
        },
        "outputId": "b021d734-06f9-4b5d-dbb6-335249c704b9"
      },
      "source": [
        "#@title\n",
        "# Uncomment the following line to run this test\n",
        "%%script echo Skipped this cell because it is a manual test.\n",
        "\n",
        "import random\n",
        "\n",
        "env = BreakoutEnv()\n",
        "\n",
        "# Play an episode\n",
        "done, observation = False, env.reset(do_record=True)\n",
        "while not done:\n",
        "    #action = random.choice(env.action_space)\n",
        "    action = random.choice(range(4))\n",
        "    observation, reward, done, info = env.step(action)\n",
        "env.show_video()"
      ],
      "execution_count": 10,
      "outputs": [
        {
          "output_type": "stream",
          "name": "stdout",
          "text": [
            "Skipped this cell because it is a manual test.\n"
          ]
        }
      ]
    },
    {
      "cell_type": "markdown",
      "metadata": {
        "id": "59AT0U2m7h-s"
      },
      "source": [
        "Sarsa implementation\n"
      ]
    },
    {
      "cell_type": "code",
      "metadata": {
        "id": "AKKWXzFbtDuF"
      },
      "source": [
        "# Charles' commented out pieces of code\n",
        "\n",
        "# install dependencies\n",
        "# !pip install torch torchvision pyvirtualdisplay matplotlib seaborn pandas numpy pathlib gym\n",
        "# env\n",
        "# import gym\n",
        "# import pandas as pd\n",
        "# torch stuff\n",
        "# import torch\n",
        "# import torch.nn as nn\n",
        "# import torch.nn.functional as F \n",
        "# from torch import optim"
      ],
      "execution_count": 11,
      "outputs": []
    },
    {
      "cell_type": "code",
      "metadata": {
        "id": "oAVHYH8c6rFJ"
      },
      "source": [
        "#### Learning-related imports ####\n",
        "\n",
        "# Built-in libraries\n",
        "# from typing import Sequence, Tuple, Dict, Any, Optional\n",
        "\n",
        "# Pypi libraries\n",
        "# import numpy as np\n",
        "# import matplotlib.pyplot as plt"
      ],
      "execution_count": 12,
      "outputs": []
    },
    {
      "cell_type": "code",
      "metadata": {
        "id": "yzGumIjJ73X1"
      },
      "source": [
        "# DON'T USE!!!\n",
        "\n",
        "# class SarsaPhiEB:\n",
        "#     def __init__(self):\n",
        "#         pass\n",
        "    \n",
        "#     def generate_episode\n",
        "\n",
        "# def run_episodes(env, Q, num_episodes=100, to_print=False):\n",
        "#     '''\n",
        "#     Run some episodes to test the policy\n",
        "#     '''\n",
        "#     tot_rew = []\n",
        "#     state = env.reset()\n",
        "\n",
        "#     for _ in range(num_episodes):\n",
        "#         done = False\n",
        "#         game_rew = 0\n",
        "\n",
        "#         while not done:\n",
        "#             # select a greedy action\n",
        "#             next_state, rew, done, _ = env.step(greedy(Q, state))\n",
        "\n",
        "#             state = next_state\n",
        "#             game_rew += rew \n",
        "#             if done:\n",
        "#                 state = env.reset()\n",
        "#                 tot_rew.append(game_rew)\n",
        "#     return tot_rew\n",
        "\n",
        "# #eps-greedy\n",
        "# def eps_greedy(Q, s, eps=0.1):\n",
        "#     '''\n",
        "#     Epsilon greedy policy\n",
        "#     '''\n",
        "#     if np.random.uniform(0,1) < eps:\n",
        "#         # Choose a random action\n",
        "#         return np.random.randint(Q.shape[1])\n",
        "#     else:\n",
        "#         # Choose the action of a greedy policy\n",
        "#         return greedy(Q, s)\n",
        "\n",
        "# #formatting action for ale env\n",
        "# def formatAction(action):\n",
        "#   return action\n",
        "\n",
        "# #sarsa\n",
        "# def SARSA(env, lr=0.01, num_episodes=10000, eps=0.3, gamma=0.95, eps_decay=0.00005):\n",
        "\n",
        "#     nA = len(env.action_space)\n",
        "#     nS = 1\n",
        "#     for shape in env.ale.getScreenRGB().shape:\n",
        "#       nS = nS*shape\n",
        "\n",
        "#     # Initialize the Q matrix\n",
        "#     # Q: matrix nS*nA where each row represent a state and each colums represent a different action\n",
        "#     Q = np.zeros((nS, nA))\n",
        "#     games_reward = []\n",
        "#     test_rewards = []\n",
        "\n",
        "#     for ep in range(num_episodes):\n",
        "#         state = env.reset()\n",
        "#         done = False\n",
        "#         tot_rew = 0\n",
        "\n",
        "#         # decay the epsilon value until it reaches the threshold of 0.01\n",
        "#         if eps > 0.01:\n",
        "#             eps -= eps_decay\n",
        "\n",
        "\n",
        "#         action = eps_greedy(Q, state, eps)\n",
        "#         move = formatAction(action)\n",
        "        \n",
        "\n",
        "#         # loop the main body until the environment stops\n",
        "#         while not done:\n",
        "#             next_state, rew, done, _ = env.step(move) # Take one step in the environment\n",
        "\n",
        "#             # choose the next action (needed for the SARSA update)\n",
        "#             next_action = eps_greedy(Q, next_state, eps) \n",
        "#             # SARSA update\n",
        "#             Q[state][action] = Q[state][action] + lr*(rew + gamma*Q[next_state][next_action] - Q[state][action])\n",
        "\n",
        "#             state = next_state\n",
        "#             action = next_action\n",
        "#             move = formatAction(action)\n",
        "#             tot_rew += rew\n",
        "#             if done:\n",
        "#                 games_reward.append(tot_rew)\n",
        "\n",
        "#         # Test the policy every 300 episodes and print the results\n",
        "#         if (ep % 300) == 0:\n",
        "#             test_rew = run_episodes(env, Q, 1000)\n",
        "#             print(\"Episode:{:5d}  Eps:{:2.4f}  Rew:{:2.4f}\".format(ep, eps, test_rew))\n",
        "#             test_rewards.append(test_rew)\n",
        "\n",
        "#     return Q"
      ],
      "execution_count": 13,
      "outputs": []
    },
    {
      "cell_type": "code",
      "metadata": {
        "id": "pOeAaqZRSHgQ"
      },
      "source": [
        ""
      ],
      "execution_count": 13,
      "outputs": []
    }
  ]
}