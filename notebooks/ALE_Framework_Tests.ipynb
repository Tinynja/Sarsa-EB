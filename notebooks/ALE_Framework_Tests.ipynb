{
  "nbformat": 4,
  "nbformat_minor": 0,
  "metadata": {
    "colab": {
      "name": "Copy of ALE Framework Tests",
      "provenance": []
    },
    "kernelspec": {
      "display_name": "Python 3 (ipykernel)",
      "language": "python",
      "name": "python3"
    },
    "language_info": {
      "codemirror_mode": {
        "name": "ipython",
        "version": 3
      },
      "file_extension": ".py",
      "mimetype": "text/x-python",
      "name": "python",
      "nbconvert_exporter": "python",
      "pygments_lexer": "ipython3",
      "version": "3.9.8"
    },
    "accelerator": "GPU"
  },
  "cells": [
    {
      "cell_type": "code",
      "metadata": {
        "id": "3z3aqLItDvig",
        "colab": {
          "base_uri": "https://localhost:8080/"
        },
        "outputId": "9e058769-d8e7-4134-dab4-7541326c926b"
      },
      "source": [
        "import sys\n",
        "\n",
        "if 'google.colab' in sys.modules:\n",
        "    !rm -rf *\n",
        "    !git clone https://github.com/Tinynja/Sarsa-phi-EB\n",
        "    !mv Sarsa-phi-EB/* .\n",
        "    !rm -rf Sarsa-phi-EB\n",
        "    # DON'T install packages defined in Pipfile_Colab_exclude\n",
        "    !sed -ri \"/$(tr '\\n' '|' < Pipfile_Colab_exclude)/d\" Pipfile\n",
        "else:\n",
        "    print('Skipping GitHub cloning since not running in Colab.')"
      ],
      "execution_count": 1,
      "outputs": [
        {
          "output_type": "stream",
          "name": "stdout",
          "text": [
            "Cloning into 'Sarsa-phi-EB'...\n",
            "remote: Enumerating objects: 373, done.\u001b[K\n",
            "remote: Counting objects: 100% (373/373), done.\u001b[K\n",
            "remote: Compressing objects: 100% (318/318), done.\u001b[K\n",
            "remote: Total 373 (delta 133), reused 211 (delta 42), pack-reused 0\u001b[K\n",
            "Receiving objects: 100% (373/373), 979.79 KiB | 6.80 MiB/s, done.\n",
            "Resolving deltas: 100% (133/133), done.\n"
          ]
        }
      ]
    },
    {
      "cell_type": "code",
      "metadata": {
        "id": "ZdficWqDDviq",
        "outputId": "b5b942ec-125b-428b-e328-bb27a7ab8532",
        "colab": {
          "base_uri": "https://localhost:8080/"
        }
      },
      "source": [
        "# Install required dependencies\n",
        "import os\n",
        "\n",
        "if 'google.colab' in sys.modules:\n",
        "    # Some dependencies required for displaying episode\n",
        "    !apt install -y python-opengl xvfb 1> /dev/null\n",
        "    !pip install pyvirtualdisplay 1> /dev/null\n",
        "    # Colab doesn't support pipenv, hence we convert Pipfile into requirements.txt\n",
        "    if 'requirements_Colab.txt' not in os.listdir():\n",
        "        !pip install pipenv\n",
        "        !pipenv lock -r > requirements.txt\n",
        "    !pip install -r requirements_Colab.txt 1> /dev/null\n",
        "else:\n",
        "    !pipenv install 1> /dev/null"
      ],
      "execution_count": 2,
      "outputs": [
        {
          "output_type": "stream",
          "name": "stdout",
          "text": [
            "\n",
            "WARNING: apt does not have a stable CLI interface. Use with caution in scripts.\n",
            "\n",
            "\u001b[31mERROR: pip's dependency resolver does not currently take into account all the packages that are installed. This behaviour is the source of the following dependency conflicts.\n",
            "yellowbrick 1.3.post1 requires numpy<1.20,>=1.16.0, but you have numpy 1.21.4 which is incompatible.\n",
            "datascience 0.10.6 requires folium==0.2.1, but you have folium 0.8.3 which is incompatible.\n",
            "arviz 0.11.4 requires typing-extensions<4,>=3.7.4.3, but you have typing-extensions 4.0.1 which is incompatible.\n",
            "albumentations 0.1.12 requires imgaug<0.2.7,>=0.2.5, but you have imgaug 0.2.9 which is incompatible.\u001b[0m\n"
          ]
        }
      ]
    },
    {
      "cell_type": "code",
      "metadata": {
        "scrolled": true,
        "id": "_YFCigY7Dvis",
        "colab": {
          "base_uri": "https://localhost:8080/"
        },
        "outputId": "e8b4910f-58aa-4909-ef90-60e1a896372e"
      },
      "source": [
        "# Import all supported ROMs into ALE\n",
        "!ale-import-roms ROMS"
      ],
      "execution_count": 3,
      "outputs": [
        {
          "output_type": "stream",
          "name": "stdout",
          "text": [
            "\u001b[92m[SUPPORTED]    \u001b[0m         flag_capture ROMS/Flag Capture - Capture (Capture the Flag) (1978).bin\n",
            "\u001b[92m[SUPPORTED]    \u001b[0m         sir_lancelot   ROMS/Sir Lancelot (1983).bin\n",
            "\u001b[92m[SUPPORTED]    \u001b[0m             air_raid ROMS/Air Raid (Men-A-Vision) (PAL) ~.bin\n",
            "\u001b[92m[SUPPORTED]    \u001b[0m           beam_rider      ROMS/Beamrider (1984).bin\n",
            "\u001b[92m[SUPPORTED]    \u001b[0m              solaris ROMS/Solaris (The Last Starfighter, Star Raiders II, Universe) (1986).bin\n",
            "\u001b[92m[SUPPORTED]    \u001b[0m             crossbow       ROMS/Crossbow (1988).bin\n",
            "\u001b[92m[SUPPORTED]    \u001b[0m             entombed ROMS/Entombed (Maze Chase, Pharaoh's Tomb, Zombie) (1983).bin\n",
            "\u001b[92m[SUPPORTED]    \u001b[0m            riverraid     ROMS/River Raid (1982).bin\n",
            "\u001b[92m[SUPPORTED]    \u001b[0m            ms_pacman    ROMS/Ms. Pac-Man (1983).bin\n",
            "\u001b[92m[SUPPORTED]    \u001b[0m            videocube ROMS/Atari Video Cube (Atari Cube, Video Cube) (1983).bin\n",
            "\u001b[92m[SUPPORTED]    \u001b[0m              turmoil        ROMS/Turmoil (1982).bin\n",
            "\u001b[92m[SUPPORTED]    \u001b[0m              berzerk        ROMS/Berzerk (1982).bin\n",
            "\u001b[92m[SUPPORTED]    \u001b[0m            blackjack ROMS/Blackjack - Black Jack (Gambling) (Paddle) (1977).bin\n",
            "\u001b[92m[SUPPORTED]    \u001b[0m               kaboom ROMS/Kaboom! (Paddle) (1981).bin\n",
            "\u001b[92m[SUPPORTED]    \u001b[0m       journey_escape ROMS/Journey Escape (1983).bin\n",
            "\u001b[92m[SUPPORTED]    \u001b[0m       video_checkers ROMS/Video Checkers - Checkers - Atari Video Checkers (1980).bin\n",
            "\u001b[92m[SUPPORTED]    \u001b[0m        crazy_climber  ROMS/Crazy Climber (1983).bin\n",
            "\u001b[92m[SUPPORTED]    \u001b[0m               pacman        ROMS/Pac-Man (1982).bin\n",
            "\u001b[92m[SUPPORTED]    \u001b[0m                 hero       ROMS/H.E.R.O. (1984).bin\n",
            "\u001b[92m[SUPPORTED]    \u001b[0m             surround ROMS/Surround (32 in 1) (Bit Corporation) (R320).bin\n",
            "\u001b[92m[SUPPORTED]    \u001b[0m                mr_do        ROMS/Mr. Do! (1983).bin\n",
            "\u001b[92m[SUPPORTED]    \u001b[0m         yars_revenge ROMS/Yars' Revenge (Time Freeze) (1982).bin\n",
            "\u001b[92m[SUPPORTED]    \u001b[0m            centipede      ROMS/Centipede (1983).bin\n",
            "\u001b[92m[SUPPORTED]    \u001b[0m       tic_tac_toe_3d ROMS/3-D Tic-Tac-Toe (1980).bin\n",
            "\u001b[92m[SUPPORTED]    \u001b[0m          donkey_kong    ROMS/Donkey Kong (1982).bin\n",
            "\u001b[92m[SUPPORTED]    \u001b[0m            asteroids      ROMS/Asteroids (1981).bin\n",
            "\u001b[92m[SUPPORTED]    \u001b[0m          word_zapper ROMS/Word Zapper (Word Grabber) (1982).bin\n",
            "\u001b[92m[SUPPORTED]    \u001b[0m               zaxxon         ROMS/Zaxxon (1983).bin\n",
            "\u001b[92m[SUPPORTED]    \u001b[0m          battle_zone     ROMS/Battlezone (1983).bin\n",
            "\u001b[92m[SUPPORTED]    \u001b[0m             kangaroo       ROMS/Kangaroo (1983).bin\n",
            "\u001b[92m[SUPPORTED]    \u001b[0m           videochess ROMS/Video Chess (Computer Chess) (1979).bin\n",
            "\u001b[92m[SUPPORTED]    \u001b[0m           time_pilot     ROMS/Time Pilot (1983).bin\n",
            "\u001b[92m[SUPPORTED]    \u001b[0m              frogger        ROMS/Frogger (1982).bin\n",
            "\u001b[92m[SUPPORTED]    \u001b[0m       name_this_game ROMS/Name This Game (Guardians of Treasure) (1983).bin\n",
            "\u001b[92m[SUPPORTED]    \u001b[0m        video_pinball ROMS/Video Pinball - Arcade Pinball (1981).bin\n",
            "\u001b[92m[SUPPORTED]    \u001b[0m               skiing ROMS/Skiing - Le Ski (1980).bin\n",
            "\u001b[92m[SUPPORTED]    \u001b[0m               pooyan         ROMS/Pooyan (1983).bin\n",
            "\u001b[92m[SUPPORTED]    \u001b[0m                qbert         ROMS/Q-bert (1987).bin\n",
            "\u001b[92m[SUPPORTED]    \u001b[0m          star_gunner     ROMS/Stargunner (1983).bin\n",
            "\u001b[92m[SUPPORTED]    \u001b[0m        haunted_house ROMS/Haunted House (Mystery Mansion, Graves' Manor, Nightmare Manor) (1982).bin\n",
            "\u001b[92m[SUPPORTED]    \u001b[0m             pitfall2 ROMS/Pitfall II - Lost Caverns (1984).bin\n",
            "\u001b[92m[SUPPORTED]    \u001b[0m        video_pinball ROMS/Pinball (AKA Video Pinball) (Zellers).bin\n",
            "\u001b[92m[SUPPORTED]    \u001b[0m           mario_bros    ROMS/Mario Bros. (1983).bin\n",
            "\u001b[92m[SUPPORTED]    \u001b[0m           bank_heist ROMS/Bank Heist (Bonnie & Clyde, Cops 'n' Robbers, Hold-Up, Roaring 20's) (1983).bin\n",
            "\u001b[92m[SUPPORTED]    \u001b[0m            atlantis2    ROMS/Atlantis II (1982).bin\n",
            "\u001b[92m[SUPPORTED]    \u001b[0m            tutankham      ROMS/Tutankham (1983).bin\n",
            "\u001b[92m[SUPPORTED]    \u001b[0m              freeway        ROMS/Freeway (1981).bin\n",
            "\u001b[92m[SUPPORTED]    \u001b[0m             atlantis ROMS/Atlantis (Lost City of Atlantis) (1982).bin\n",
            "\u001b[92m[SUPPORTED]    \u001b[0m                qbert        ROMS/Q. Bert (1983).bin\n",
            "\u001b[92m[SUPPORTED]    \u001b[0m       space_invaders ROMS/Space Invaders (1980).bin\n",
            "\u001b[92m[SUPPORTED]    \u001b[0m             seaquest       ROMS/Seaquest (1983).bin\n",
            "\u001b[92m[SUPPORTED]    \u001b[0m       miniature_golf ROMS/Miniature Golf - Arcade Golf (1979).bin\n",
            "\u001b[92m[SUPPORTED]    \u001b[0m                   et ROMS/E.T. - The Extra-Terrestrial (1982).bin\n",
            "\u001b[92m[SUPPORTED]    \u001b[0m             trondead ROMS/TRON - Deadly Discs (TRON Joystick) (1983).bin\n",
            "\u001b[92m[SUPPORTED]    \u001b[0m                krull          ROMS/Krull (1983).bin\n",
            "\u001b[92m[SUPPORTED]    \u001b[0m        wizard_of_wor  ROMS/Wizard of Wor (1982).bin\n",
            "\u001b[92m[SUPPORTED]    \u001b[0m                alien          ROMS/Alien (1982).bin\n",
            "\u001b[92m[SUPPORTED]    \u001b[0m               casino ROMS/Casino - Poker Plus (Paddle) (1979).bin\n",
            "\u001b[92m[SUPPORTED]    \u001b[0m                 klax           ROMS/Klax (1991).bin\n",
            "\u001b[92m[SUPPORTED]    \u001b[0m             superman       ROMS/Superman (1979).bin\n",
            "\u001b[92m[SUPPORTED]    \u001b[0m             gravitar       ROMS/Gravitar (1983).bin\n",
            "\u001b[92m[SUPPORTED]    \u001b[0m             breakout ROMS/Breakout - Breakaway IV (Paddle) (1978).bin\n",
            "\u001b[92m[SUPPORTED]    \u001b[0m            up_n_down     ROMS/Up 'n Down (1984).bin\n",
            "\u001b[92m[SUPPORTED]    \u001b[0m             carnival       ROMS/Carnival (1982).bin\n",
            "\u001b[92m[SUPPORTED]    \u001b[0m            frostbite      ROMS/Frostbite (1983).bin\n",
            "\u001b[92m[SUPPORTED]    \u001b[0m         demon_attack ROMS/Demon Attack (Death from Above) (1982).bin\n",
            "\u001b[92m[SUPPORTED]    \u001b[0m     human_cannonball ROMS/Human Cannonball - Cannon Man (1979).bin\n",
            "\u001b[92m[SUPPORTED]    \u001b[0m            king_kong      ROMS/King Kong (1982).bin\n",
            "\u001b[92m[SUPPORTED]    \u001b[0m             surround ROMS/Surround - Chase (Blockade) (1977).bin\n",
            "\u001b[92m[SUPPORTED]    \u001b[0m              assault ROMS/Assault (AKA Sky Alien) (1983).bin\n",
            "\u001b[92m[SUPPORTED]    \u001b[0m         darkchambers ROMS/Dark Chambers (Dungeon, Dungeon Masters) (1989).bin\n",
            "\u001b[92m[SUPPORTED]    \u001b[0m          double_dunk ROMS/Double Dunk (Super Basketball) (1989).bin\n",
            "\u001b[92m[SUPPORTED]    \u001b[0m              venture        ROMS/Venture (1982).bin\n",
            "\u001b[92m[SUPPORTED]    \u001b[0m      elevator_action ROMS/Elevator Action (1983).bin\n",
            "\u001b[92m[SUPPORTED]    \u001b[0m            jamesbond ROMS/James Bond 007 (James Bond Agent 007) (1984).bin\n",
            "\u001b[92m[SUPPORTED]    \u001b[0m               boxing ROMS/Boxing - La Boxe (1980).bin\n",
            "\u001b[92m[SUPPORTED]    \u001b[0m             defender       ROMS/Defender (1982).bin\n",
            "\u001b[92m[SUPPORTED]    \u001b[0m              hangman ROMS/Hangman - Spelling (1978).bin\n",
            "\u001b[92m[SUPPORTED]    \u001b[0m               amidar         ROMS/Amidar (1982).bin\n",
            "\u001b[92m[SUPPORTED]    \u001b[0m              pitfall ROMS/Pitfall! - Pitfall Harry's Jungle Adventure (Jungle Runner) (1982).bin\n",
            "\u001b[92m[SUPPORTED]    \u001b[0m              asterix ROMS/Asterix (AKA Taz) (1984).bin\n",
            "\u001b[92m[SUPPORTED]    \u001b[0m      chopper_command ROMS/Chopper Command (1982).bin\n",
            "\u001b[92m[SUPPORTED]    \u001b[0m              othello        ROMS/Othello (1981).bin\n",
            "\u001b[92m[SUPPORTED]    \u001b[0m        fishing_derby  ROMS/Fishing Derby (1980).bin\n",
            "\u001b[92m[SUPPORTED]    \u001b[0m               enduro         ROMS/Enduro (1983).bin\n",
            "\u001b[92m[SUPPORTED]    \u001b[0m           earthworld ROMS/SwordQuest - EarthWorld (Adventure I, SwordQuest I - EarthWorld) (1982).bin\n",
            "\u001b[92m[SUPPORTED]    \u001b[0m          laser_gates ROMS/Laser Gates (AKA Innerspace) (1983).bin\n",
            "\u001b[92m[SUPPORTED]    \u001b[0m          donkey_kong    ROMS/Donkey Kong (1987).bin\n",
            "\u001b[92m[SUPPORTED]    \u001b[0m              koolaid ROMS/Kool-Aid Man (Kool Aid Pitcher Man) (1983).bin\n",
            "\u001b[92m[SUPPORTED]    \u001b[0m               tennis ROMS/Tennis - Le Tennis (1981).bin\n",
            "\u001b[92m[SUPPORTED]    \u001b[0m              bowling        ROMS/Bowling (1979).bin\n",
            "\u001b[92m[SUPPORTED]    \u001b[0m             robotank ROMS/Robot Tank (Robotank) (1983).bin\n",
            "\u001b[92m[SUPPORTED]    \u001b[0m       kung_fu_master ROMS/Kung-Fu Master (1987).bin\n",
            "\u001b[92m[SUPPORTED]    \u001b[0m           backgammon ROMS/Backgammon (Paddle) (1979).bin\n",
            "\u001b[92m[SUPPORTED]    \u001b[0m              phoenix        ROMS/Phoenix (1983).bin\n",
            "\u001b[92m[SUPPORTED]    \u001b[0m               gopher ROMS/Gopher (Gopher Attack) (1982).bin\n",
            "\u001b[92m[SUPPORTED]    \u001b[0m         lost_luggage ROMS/Lost Luggage (Airport Mayhem) (1982).bin\n",
            "\u001b[92m[SUPPORTED]    \u001b[0m          road_runner    ROMS/Road Runner (1989).bin\n",
            "\u001b[92m[SUPPORTED]    \u001b[0m           basic_math ROMS/Fun with Numbers (AKA Basic Math) (1980).bin\n",
            "\u001b[92m[SUPPORTED]    \u001b[0m                 pong ROMS/Video Olympics - Pong Sports (Paddle) (1977).bin\n",
            "\u001b[92m[SUPPORTED]    \u001b[0m           basic_math ROMS/Basic Math - Math (Math Pack) (1977).bin\n",
            "\u001b[92m[SUPPORTED]    \u001b[0m    montezuma_revenge ROMS/Montezuma's Revenge - Featuring Panama Joe (1984).bin\n",
            "\u001b[92m[SUPPORTED]    \u001b[0m            space_war ROMS/Space War - Space Star (32 in 1) (1988).bin\n",
            "\u001b[92m[SUPPORTED]    \u001b[0m              asterix ROMS/Asterix (AKA Taz) (1983).bin\n",
            "\u001b[92m[SUPPORTED]    \u001b[0m          private_eye    ROMS/Private Eye (1984).bin\n",
            "\u001b[92m[SUPPORTED]    \u001b[0m      keystone_kapers ROMS/Keystone Kapers - Raueber und Gendarm (1983).bin\n",
            "\u001b[92m[SUPPORTED]    \u001b[0m                qbert         ROMS/Q-bert (1983).bin\n",
            "\u001b[92m[SUPPORTED]    \u001b[0m           ice_hockey ROMS/Ice Hockey - Le Hockey Sur Glace (1981).bin\n",
            "\u001b[92m[SUPPORTED]    \u001b[0m            adventure      ROMS/Adventure (1980).bin\n",
            "\u001b[92m[SUPPORTED]    \u001b[0m             galaxian       ROMS/Galaxian (1983).bin\n",
            "\n",
            "\n",
            "\n",
            "Imported 110 / 110 ROMs\n"
          ]
        }
      ]
    },
    {
      "cell_type": "code",
      "metadata": {
        "id": "_SfKRFx8Dvit",
        "outputId": "894e2296-df8c-42f8-bb81-6c934ce63d5d",
        "colab": {
          "base_uri": "https://localhost:8080/"
        }
      },
      "source": [
        "#### ALE-related imports ####\n",
        "\n",
        "# Built-in libraries\n",
        "import re\n",
        "import sys\n",
        "import timeit\n",
        "import base64\n",
        "import pickle\n",
        "import logging\n",
        "import subprocess\n",
        "from pathlib import Path\n",
        "from datetime import datetime\n",
        "\n",
        "# Pypi libraries\n",
        "import gym\n",
        "import torch\n",
        "# import numpy as np\n",
        "import matplotlib.pyplot as plt\n",
        "from ale_py import ALEInterface, SDL_SUPPORT\n",
        "import ale_py.roms as ROMS\n",
        "\n",
        "# Episode display\n",
        "from PIL import Image\n",
        "from IPython import display as ipythondisplay\n",
        "from pyvirtualdisplay import Display\n",
        "Display().start()\n",
        "\n",
        "# Configuration\n",
        "CUDA = 'cuda' if torch.cuda.device_count() else 'cpu'\n",
        "CPU = 'cpu'"
      ],
      "execution_count": 4,
      "outputs": [
        {
          "output_type": "stream",
          "name": "stderr",
          "text": [
            "/usr/local/lib/python3.7/dist-packages/ale_py/roms/utils.py:90: DeprecationWarning: SelectableGroups dict interface is deprecated. Use select.\n",
            "  for external in metadata.entry_points().get(self.group, []):\n"
          ]
        }
      ]
    },
    {
      "cell_type": "code",
      "source": [
        "class EnvRecorder:\n",
        "    def __init__(self, env, out_dir='./results'):\n",
        "        self.out_dir = Path(out_dir)\n",
        "        self.out_dir.mkdir(exist_ok=True)\n",
        "        self.out_dir = self.out_dir.resolve()\n",
        "        self.env = env\n",
        "\n",
        "        # Workspace variables\n",
        "        self.__frame_count_padding = 0\n",
        "        self.__timestep = 0\n",
        "    \n",
        "    def __call__(self, choose_action=None, max_steps=-1, height=300):\n",
        "        self.record_episode_and_show(choose_action=choose_action, max_steps=max_steps, height=height)\n",
        "    \n",
        "    def record_episode_and_show(self, choose_action=None, max_steps=-1, height=300):\n",
        "        self.record_episode(choose_action=choose_action, max_steps=max_steps)\n",
        "        self.show_recording(height=height)\n",
        "    \n",
        "    def record_episode(self, choose_action=None, max_steps=-1):\n",
        "        \"\"\"Generate an episode and record it as record.mp4\n",
        "        Args:\n",
        "        choose_action -- callable method that returns the next action based on the current observation\n",
        "        max_steps     -- maximum number of steps after which force end episode\n",
        "        \"\"\"\n",
        "        choose_action = choose_action or (lambda _: self.env.action_space.sample())\n",
        "\n",
        "        self._clear_recording()\n",
        "        self.__timestep, done, observation =  0, False, self.env.reset()\n",
        "        self._record_frame()\n",
        "        while not done and self.__timestep != max_steps:\n",
        "            print(f'\\rRecording episode, timestep {self.__timestep+1}...', end='')\n",
        "            action = choose_action(observation)\n",
        "            observation, _, done, _ = self.env.step(action)\n",
        "            self.__timestep += 1\n",
        "            self._record_frame()\n",
        "\n",
        "        if self.__timestep == max_steps and not done:\n",
        "            print('\\nWarning: `max_steps` reached before episode terminated')\n",
        "        else:\n",
        "            print()\n",
        "\n",
        "        self._export_as_mp4()\n",
        "\n",
        "    def show_recording(self, height=300):\n",
        "        \"\"\"Show a .mp4 video in html format of the recorded episode\"\"\"\n",
        "        filepath = self.out_dir.joinpath('record.mp4')\n",
        "        video_b64 = base64.b64encode(filepath.read_bytes())\n",
        "        html = f'''<video alt=\"{filepath}\" autoplay loop controls style=\"height:{height}px\">\n",
        "                        <source src=\"data:video/mp4;base64,{video_b64.decode('ascii')}\" type=\"video/mp4\" />\n",
        "                   </video>'''\n",
        "        ipythondisplay.display(ipythondisplay.HTML(data=html))\n",
        "\n",
        "    def _clear_recording(self):\n",
        "        # This is a new episode, delete previously recorded steps\n",
        "        self.out_dir.joinpath('record').mkdir(exist_ok=True)\n",
        "        for step_png in self.out_dir.glob('record/step_*.png'):\n",
        "            step_png.unlink()\n",
        "        if self.out_dir.joinpath('record.mp4').exists():\n",
        "            self.out_dir.joinpath('record.mp4').unlink()\n",
        "    \n",
        "    def _record_frame(self):\n",
        "        # Record current timestep png\n",
        "        img = Image.fromarray(env.render('rgb_array'))\n",
        "        out_path = self.out_dir.joinpath(f'record/step_{self.__timestep}.png')\n",
        "        img.save(str(out_path))\n",
        "\n",
        "    def _export_as_mp4(self):\n",
        "        \"\"\"Convert the recorded set of png files into an mp4 video\"\"\"\n",
        "        self._standardize_frame_count_padding()\n",
        "        in_dir = self.out_dir.joinpath('record')\n",
        "        in_pattern = f'step_%0{self.__frame_count_padding}d.png'\n",
        "        out_file = self.out_dir.joinpath('record.mp4')\n",
        "        !cd $in_dir; ffmpeg -hide_banner -loglevel error -r 60 -i $in_pattern -vcodec libx264 -crf 25 -pix_fmt yuv420p -y $out_file\n",
        "    \n",
        "    def _standardize_frame_count_padding(self):\n",
        "        self.__frame_count_padding = len(str(self.__timestep))\n",
        "        number_pattern = re.compile('\\d+')\n",
        "        png_abs_glob = 'step_*.png'\n",
        "        for png_path in self.out_dir.joinpath('record').glob(png_abs_glob):\n",
        "            ts = int(number_pattern.search(png_path.stem).group(0))\n",
        "            new_name = png_path.parent.joinpath(f'step_{ts:0{self.__frame_count_padding}d}.png')\n",
        "            png_path.rename(new_name)"
      ],
      "metadata": {
        "id": "ZFF_G0wToLuO"
      },
      "execution_count": 5,
      "outputs": []
    },
    {
      "cell_type": "code",
      "metadata": {
        "id": "zAs6_UzuKGjz"
      },
      "source": [
        "def cbrt(x):\n",
        "    if x >= 0:\n",
        "        return x**(1/3)\n",
        "    else:\n",
        "        return -(-x)**(1/3)\n",
        "\n",
        "\n",
        "class features:\n",
        "    @staticmethod\n",
        "    def basic(frame, palette, background, crop_size=torch.Tensor([15,10]), flatten=True):\n",
        "        # For each color in palette, tell if each pixel is that color (e.g. 210,160,128)\n",
        "        colors_in_pixels = ((frame-background).unsqueeze(-2) == palette).all(-1)\n",
        "        # Split the image into n tiles, each with dimension `crop_size` (e.g. 14,16,15,10,128)\n",
        "        cropped_colors_in_pixels = torch.stack(torch.stack(colors_in_pixels.split(crop_size[1],dim=-2)).split(crop_size[0],dim=-3))\n",
        "        # Apply logical or inside each cropped image (e.g. 14,16,128)\n",
        "        cropped_features = cropped_colors_in_pixels.any(3).any(2)\n",
        "        # Flatten the features (e.g. 28672)\n",
        "        return cropped_features.flatten() if flatten else cropped_features\n",
        "    \n",
        "    @staticmethod\n",
        "    def b_pros(frame, palette, background, crop_size=torch.Tensor([15,10])):\n",
        "        raise NotImplementedError()\n",
        "        basic_features = features.basic(frame, palette, background, crop_size=crop_size)\n",
        "        b_pros_features = torch.combinations(basic_features)\n",
        "        return b_pros_features\n",
        "    \n",
        "    @staticmethod\n",
        "    def discretized_float(number, low, high, n_intervals):\n",
        "        feature = torch.zeros(n_intervals+2, dtype=torch.bool)\n",
        "        if number < low:\n",
        "            feature[0] = True\n",
        "        elif number >= high:\n",
        "            feature[-1] = True\n",
        "        else:\n",
        "            index = int( n_intervals/2 * ( 1 + cbrt( (number-(high+low)/2) / ((high-low)/2) ) ) )\n",
        "            feature[index+1] = True\n",
        "        return feature"
      ],
      "execution_count": 6,
      "outputs": []
    },
    {
      "cell_type": "code",
      "source": [
        "class BinaryEnv:\n",
        "    def __init__(self, env_name, n_features, device=CUDA, *args, **kwargs):\n",
        "        self.env = gym.make(env_name, *args, **kwargs)\n",
        "        self.n_features = int(n_features/self.env.observation_space.shape[0])\n",
        "        self.device = device\n",
        "\n",
        "        self.action_space = self.env.action_space\n",
        "        self.observation_space = self.env.observation_space\n",
        "\n",
        "        self._overwrite_obs_high_low()\n",
        "    \n",
        "    def reset(self, *args, **kwargs):\n",
        "        observation = self.env.reset(*args, **kwargs)\n",
        "        return self._binarize_observation(observation)\n",
        "\n",
        "    def step(self, *args, **kwargs):\n",
        "        observation, reward, done, info = self.env.step(*args, **kwargs)\n",
        "        observation = self._binarize_observation(observation)\n",
        "        return observation, reward, done, info\n",
        "\n",
        "    def render(self, *args, **kwargs):\n",
        "        return self.env.render(*args, **kwargs)\n",
        "    \n",
        "    def _overwrite_obs_high_low(self):\n",
        "        if self.env.spec.id.startswith('CartPole'):\n",
        "            self.env.observation_space.low[[1,3]] = -4, -7\n",
        "            self.env.observation_space.high[[1,3]] = 4, 7\n",
        "    \n",
        "    def _binarize_observation(self, observation):\n",
        "        bin_features = []\n",
        "        lows, highs = self.env.observation_space.low, self.env.observation_space.high\n",
        "        for i,obs in enumerate(observation):\n",
        "            bin_features.append(features.discretized_float(obs, lows[i], highs[i], n_intervals=self.n_features))\n",
        "        return torch.cat(bin_features).to(self.device)"
      ],
      "metadata": {
        "id": "hmZZlTI8gDia"
      },
      "execution_count": 7,
      "outputs": []
    },
    {
      "cell_type": "code",
      "metadata": {
        "id": "k0fNQ7lIlEdl"
      },
      "source": [
        "from gym.spaces import Discrete, Box\n",
        "\n",
        "class EnvALE:\n",
        "    def __init__(self, rom, out_dir='results', seed=0, feature_type='ScreenRGB',\n",
        "                 regen_bg=False, bg_samples=18000, device=CUDA):\n",
        "        self.rom = rom\n",
        "        self.rom_name = rom.stem\n",
        "        self.feature_type = feature_type\n",
        "        self.device = device\n",
        "\n",
        "        self.out_dir = Path(out_dir)\n",
        "        self.out_dir.mkdir(exist_ok=True)\n",
        "        self.out_dir = self.out_dir.resolve()\n",
        "\n",
        "        # ALE\n",
        "        self.ale = ALEInterface()\n",
        "        self.ale.setInt(\"random_seed\", seed)\n",
        "        self.ale.loadROM(rom)\n",
        "\n",
        "        # gym action_space compatibility\n",
        "        action_set = self.ale.getMinimalActionSet()\n",
        "        self.action_space = Discrete(len(action_set))\n",
        "        self.action_space.action_set = action_set\n",
        "\n",
        "        # color palette\n",
        "        self.color_palette = self._get_color_palette().to(self.device)\n",
        "\n",
        "        self._bg_path = Path(f'./backgrounds/{self.rom_name}.pickle')\n",
        "        if regen_bg or not self._bg_path.exists() or not self._bg_path.is_file():\n",
        "            self.background = self._get_background(n_samples=bg_samples)\n",
        "        else:\n",
        "            with open(self._bg_path, 'rb') as file:\n",
        "                self.background = pickle.load(file).to(self.device)\n",
        "        \n",
        "        self._set_observe_method(feature_type)\n",
        "        self.observation_space = Box(low=0, high=1, shape=self._observe().shape, dtype=bool)\n",
        "\n",
        "    def reset(self, do_record=False):\n",
        "        self.ale.reset_game()\n",
        "        observation = self._observe()\n",
        "        \n",
        "        return observation\n",
        "        \n",
        "    def step(self, action):\n",
        "        if isinstance(action, int):\n",
        "            action = self.action_space.action_set[action]\n",
        "\n",
        "        reward = self.ale.act(action)\n",
        "        observation = self._observe()\n",
        "        done = self.ale.game_over()\n",
        "                \n",
        "        return observation, reward, done, None\n",
        "\n",
        "    def render(self, mode='rgb_array'):\n",
        "        if mode == 'rgb_array':\n",
        "            return self.ale.getScreenRGB()\n",
        "        else:\n",
        "            raise ValueError(f'render mode `{mode}` is not supported')\n",
        "\n",
        "    def _set_observe_method(self, feature_type):\n",
        "        if feature_type == 'ScreenRGB':\n",
        "            self._observe = lambda: torch.from_numpy(self.ale.getScreenRGB()).to(self.device)\n",
        "        elif feature_type == 'ScreenGrayscale':\n",
        "            self._observe = lambda: torch.from_numpy(self.ale.getScreenGrayscale()).to(self.device)\n",
        "        elif feature_type == 'Basic':\n",
        "            self._observe = lambda: features.basic(frame=torch.from_numpy(self.ale.getScreenRGB()).to(self.device),\n",
        "                                                   palette=self.color_palette,\n",
        "                                                   background=self.background)\n",
        "        elif feature_type == 'B-PROS':\n",
        "            self._observe = lambda: features.b_pros(frame=torch.from_numpy(self.ale.getScreenRGB()).to(self.device),\n",
        "                                                    palette=self.color_palette,\n",
        "                                                    background=self.background)\n",
        "        else:\n",
        "            raise NotImplementedError(f'Feature type `{feature_type}` is not supported')\n",
        "        \n",
        "    def _observe(self):\n",
        "        raise NotImplementedError()\n",
        "    \n",
        "    def _get_color_palette(self):\n",
        "        result = subprocess.run(['python', '-c', f'__import__(\"ale_py\").ALEInterface().loadROM(\"{str(self.rom)}\")'], capture_output=True)\n",
        "        palette_name = result.stderr.decode().splitlines()[6].strip().split()[-1]\n",
        "        with open(f'palettes/{palette_name}_Palette.pickle', 'rb') as file:\n",
        "            palette = pickle.load(file)\n",
        "        return palette\n",
        "    \n",
        "    def _get_background(self, n_samples):\n",
        "        bg_feature_type = 'ScreenRGB' if self.feature_type not in ['ScreenGrayscale',] else 'ScreenGrayscale'\n",
        "        self._set_observe_method(bg_feature_type)\n",
        "        \n",
        "        sample_i = 0\n",
        "        pixel_histogram = torch.zeros((*self.ale.getScreenDims(), self.color_palette.shape[0]), dtype=torch.int32).to(self.device)\n",
        "        while sample_i < n_samples:\n",
        "            done, observation = False, self.reset()\n",
        "            while not done and sample_i < n_samples:\n",
        "                if not sample_i%10:\n",
        "                    print(f'\\rGenerating background... {sample_i}/{n_samples} samples ({sample_i/n_samples:.0%})', end='')\n",
        "                action = self.action_space.sample()\n",
        "                observation, reward, done, info = self.step(action)\n",
        "                colors_in_pixels = (observation.unsqueeze(-2) == self.color_palette).all(-1)\n",
        "                pixel_histogram += colors_in_pixels\n",
        "                sample_i += 1\n",
        "        print('\\r', end='')\n",
        "        background_ids = pixel_histogram.argmax(axis=-1)\n",
        "        background = self.color_palette[background_ids]\n",
        "        \n",
        "        self._bg_path.parent.mkdir(exist_ok=True)\n",
        "        with open(self._bg_path, 'wb') as file:\n",
        "            pickle.dump(background.cpu(), file)\n",
        "        \n",
        "        return background"
      ],
      "execution_count": 8,
      "outputs": []
    },
    {
      "cell_type": "code",
      "source": [
        "#@title\n",
        "\n",
        "if print(\"Skipped background regeneration.\"):\n",
        "# if True:\n",
        "\n",
        "    from ale_py.roms import *\n",
        "    games_to_generate_bg = [Breakout, MontezumaRevenge, Venture, Qbert, Frostbite, Freeway]\n",
        "\n",
        "    for game in games_to_generate_bg:\n",
        "        print(f'\\n{game.stem}')\n",
        "        env = EnvALE(game, regen_bg=True, bg_samples=100)\n",
        "        bg_np = env.background.cpu().to(torch.uint8).numpy()\n",
        "        display(Image.fromarray(bg_np))"
      ],
      "metadata": {
        "id": "-jjm2aZ9oMGb",
        "colab": {
          "base_uri": "https://localhost:8080/"
        },
        "outputId": "a735d1d3-c4e9-4402-81a2-64b092b69a63",
        "cellView": "form"
      },
      "execution_count": null,
      "outputs": [
        {
          "output_type": "stream",
          "name": "stdout",
          "text": [
            "Skipped background regeneration.\n"
          ]
        }
      ]
    },
    {
      "cell_type": "code",
      "source": [
        "#@title\n",
        "\n",
        "if print(\"Skipped displaying stored backgrounds to reduce ouptuts.\"):\n",
        "# if True:\n",
        "\n",
        "    for filepath in Path('backgrounds').iterdir():\n",
        "        print(f'\\nBackground in `{filepath.resolve()}`')\n",
        "        with open(filepath, 'rb') as file:\n",
        "            bg = pickle.load(file)\n",
        "        display(Image.fromarray(bg.to(torch.uint8).numpy()))"
      ],
      "metadata": {
        "id": "DT3TM-u1ISRJ",
        "colab": {
          "base_uri": "https://localhost:8080/"
        },
        "outputId": "b324f8a8-4f8e-4701-91e6-a21f06ce31fd",
        "cellView": "form"
      },
      "execution_count": null,
      "outputs": [
        {
          "output_type": "stream",
          "name": "stdout",
          "text": [
            "Skipped displaying stored backgrounds to reduce ouptuts.\n"
          ]
        }
      ]
    },
    {
      "cell_type": "code",
      "metadata": {
        "id": "dh8WdcHh4Z8M",
        "colab": {
          "base_uri": "https://localhost:8080/"
        },
        "outputId": "6bf00647-97f0-47b3-c516-6e2ac3985ccb",
        "cellView": "form"
      },
      "source": [
        "#@title\n",
        "\n",
        "if print(\"Skipped manual test.\"):\n",
        "# if True:\n",
        "\n",
        "    env = EnvALE(ROMS.Breakout)\n",
        "    recorder = EnvRecorder(env)\n",
        "    recorder()"
      ],
      "execution_count": null,
      "outputs": [
        {
          "output_type": "stream",
          "name": "stdout",
          "text": [
            "Skipped manual test.\n"
          ]
        }
      ]
    },
    {
      "cell_type": "code",
      "source": [
        "from math import ceil\n",
        "\n",
        "class PrintJustEnough:\n",
        "    def __init__(self, time_interval=0.5):\n",
        "        self._print_interval = 1\n",
        "        self._print_count = 0\n",
        "        self.time_interval = time_interval\n",
        "        self._calibrated = False\n",
        "        self.reset_calibration()\n",
        "    \n",
        "    def reset_calibration(self):\n",
        "        self._calib_start = None\n",
        "        self._calib_count = 0\n",
        "        self._calibrated = False\n",
        "    \n",
        "    def print(self, *args, **kwargs):\n",
        "        if self._calibrated:\n",
        "            self._print_count += 1\n",
        "            if not self._print_count%self._print_interval:\n",
        "                print(*args, **kwargs)\n",
        "                self._print_count = 0\n",
        "        else:\n",
        "            self._handle_calibration()\n",
        "        \n",
        "    def _handle_calibration(self):\n",
        "        self._calib_count += 1\n",
        "        curr_time = timeit.default_timer()\n",
        "        if self._calib_start is None:\n",
        "            self._calib_start = curr_time\n",
        "        if curr_time-self._calib_start > 1:\n",
        "            self._print_interval = ceil(self.time_interval*self._calib_count/(curr_time-self._calib_start))\n",
        "            self._calibrated = True\n",
        "    \n",
        "    def __call__(self, *args, **kwargs):\n",
        "        self.print(*args, **kwargs)\n",
        "\n",
        "pje = PrintJustEnough()"
      ],
      "metadata": {
        "id": "AqtoGHdSp6vc"
      },
      "execution_count": 9,
      "outputs": []
    },
    {
      "cell_type": "code",
      "source": [
        "class SarsaPhiEBAgent:\n",
        "    def __init__(self, env, gamma=0.99, epsilon=0.01, alpha=0.5, lam=0.9, beta=0.05, init_action=1, step_repeat_count=1, device=CUDA, debug=False):\n",
        "        \"\"\"An agent using Sarsa(lambda) algorithm with:\n",
        "            - Linear Function Approximation (SGD)\n",
        "            - Replacing Traces\n",
        "            - Exploration-Bonus\n",
        "        \n",
        "        Args:\n",
        "                      env -- gym-like environment\n",
        "                    alpha -- step size\n",
        "                    gamma -- discount factor\n",
        "                      lam -- trace decay\n",
        "                     beta -- exploration bonus parameter\n",
        "              init_action -- action to take after an environment reset\n",
        "        step_repeat_count -- numer of times to repeat an action every timestep (under-the-hood) \n",
        "                   device -- device on which to store tensors\n",
        "                    debug -- enable debug output\n",
        "        \"\"\"\n",
        "        self.env = env\n",
        "        self.gamma = gamma\n",
        "        self.epsilon = epsilon\n",
        "        self.alpha = alpha\n",
        "        self.lam = lam\n",
        "        self.beta = beta\n",
        "        self.init_action = init_action\n",
        "        self.step_repeat_count = step_repeat_count\n",
        "        self.device = device\n",
        "\n",
        "        self.__log = logging.Logger(name=self.__class__.__name__,\n",
        "                                    level=(logging.DEBUG if debug else logging.WARNING))\n",
        "\n",
        "        # Workspace variables\n",
        "        self.feature_space_shape = (self.env.action_space.n, *self.env.reset().shape)\n",
        "        self.weights = torch.zeros(self.feature_space_shape).to(self.device)\n",
        "        self._counts = torch.zeros(self.feature_space_shape).to(self.device)\n",
        "        self._total_steps = 0\n",
        "        self.rewards = []\n",
        "\n",
        "    def learn(self, n_steps):\n",
        "        start_time, total_rewards, done = timeit.default_timer(), 'INIT', True\n",
        "        pje.reset_calibration()\n",
        "        i = 0\n",
        "        while len(self.rewards) <= n_steps:\n",
        "            # Information display\n",
        "            avg_time = (timeit.default_timer()-start_time)/(i or 1)\n",
        "            #pje(f'\\rSarsaPhiEB learning iteration {self._total_steps}/{self._total_steps-i+n_steps} ({1000*avg_time:.2f}ms/iter, remaining {(n_steps-i)*avg_time:.0f}s)    ', end='')\n",
        "\n",
        "            # Reset env when episode ends\n",
        "            if done:\n",
        "                if total_rewards != 'INIT':\n",
        "                    self.rewards.append(float(total_rewards))\n",
        "                next_phi = self.env.reset()\n",
        "                total_rewards = 0\n",
        "                if self.init_action is not None:\n",
        "                    next_phi, reward, done, _ = self.env.step(self.init_action)\n",
        "                    total_rewards += reward\n",
        "                next_action = self._choose_action(next_phi)\n",
        "                traces = torch.zeros(self.feature_space_shape).to(self.device)\n",
        "\n",
        "            # Advance to next timestep\n",
        "            phi, action = next_phi, next_action\n",
        "            active_features = phi.nonzero()\n",
        "            self._total_steps += 1\n",
        "\n",
        "            # Take an action\n",
        "            next_phi, reward, done, _ = self._step_repeat(action)\n",
        "            next_action = self._choose_action(next_phi)\n",
        "            total_rewards += reward\n",
        "\n",
        "            # Apply exploration bonus\n",
        "            self._counts[action,active_features] += 1\n",
        "            reward += self._calc_exploration_bonus(phi, action)\n",
        "\n",
        "            # RL Algorithm : Sarsa(lambda) LFA(SGD) Replacing Traces\n",
        "            traces *= self.gamma * self.lam\n",
        "            traces[action, active_features] = phi[active_features].to(traces.dtype)\n",
        "            if not done:\n",
        "                delta = reward + self.gamma * self._action_value(next_phi, next_action) - self._action_value(phi, action)\n",
        "            else:\n",
        "                # In terminal state, all state-action values are 0\n",
        "                delta = reward + 0 - self._action_value(phi, action)\n",
        "            if self.alpha * delta * traces.isnan().any():\n",
        "                # print(self.weights.unique())\n",
        "                print(self._action_value(phi, action))\n",
        "                # print(phi)\n",
        "                # print(action)\n",
        "                # print(traces.unique())\n",
        "            self.weights += self.alpha * delta * traces\n",
        "\n",
        "            # print('traces', traces.nonzero())\n",
        "            # __import__('time').sleep(1)\n",
        "            # return locals()\n",
        "            # if reward > 0:\n",
        "            #     print(f'ITERATION {i}')\n",
        "            #     print('REWARD', reward)\n",
        "            #     # return self.weights, phi\n",
        "            # if self.weights.max() > 1:\n",
        "            #     print(f'ITERATION {i}')\n",
        "            #     print('alpha', self.alpha)\n",
        "            #     print('delta', delta)\n",
        "            #     print('reward', reward)\n",
        "            #     print('weight_sum', self.weights[action].sum())\n",
        "            #     print('next_action_value', self._action_value(phi, action))\n",
        "            #     print('action_value', self._action_value(next_phi, next_action))\n",
        "            #     # print(traces.unique())\n",
        "            #     # print(self.weights[action].unique().sum())\n",
        "            #     break\n",
        "        \n",
        "        #print(f'\\rSarsaPhiEB learning iteration {self._total_steps}/{self._total_steps-i+n_steps-1} ({1000*avg_time:.2f}ms/iter, remaining {(n_steps-i)*avg_time:.0f}s)    ', end='')\n",
        "        #print(f'\\nTotal elapsed time: {datetime.utcfromtimestamp(timeit.default_timer()-start_time).strftime(\"%H:%M:%S.%f\")}')\n",
        "    \n",
        "    def _step_repeat(self, action):\n",
        "        reward = 0\n",
        "        for i in range(self.step_repeat_count):\n",
        "            observation, sub_reward, done, info = self.env.step(action)\n",
        "            reward += sub_reward\n",
        "            if done: break\n",
        "        return observation, reward, done, info\n",
        "    \n",
        "    def _action_value(self, phi, action):\n",
        "        # if (self.weights[action]@phi.to(self.weights.dtype)).isinf():\n",
        "        #     print(self.weights[action].unique())\n",
        "        #     print(phi.to(self.weights.dtype))\n",
        "            # print(self._action_value(phi, action))\n",
        "            # print(self._action_value(next_phi, next_action))\n",
        "        return (self.weights[action]@phi.to(self.weights.dtype)).item()\n",
        "    \n",
        "    def _choose_action(self, phi):\n",
        "        if torch.rand(1) > self.epsilon:\n",
        "            action_values = self.weights@phi.to(self.weights.dtype)\n",
        "            best_actions = (action_values == action_values.max()).nonzero()\n",
        "            # Tie-breaker\n",
        "            action = best_actions[torch.randint(len(best_actions), (1,))]\n",
        "            return action.item()\n",
        "        else:\n",
        "            return self.env.action_space.sample()\n",
        "    \n",
        "    def _calc_exploration_bonus(self, phi, action):\n",
        "        # Compute the exploration bonus\n",
        "        phi_occ = torch.cat((self._counts[action, phi], self._total_steps-self._counts[action, ~phi])).to(self.device)\n",
        "        rho = ((phi_occ+1/2) / (self._total_steps+1)).prod()\n",
        "        rho_prime = ((phi_occ+1+1/2) / (self._total_steps+1+1)).prod()\n",
        "        pseudocount = (rho*(1-rho_prime)) / (rho_prime-rho)\n",
        "        exploration_bonus = self.beta / pseudocount.sqrt()\n",
        "        if torch.isnan(exploration_bonus) or torch.isinf(exploration_bonus):\n",
        "          exploration_bonus = 1\n",
        "        return exploration_bonus\n",
        "    \n"
      ],
      "metadata": {
        "id": "5kQC-tTUHgFl"
      },
      "execution_count": 46,
      "outputs": []
    },
    {
      "cell_type": "code",
      "source": [
        "# env = BinaryEnv('CartPole-v1', n_features=4000)\n",
        "# agent = SarsaPhiEBAgent(env)\n",
        "# ret = agent.learn(1)\n",
        "# env.reset().nonzero()\n",
        "\n",
        "\n",
        "rewards = []\n",
        "test_alphas =  [0.1, 0.2, 0.3]#[0.005, 0.01, 0.02, 0.05, 0.1, 0.2]\n",
        "test_features = [1600, 2000]#[1200, 1600, 2000,  2800, 5000, 10000]\n",
        "for alpha in test_alphas:\n",
        "  for nb_features in test_features:\n",
        "    for i in range(5): #add repetition to lower variance (make graphs more readable)\n",
        "      env = EnvALE(ROMS.Breakout, feature_type='Basic')\n",
        "      env = BinaryEnv('CartPole-v1', n_features=nb_features, device=CPU)\n",
        "      agent = SarsaPhiEBAgent(env, alpha=alpha, device=env.device)\n",
        "      recorder = EnvRecorder(env)\n",
        "      # recorder()\n",
        "      agent.learn(60)\n",
        "      rewards.append(agent.rewards)\n",
        "      \n",
        "      \n",
        "    plt.plot(torch.mean(torch.as_tensor(rewards),dim=0))\n",
        "    plt.title('alpha: ' + str(alpha) + 'nb_features: '+ str(nb_features))\n",
        "    plt.show()\n",
        "\n",
        "\n",
        "avg = torch.mean(torch.mean(torch.as_tensor(rewards),dim=0)[:,-50:],dim=1)\n",
        "best = torch.argmax(avg)"
      ],
      "metadata": {
        "id": "1nAGF91PUggU",
        "outputId": "53f606f3-8034-498a-8755-af7187fa389f",
        "colab": {
          "base_uri": "https://localhost:8080/",
          "height": 1000
        }
      },
      "execution_count": 50,
      "outputs": [
        {
          "output_type": "display_data",
          "data": {
            "image/png": "[encoded data removed]",
            "text/plain": [
              "<Figure size 432x288 with 1 Axes>"
            ]
          },
          "metadata": {
            "needs_background": "light"
          }
        },
        {
          "output_type": "display_data",
          "data": {
            "image/png": "[encoded data removed]",
            "text/plain": [
              "<Figure size 432x288 with 1 Axes>"
            ]
          },
          "metadata": {
            "needs_background": "light"
          }
        },
        {
          "output_type": "display_data",
          "data": {
            "image/png": "[encoded data removed]",
            "text/plain": [
              "<Figure size 432x288 with 1 Axes>"
            ]
          },
          "metadata": {
            "needs_background": "light"
          }
        },
        {
          "output_type": "display_data",
          "data": {
            "image/png": "[encoded data removed]",
            "text/plain": [
              "<Figure size 432x288 with 1 Axes>"
            ]
          },
          "metadata": {
            "needs_background": "light"
          }
        },
        {
          "output_type": "display_data",
          "data": {
            "image/png": "[encoded data removed]",
            "text/plain": [
              "<Figure size 432x288 with 1 Axes>"
            ]
          },
          "metadata": {
            "needs_background": "light"
          }
        },
        {
          "output_type": "display_data",
          "data": {
            "image/png": "[encoded data removed]",
            "text/plain": [
              "<Figure size 432x288 with 1 Axes>"
            ]
          },
          "metadata": {
            "needs_background": "light"
          }
        },
        {
          "output_type": "error",
          "ename": "IndexError",
          "evalue": "ignored",
          "traceback": [
            "\u001b[0;31m---------------------------------------------------------------------------\u001b[0m",
            "\u001b[0;31mIndexError\u001b[0m                                Traceback (most recent call last)",
            "\u001b[0;32m<ipython-input-50-e4ed60e3e87a>\u001b[0m in \u001b[0;36m<module>\u001b[0;34m()\u001b[0m\n\u001b[1;32m     25\u001b[0m \u001b[0;34m\u001b[0m\u001b[0m\n\u001b[1;32m     26\u001b[0m \u001b[0;34m\u001b[0m\u001b[0m\n\u001b[0;32m---> 27\u001b[0;31m \u001b[0mavg\u001b[0m \u001b[0;34m=\u001b[0m \u001b[0mtorch\u001b[0m\u001b[0;34m.\u001b[0m\u001b[0mmean\u001b[0m\u001b[0;34m(\u001b[0m\u001b[0mtorch\u001b[0m\u001b[0;34m.\u001b[0m\u001b[0mmean\u001b[0m\u001b[0;34m(\u001b[0m\u001b[0mtorch\u001b[0m\u001b[0;34m.\u001b[0m\u001b[0mas_tensor\u001b[0m\u001b[0;34m(\u001b[0m\u001b[0mrewards\u001b[0m\u001b[0;34m)\u001b[0m\u001b[0;34m,\u001b[0m\u001b[0mdim\u001b[0m\u001b[0;34m=\u001b[0m\u001b[0;36m0\u001b[0m\u001b[0;34m)\u001b[0m\u001b[0;34m[\u001b[0m\u001b[0;34m:\u001b[0m\u001b[0;34m,\u001b[0m\u001b[0;34m-\u001b[0m\u001b[0;36m50\u001b[0m\u001b[0;34m:\u001b[0m\u001b[0;34m]\u001b[0m\u001b[0;34m,\u001b[0m\u001b[0mdim\u001b[0m\u001b[0;34m=\u001b[0m\u001b[0;36m1\u001b[0m\u001b[0;34m)\u001b[0m\u001b[0;34m\u001b[0m\u001b[0;34m\u001b[0m\u001b[0m\n\u001b[0m\u001b[1;32m     28\u001b[0m \u001b[0mbest\u001b[0m \u001b[0;34m=\u001b[0m \u001b[0mtorch\u001b[0m\u001b[0;34m.\u001b[0m\u001b[0margmax\u001b[0m\u001b[0;34m(\u001b[0m\u001b[0mavg\u001b[0m\u001b[0;34m)\u001b[0m\u001b[0;34m\u001b[0m\u001b[0;34m\u001b[0m\u001b[0m\n",
            "\u001b[0;31mIndexError\u001b[0m: too many indices for tensor of dimension 1"
          ]
        }
      ]
    },
    {
      "cell_type": "code",
      "source": [
        "# weights[1].unique()\n",
        "# weights[1].sum()\n",
        "# weights[1]@phi.to(weights)"
      ],
      "metadata": {
        "id": "35bjVsYVImuN",
        "outputId": "dd0785a3-900b-4795-da72-f2f62201be85",
        "colab": {
          "base_uri": "https://localhost:8080/"
        }
      },
      "execution_count": null,
      "outputs": [
        {
          "output_type": "execute_result",
          "data": {
            "text/plain": [
              "tensor(32.8115, device='cuda:0')"
            ]
          },
          "metadata": {},
          "execution_count": 57
        }
      ]
    },
    {
      "cell_type": "code",
      "source": [
        "agent.weights.unique()"
      ],
      "metadata": {
        "id": "N7BxVaOzLNyA",
        "outputId": "13adb941-833b-4613-8958-0c37d7094733",
        "colab": {
          "base_uri": "https://localhost:8080/"
        }
      },
      "execution_count": null,
      "outputs": [
        {
          "output_type": "execute_result",
          "data": {
            "text/plain": [
              "tensor([nan, nan, nan,  ..., nan, nan, nan], device='cuda:0')"
            ]
          },
          "metadata": {},
          "execution_count": 65
        }
      ]
    },
    {
      "cell_type": "code",
      "source": [
        "agent.learn(90000)\n",
        "plt.plot(agent.rewards)\n",
        "plt.show()"
      ],
      "metadata": {
        "colab": {
          "base_uri": "https://localhost:8080/",
          "height": 300
        },
        "id": "nhjifj_gTVew",
        "outputId": "a252988b-871b-40ac-d5de-fcaf16078735"
      },
      "execution_count": 12,
      "outputs": [
        {
          "output_type": "stream",
          "name": "stdout",
          "text": [
            "SarsaPhiEB learning iteration 100000/100000 (0.59ms/iter, remaining 0s)    \n",
            "Total elapsed time: 00:00:53.521975\n"
          ]
        },
        {
          "output_type": "display_data",
          "data": {
            "image/png": "[encoded data removed]",
            "text/plain": [
              "<Figure size 432x288 with 1 Axes>"
            ]
          },
          "metadata": {
            "needs_background": "light"
          }
        }
      ]
    },
    {
      "cell_type": "code",
      "source": [
        "recorder(choose_action=agent._choose_action, max_steps=500)"
      ],
      "metadata": {
        "colab": {
          "base_uri": "https://localhost:8080/",
          "height": 356
        },
        "id": "QI_ytRpob_-y",
        "outputId": "0f4d0295-b761-4bfc-d1d4-a140244f4880"
      },
      "execution_count": null,
      "outputs": [
        {
          "output_type": "stream",
          "name": "stdout",
          "text": [
            "Recording episode, timestep 500...\n",
            "Warning: `max_steps` reached before episode terminated\n"
          ]
        },
        {
          "output_type": "display_data",
          "data": {
            "text/html": [
              "<video alt=\"/content/results/record.mp4\" autoplay loop controls style=\"height:300px\">\n",
              "                        <source src=\"data:video/mp4;base64,AAAAIGZ0eXBpc29tAAACAGlzb21pc28yYXZjMW1wNDEAAAAIZnJlZQAARVZtZGF0AAACrgYF//+q3EXpvebZSLeWLNgg2SPu73gyNjQgLSBjb3JlIDE1MiByMjg1NCBlOWE1OTAzIC0gSC4yNjQvTVBFRy00IEFWQyBjb2RlYyAtIENvcHlsZWZ0IDIwMDMtMjAxNyAtIGh0dHA6Ly93d3cudmlkZW9sYW4ub3JnL3gyNjQuaHRtbCAtIG9wdGlvbnM6IGNhYmFjPTEgcmVmPTMgZGVibG9jaz0xOjA6MCBhbmFseXNlPTB4MzoweDExMyBtZT1oZXggc3VibWU9NyBwc3k9MSBwc3lfcmQ9MS4wMDowLjAwIG1peGVkX3JlZj0xIG1lX3JhbmdlPTE2IGNocm9tYV9tZT0xIHRyZWxsaXM9MSA4eDhkY3Q9MSBjcW09MCBkZWFkem9uZT0yMSwxMSBmYXN0X3Bza2lwPTEgY2hyb21hX3FwX29mZnNldD0tMiB0aHJlYWRzPTMgbG9va2FoZWFkX3RocmVhZHM9MSBzbGljZWRfdGhyZWFkcz0wIG5yPTAgZGVjaW1hdGU9MSBpbnRlcmxhY2VkPTAgYmx1cmF5X2NvbXBhdD0wIGNvbnN0cmFpbmVkX2ludHJhPTAgYmZyYW1lcz0zIGJfcHlyYW1pZD0yIGJfYWRhcHQ9MSBiX2JpYXM9MCBkaXJlY3Q9MSB3ZWlnaHRiPTEgb3Blbl9nb3A9MCB3ZWlnaHRwPTIga2V5aW50PTI1MCBrZXlpbnRfbWluPTI1IHNjZW5lY3V0PTQwIGludHJhX3JlZnJlc2g9MCByY19sb29rYWhlYWQ9NDAgcmM9Y3JmIG1idHJlZT0xIGNyZj0yNS4wIHFjb21wPTAuNjAgcXBtaW49MCBxcG1heD02OSBxcHN0ZXA9NCBpcF9yYXRpbz0xLjQwIGFxPTE6MS4wMACAAAAB32WIhAAv//71sXwKaunqiXVOGaYIMAdNAfruTNfrGwYhk+DxpZScsziWQgfGLXjVJKqqRdSxA/2Kz0RBPXyYktQhY888x+iNuwyDcObrmdr7BdpXkDikYGYnVcqmnJSn+cK25yvi5+TukyKs0HO8B/jVIxfbnYV5lTcU8IhcWAnQ1mkqQhqkCDBFlqXLz6LEDAsZzEqOO+sG6x4kBUnSw6ZP+AxRPSK0+3vR1e0s8UvJUb8E820AQrbCysEqvo+dKutcgoL7/S7xC1Szux/R36xbPy1Z/0AAGukyDfPcCsZdGtiV3rAAZpwna5jaA+Z+2n3G4EwAAKKYYk+zWZYtltWsjdA3rpEFeh9TANpZnM/ROs/YUYNd7OSA0bhCkbNFYAZBeUTgcfEBWa3mBFA3bEajkvqLqV1xP0Inw57w5PjEC6bIM4fDwF/3nm9Fr0Sf0WV2hehp0yxjmDi3m+LekyQdq9ZXIUnz+PS/ckLjdIqB3CIF6dAU7Wiml6uezqbaA4IGzbrsygLtBA7cGGPUDsozfdYOsOaWxnjJa/AgsxqqWtuplJPko3ea9NcbFV4cDdbOHcfzAohbXzTgGqLnicB2/fTLe6vDLyiOk66wClO0zUjJXQDpKekj04HTXliBAAAAM0GaJGxCv/3hAKJS1ACD7ejiI5OYcByrbOg6xUZoAwhMMLePkwEVHx95lz9qKL7zKgPvQAAAABBBnkJ4hH8A+NczcP8bP41xAAAACQGeYXRH/wCpgAAAABABnmNqR/8BPscFLVczDvOBAAAAKEGaZkmoQWiZTBTwv/3xAA51wGkAxbeY7h1rLH/w5YM9UAx7D7aN0iEAAAAQAZ6Fakf/AT3T5DToW56oQQAAACVBmopJ4QpSZTAhf/3xAA7WjuuQABm7u4VWFLxmcIj9NgtCK/A5AAAAFEGeqEU0TCP/AP2p1ZSjlUowyZGAAAAAEQGex3RH/wFGupAjR+kFjduFAAAADgGeyWpH/wFG6Doae9MVAAAASEGazkmoQWiZTAhX//3hAD96hnjLGoAFglM7dEerjCKA1WLPUHpJQNrsyEBAzYm7sMVWPoRQJiym6aRQilVluwKXMXWTP6IxcAAAABlBnuxFESwj/wK98or3keN/Mzaxbjgm8AGgAAAAGAGfC3RH/wNyrbGQwA+TaIzGXcbPnNN08QAAABUBnw1qR/8DczVh2vWRRKRY8JNgPAUAAAAuQZsQSahBbJlMFEwv//3xACkK0krgTHGrBCvF9IiB/AOqQLNKTIDyPL/dHeUe2wAAABYBny9qR/8DczVhusSy2++sPfl9W/AgAAAAIEGbNEnhClJlMCFf/eEAP3v+2LF0Ga/sTs8mXaJ4S+b9AAAAFEGfUkU0TCP/Ar5iEULQcf0+3Oc5AAAAEwGfcXRH/wNy8178CmAAzw/daOkAAAAZAZ9zakf/ArAc5YyGAHzjkXw5c84qN1AzgAAAACJBm3ZJqEFomUwU8K/94QAx4vokDEvcMsyCz9N9rJkA3HOxAAAAEwGflWpH/wKvPhwAjSOsGbiHTuAAAAAcQZuYSeEKUmUwUsL//fEAHuu6RVDtznncurIDywAAABIBn7dqR/8Csc+AEa8ZQo9mjK8AAAAjQZu8SeEOiZTAhX/94QAyPoxBQ5A7+FWJ5A2U3dkQ9McOhJAAAAAWQZ/aRRU8I/8CFod6xX2GPE3gjqicGQAAABkBn/l0R/8CsDmyxkMAPjD2lrzA4TdVUqjmAAAAGAGf+2pH/wKyMBOHpQA+TaIziGNuekYGzwAAAB5Bm/5JqEFomUwU8K/94QAwovokCKCSfC2fNWkL2HkAAAATAZ4dakf/Ap/Pf/iNdIwLPDbq0AAAACFBmgBJ4QpSZTBSwr/94QAwovokCKCSfHL5MNU7k+lli4AAAAATAZ4/akf/Ap/Pf+fDi7mcJuxBgQAAAB1BmiRJ4Q6JlMCFf/3hADD+jgYedFAHx0kcLgQxhwAAABRBnkJFFTwj/wIG5+5m0Rt2A8TuKQAAABQBnmF0R/8Cn8CRckBLwAzw/daZIAAAABgBnmNqR/8B+iEuA4QAP/HIvjioSllFhkcAAAAiQZplSahBaJlMCFf//eEAJZvhTmwAzor07zchku6+IOP60QAAAB5BmolJ4QpSZTAhX/3hACXMqZSAecmNKaVHMuseVNEAAAAVQZ6nRTRMI/8BmZ91emGVXZwdFT3BAAAAEwGexnRH/wH7AkgQ2QJDPYo0RIAAAAARAZ7Iakf/Afs30CGzeDX400AAAAAYQZrLSahBaJlMFPCv/eEAJd7pxdnGHA7BAAAAFAGe6mpH/wH7N89HAnIbYQH/kguAAAAAFUGa7UnhClJlMFLCv/3hACSa+iQL1wAAABIBnwxqR/8B8DfQImZT3qa48kEAAAAdQZsOSeEOiZTAhX/94QAkm+FKIoJbEAE1/XGbZIEAAAAsQZswSeEPJlMFFTwv//3xABc3xRHM8XLF/6BH77AAp5TmcNLOX0AYXcklycEAAAAVAZ9Pakf/AfA3z/jA4swuvQmJaVPoAAAAF0GbVEnhDyZTAhX//eEAJN0TbGehyH5OAAAAFUGfckURPCP/AY/ic+LERjHCvouHIQAAABoBn5F0R/8B8C2MRPGAAzw/dbbdO7w6byb5QAAAABgBn5NqR/8Bh5qxkMAPnIt5aMDI8ExbOoAAAAAVQZuWSahBaJlMFPCv/eEAHDp2cYPRAAAADAGftWpH/wGHmrD+aAAAAB1Bm7hJ4QpSZTBSwr/94QAcOnZxheDbSNEt0jWFgQAAABIBn9dqR/8Bh5qxDlBxzsrEp4sAAAAdQZvcSeEOiZTAhX/94QAcb0Ygocgei92r7Ap6RggAAAAWQZ/6RRU8I/8BNUO9Yr7KWYwNLPxBgQAAABcBnhl0R/8BiJ869YAH9h7TA7MKtt/hlgAAABgBnhtqR/8Bh9HVhjlAD5N/hYEsSL6jB9EAAAAfQZoeSahBaJlMFPCv/eEAG5F9EggPxVNK0sjcBpLirwAAABQBnj1qR/8BfncJmyToSmhtLMrBgAAAACJBmj9J4QpSZTAhX/3hABuR8KUhVE1xXyGIOlRamAN01RaAAAAAH0GaQ0nhDomUwIV//eEAG73/bMxZmI1cAGeDGz20Vy8AAAAaQZ5hRRE8I/8BLXV19miuiy9AArkEO0kRwfAAAAATAZ6AdEf/AX6fOqc/+j3dN+RooQAAABABnoJqR/8BLVb5wrlaSNQgAAAAH0GahUmoQWiZTBTwr/3hABal/kr8yYxV8d6X46pQLoEAAAARAZ6kakf/ATXymk+AiL/EfUEAAAAbQZqmSeEKUmUwIX/98QAOISDZ1NwhNvQHFKPBAAAAIUGayEnhDomUwU0TC//98QAOHbtw0RGFk4yU1bM1GblCoQAAABEBnudqR/8BNRdBJ0gRCY8eoAAAACdBmuxJ4Q8mUwIX//3xAA510tVF93f9q0IAGZspSw4XwCtIouh9q4wAAAAeQZ8KRRE8I/8A+EnndjtiIOwgBBu3jzUV6AHi9OTBAAAAGAGfKXRH/wE+0aFA72C+3ADNl+5hyqQixAAAAA4BnytqR/8BJUvNQMnW8AAAADFBmzBJqEFomUwIX//98QAOdas7wMfdue7gBNWTUq5NgPoWcjSrJQ0UdYNHQc16DB9PAAAAHkGfTkURLCP/APi7ecM7s8w/1M9wAAsj+dma7sBCrwAAABYBn210R/8BHKZZoAgAGbn0ZGCkOcrBAAAAHAGfb2pH/wE926oKybIY0OGICn+/gAlPDla0cIwAAAAiQZt0SahBbJlMCF///fEADnkjHPb6b1Xx9qtGZBjxhWVdgAAAABZBn5JFFSwj/wD3jmn1y+kD4bHCoIqhAAAAEQGfsXRH/wE93InauEfdefeAAAAAGAGfs2pH/wE+rNxh29ih38dABbRBObly0AAAABxBm7ZJqEFsmUwUTC///fEADtEj7neegfx2aFuBAAAADwGf1WpH/wFHrv27eX07FQAAABhBm9pJ4QpSZTAhf/3xAA7RIxz29n6QWpcAAAARQZ/4RTRMI/8A/bAbZ/ayiEEAAAAPAZ4XdEf/AUbCoV/bWZdAAAAADQGeGWpH/wFHGNApM6EAAAAYQZoeSahBaJlMCF///fEADtIrfinmRMCUAAAAEUGePEURLCP/AP2u80p2sohBAAAADwGeW3RH/wFHvfG1JOiBhQAAAA0Bnl1qR/8BRxjQKTOgAAAAJ0GaQkmoQWyZTAhf//3xAC7fnEAA4TFPfPJ9h7/5PqHtnD6msLAWUAAAABNBnmBFFSwj/wD+K+zVVqNNP54hAAAADQGen3RH/wFH97YrjKgAAAARAZ6Bakf/AUevQXxV8zSAX0EAAAAZQZqGSahBbJlMCF///fEADnXS5P4NXm1VQAAAABFBnqRFFSwj/wD4qVPZ1HPHYQAAAA8BnsN0R/8BPcE5QltZmkEAAAAPAZ7Fakf/AT3RUNOhnzwhAAAAGkGaykmoQWyZTAhX//3hABfRT0zZ8fEjpmuBAAAAEUGe6EUVLCP/AP4rrdNehMjCAAAAEAGfB3RH/wFH9z6x5WUNr0AAAAAPAZ8Jakf/AUes37QtfTsVAAAAREGbDkmoQWyZTAhP//3YdcALQMf/4wgHUKa/YcPfjwULd7ETYjfGl0zfMJ4LPuVHFq+Qh2g5NYQ4uQdG6fwHDRUFt7qeAAAAFUGfLEUVLCP/UW263uAY3xZB/N6sYAAAABEBn0t0R/9bZ9IHJVxYwr8mgQAAABgBn01qR/8DwI+WMhgB8m0RmKBEVp1oGrcAAAAjQZtQSahBbJlMFEwn//yEARRY2ZtoC++W9jSvQihmWNA4WEUAAAATAZ9vakf/A8pvoA1Wzm+tEGn9xgAAAB5Bm3JJ4QpSZTBSwj/6WAIfNGYj2FfOIqt/sunjJqAAAAAUAZ+Rakf/A8pvn/GBaHWF/CJWDIEAAAAvQZuVSeEOiZTAhX/97VnMlwGlHcljzkXmPWkx8APoKNbCyJRtsPhHROhXxqcUC+AAAAAWQZ+zRRU8fwPLBsqFp685lfmWy/5R6AAAABMBn9RqR/8C+zVh/bpxTkkmDfSVAAAAHEGb2EmoQWiZTAhP//yEANZ8y6Sdh3R0DYhuVtwAAAARQZ/2RREsfwL87hMoUpXWEycAAAASAZ4Xakf/AvzuEyhQnOxJh1AJAAAAHEGaGkmoQWyZTBRMI//6WAGn2IYkPcIXzXwKAagAAAASAZ45akf/Avs1Yf3K+WC+zRkFAAAAH0GaPknhClJlMCFf/eEANzs3IeUORCrEbrncCIZm3hAAAAAXQZ5cRTRMI/8CVod6xX2F6TFySZ1uO8EAAAAYAZ57dEf/AvqtsZDAD4w9padfS6HVVMRvAAAAGQGefWpH/wL7nhOHpQA+PFvQ7GeVCs+5i4IAAAAXQZpgSahBaJlMFPCv/eEANaL6JAigj84AAAATAZ6fakf/AufPf/iNTJQx9GhE8QAAAB9BmoJJ4QpSZTBSwv/98QAhvFIjmeLiUHDZWLyy0xvUAAAAEwGeoWpH/wLnz3/nw4pxYKgAlsMAAAAiQZqmSeEOiZTAhX/94QA1+/7Yz0OQ/r4Jkj+TqWduQy6LQAAAABdBnsRFFTwj/wJG5+5m0Qf32JHbUbG6IQAAABoBnuN0R/8C58FuXZXABAH+1hMbBiFBNZXKuwAAABYBnuVqR/8COmCQywAP90+nxjcmY799AAAAIUGa6EmoQWiZTBTwr/3hACnM+iQMtpqx0tvIeIjdZUg0HQAAABQBnwdqR/8COmCQIOpSv7I+rcoykAAAABxBmwpJ4QpSZTBSwr/94QApzPokDLaheqKt0/G8AAAAEgGfKWpH/wI6YJAg6LlgvT0XzQAAAB1Bmy5J4Q6JlMCFf/3hACoetSYMRQcfvgNOjBBDWQAAABRBn0xFFTwj/wHCU3VivsR5XeYCIQAAABkBn2t0R/8CO/6F4MAPjD2mBzvbqc2BxhFBAAAAEwGfbWpH/wI6rfOHpQA+PFvQ6XUAAAAjQZtwSahBaJlMFPCv/eEAKKz6JAiglZv+01YFmwwzyxyEkoEAAAATAZ+Pakf/AipgkAawXgzVoFWlgAAAAB1Bm5JJ4QpSZTBSwr/94QAorPokCKB+LVemtmn6QAAAABIBn7FqR/8CKmCP+MBl1YYNnFcAAAAkQZuzSeEOiZTAhX/94QAo/rZgJZZXTAE/4AM4dXdMjQMduAHAAAAAHEGb1UnhDyZTBRU8K//94QAe+nZxe64Oa1b7YaQAAAARAZ/0akf/Aa+asOdsPNywQ6EAAAAVQZv3SeEPJlMFPCv//eEAHvp2cYOxAAAADAGeFmpH/wGvmrD9SQAAABVBmhlJ4Q8mUwU8K//94QAe+nZxg7EAAAAMAZ44akf/Aa+asP1IAAAAIUGaO0nhDyZTBTwv//3xABPXxRHKi0GQeMAiH3YtFsP1eQAAABABnlpqR/8Br5qw7WGqhZ3QAAAALUGaX0nhDyZTAhf//fEAE/9hn1MIALnu3fmQwERtRCxYszWgYdV1vreK2xReYQAAABVBnn1FETwj/wFX60St1giR1pmyS8EAAAAZAZ6cdEf/Aa9W1+pNTbmBfr4Zv2brgRkAQgAAAA0Bnp5qR/8BsI324VOaAAAAIUGag0moQWiZTAhX//3hAB8vRkOAY6P+NVaV/YQm+oTkaQAAABZBnqFFESwj/wFYLKQmp2F12YaXD/meAAAAEgGewHRH/wGvd4F1lh0JAJL/gQAAABIBnsJqR/8BpZqw4TB9SqsgViwAAAAbQZrHSahBbJlMCFf//eEAF+/iv2uNqo+c5MFBAAAAFkGe5UUVLCP/AP0ceTWC6slwgC/qv+0AAAAQAZ8EdEf/AUbCWDypKzulXwAAABEBnwZqR/8BR7qdNLw/Jr15QQAAACdBmwhJqEFsmUwIV//94QAX0fCpxoALeNmgR/XEHdkcwVl+djYY36oAAAArQZsqSeEKUmUwUVLCv/3hABfXrJQBJAAunlAv01X/AxxuXgjq2ZWDfq77kAAAABgBn0lqR/8BRbd2fyKfAAuHxzvus6i3txEAAAAkQZtLSeEOiZTAhf/98QAOziHiO8ALeKBCRLoBY5QVqPs18M+AAAAALEGbb0nhDyZTAhX//eEAF/K3aZyABdA5wEf1xCKky+nBHR3zn6YPKgNOn1LAAAAAHEGfjUURPCP/AP2kq3cWAATK85o3y64NxLk/CoEAAAAcAZ+sdEf/AUe+SinwART2bOrVq2gArABO/414gQAAABIBn65qR/8BRezU2aKBE9sQYCsAAAAyQZuySahBaJlMCFf//eEAF9F5Q3QAsOBAei6F/w5Ltg6rXhSFwH33O++vpSKRDyONzdAAAAAcQZ/QRREsfwFCr9BbDZSuwAlI+UPxZnwFXp4QgAAAABQBn/FqR/8BppGsgwDZFXiH82/1SwAAADtBm/RJqEFsmUwUTCv//eEAHlMAvAfjxIz0HVtCKg/wdOCXXo+zMFaMYvf8LKB2dtcPdouCWdhEKhwEdgAAABYBnhNqR/8BpxRROWHWKgf0/VW2SdDAAAAAHUGaFknhClJlMFLCv/3hAB5KaL2rJf+Hc81LMsKBAAAAEgGeNWpH/wGlnW1A7duuR5LVwAAAABZBmjhJ4Q6JlMFEwr/94QAebp3LbhuRAAAAEgGeV2pH/wGlnW1A7duuR5LVwQAAABxBmlpJ4Q8mUwU8K//94QAeSmi9pc7CP4gog7GAAAAAGAGeeWpH/wGmdeA4QAP8YQPba+znWn0oUQAAABxBmnxJ4Q8mUwU8L//98QATTiDOwEkLMgIN97YQAAAAEQGem2pH/wGlnW0tWQuIP+MtAAAAH0GagEnhDyZTAhX//eEAKKxITixKBnFKTT+s3OXzo/sAAAAXQZ6+RRE8I/8BuJJ4a88KKQ7gUeTncUAAAAAdAZ7ddEf/AbDA8NxQygB9Q/OnR3qLv5ARyqdBrvgAAAATAZ7fakf/AipkWGxfvyjjd46ixQAAABhBmsJJqEFomUwU8L/98QAZorzOwKIi7kAAAAATAZ7hakf/AipkWNWAB/RKbgyrCQAAABVBmuVJ4QpSZTAhf/3xABmyAU4Rc/wAAAATQZ8DRTRMfwIqTF0YGAJvktC+QQAAAAwBnyRqR/8CK8Da9cMAAAAjQZspSahBaJlMCFf//eEAKKxITj1wAd7rK8f628hMz6//d2EAAAATQZ9HRREsI/8Bt6BegJ3zKMGvAwAAAAwBn2Z0R/8CKhQTJbQAAAATAZ9oakf/AipkdUBILWtdJq8FgAAAACBBm2xJqEFsmUwIV//94QA0YgNJdAIIvFZ8siYHvUuCIQAAABRBn4pFFSx/AtdzOu18sSqK4YGMYAAAABQBn6tqR/8C13NH+vliS5kcxWeRgAAAABlBm7BJqEFsmUwIV//94QA1okhOKmGB2+xBAAAAEEGfzkUVLCP/AkaI/OvgM2cAAAAUAZ/tdEf/AunuewKYADOAbknwI4EAAAANAZ/vakf/AufUBBzOHQAAABdBm/JJqEFsmUwUTCv//eEANaLpnaPDQAAAAAwBnhFqR/8C59QEWk8AAAAeQZoUSeEKUmUwUsK//eEARPXTO0SgkPpd8qYabutgAAAAEgGeM2pH/wO232K2r4sDTGyt4AAAACNBmjZJ4Q6JlMFEwr/94QBE9dM7RrgtjWZ3zZD+bN7ULvfCVwAAABUBnlVqR/8DtHYw2MC1e6Cf30VNMYAAAAApQZpYSeEPJlMFPCv//eEARPXTO0frv4R/Yl9wPoE2tN9NaSskrPLbLDEAAAAZAZ53akf/A7R2MasAD/PW7DmMBcJH9RMubwAAACJBmnlJ4Q8mUwIV//3hAET3dErYAZwPFi9uQ7b2h/EiR6IPAAAAJEGam0nhDyZTBRE8K//94QBE9dM7R+u5AbZrwAvzuXNsWASTgQAAABEBnrpqR/8DtHZqccyIZCrkwAAAAC5Bmr9J4Q8mUwIR//pYAtc1UAKCplfK+z2uyZyruZfExxy5avPoiefzxVUjjtMxAAAAFkGe3UURPCP/A9ry11nfIfn0cL/ue08AAAASAZ78dEf/A7cNYcxyj1t1NSgEAAAAFwGe/mpH/wT7PPEytgQqbubetk91AlmQAAAAH0Ga4EmoQWiZTAhH//pYAtfpaRTIN7ewtFECiPFanEEAAAAhQZsESeEKUmUwIV/94QCadwgt5kc64NFa5LyASd9lDoWwAAAAF0GfIkU0TCP/BQysRZTcil/WJ1gDQKetAAAAEwGfQXRH/wT7S5/7XREpzqvEMrwAAAASAZ9Dakf/BPrmkBY6rqy9F1oXAAAAHUGbRkmoQWiZTBTwr/3hAF+rpnaLlfbLifNcjrM5AAAAEQGfZWpH/wT65pAWN9NBf3EhAAAAJkGbaEnhClJlMFLCv/3hAJJqLgChfT4Xnmo2DpnaMnoysvWpE0VZAAAAEwGfh2pH/wT65pAWMRFLy9dR8dgAAAAxQZuKSeEOiZTBRMK//eEAmBRfIAo8ZNp+vDk8k9ZGGA7K2xKxRSiXi88w5qkGf/rxwAAAAA8Bn6lqR/8GcErl3VcOkSEAAAAzQZusSeEPJlMFPCv//eEAl4TghrAReRgDks4GgbuVrN4nG0PLbVsQB6LvcARBVPyQMTiAAAAADwGfy2pH/wZnJ1N/8pBUkAAAAD9Bm85J4Q8mUwU8L//8fCHIUsYvHF706MgYB8wIAn6paN7cl5hPnTt1rk+RD42fBO/qLdqkekSN9nWt8lKmfyEAAAAcAZ/takf/eP0xMIqmakzc1gB9P9Y5k9C0JRvjPQAAADFBm/FJ4Q8mUwIX//3xAD7q7kgAInV1n8KJUIitahNwjSr5qQ9jfLQtrvYKbmZFTUSlAAAAGEGeD0URPH8FC2AU2b5W7ZVxZaOtI+Y9LAAAACABnjBqR/8FFvEumgARAkqcZj39LhbiusXttI0KaAjqwAAAAChBmjVJqEFomUwIX//98QA+7C5yawgAaKkm3iGWmYDJczRE8LxcIMpXAAAAIEGeU0URLCP/A+v64IAAIQKdBM9SqpE5tUVpnWnyMy3gAAAAFAGecnRH/wUZBMyWjpN6njmYK5cIAAAAEwGedGpH/wUY4WW+X+pswYp4KCEAAAAzQZp5SahBbJlMCF///fEAP384gAHCYpB2kf/txhgB/VqD/uOSpvGlWM54QcqwlaCoy3+QAAAAGUGel0UVLCP/A+vrSXFVYrqQam8ro1t/p4MAAAATAZ62dEf/BPnIoldgKdtSJLgegQAAAB4BnrhqR/8FHSNY9lq0AEDj++2d1vJMGBniVKFh6UAAAAIcZYiCAA3//vau/MsrdH6UvPOHaYOUAhL/3tb4DfnOFS2ZK7DfMMJJahrdSCwrzB/ig3a1kDBUavNqt6xHn4looQxS9zFukZzg5W/CFL/ad2F/uzQCvakISrHFnAk1RD96O/QYqNDYyFDKzWR6RVZqVwJeOjGKiihIsiIN2NuHWjiOmh+UC9tPZllELqZUnVfRur7nVDXKn561w4GNeqlRnrmRDl3YQs6A8hscqobukjwC/Q01I2+gKaPt6EZBPAR+xSo9sdNXsgAFmM8p64VPt+dEOsURue4V4f16g15D/JeWnZNFMJWNYhFapeFoAAhhlc4ZskCA6SrKpOb4lbBzb+u4LcFh/HlG+sIy2/o8wyIQP4riLuUBQBnH5W4geVWN1U1zC5jADPAfa3pqqD+w9jgJbdw2mkOyAIuAnROeURH/Ut6Bhbwia5kBy2Z217+pkGvpBZeojUwNB7oBEgTZvh1CjJx+JkvRo6bOnzHjyiLfERHWpg4xZ7FEgZ58o8aqK1Uj9uEuRuFhuqSDsclK4VEPT0eSuWZ5Faiwf+Ar1prFZrqRF7CqNWnddbbT1HnabfWpV+bfYOnbDh9pIUVaxqv3PIqH1zEufer0y2VX4a8KRGcAIDAzKoG8DCcQBFiObmaTY701gYmG2m9tssG9XnALfXaKuUK86fmn5BD5xAOYTMmoACH9BEThgmmAmfYXxB3t3xZ8Mgf7/XTRAAAAOUGaI2xCv/3hAKJS1ACD7ejiI2t4tFZ2zEk7bREA8DpqS2z7lsYtLj3WrYjsO3XzV8Fok/FcC1jbOAAAAB9BnkF4j/8D3WKP4AE7KAMwbO1HLmuEpOBDCw4pvFB/AAAAFQGeYmpH/wPeQlsZzVME00OVahm8YQAAACFBmmVJqEFomUwU8K/94QBJfdNkjRLkuXo931ddSSfBrqgAAAAVAZ6Eakf/A95CWxmPE5ePRzaAzh4wAAAAI0Gah0nhClJlMFLCv/3hAEcLUHdhok/RO6w+eQyYQ6npkDY5AAAAFAGepmpH/wPKb2vGq2Tk2/e7b/cgAAAAIEGaqUnhDomUwUTCv/3hAEd6I/6B3YbiXVpj52JQdNq/AAAAFAGeyGpH/wPKb2u4wLIjTOr2DX7QAAAAIEGazEnhDyZTAhX//eEANuIL5A4H+T3bvScpKKcC3fTFAAAAFUGe6kURPH8C/O4TJ6+E3au9kgTftQAAABgBnwtqR/8C+zVjIYAfT/m4kEDfpMACie8AAAAdQZsOSahBaJlMFPC//fEAIrxRojxe6AE7l1ZAf0EAAAASAZ8takf/AvzuAi6YprNq+R9iAAAAHUGbMknhClJlMCFf/eEANuJQ7sNKCRtoX6lanvc0AAAAFEGfUEU0TCP/AlaHbHI+n5RD1u7BAAAAEgGfb3RH/wL9Plh1KccBhOh2sAAAAA4Bn3FqR/8C+zVhwm1ucAAAACdBm3RJqEFomUwU8L/98QAi/tYfiZ3p1y6j/ZdJLyVmMbtHQHc5SoEAAAAZAZ+Takf/AvushIYFMABnO2MxkJafG/8j2QAAAB9Bm5hJ4QpSZTAhX/3hACs+i+HHztSDi1yOBBcKEsmBAAAAFkGftkU0TCP/Ac2Svvj+mKL6z1LxzkAAAAATAZ/VdEf/AktLwKxZJt8C9t8lyAAAABIBn9dqR/8CSq3zhVQN1FGTgXMAAAApQZvbSahBaJlMCFf//eEAKcwL6hxwAzjIC0awojJtAebiHgy4bKeV24AAAAAVQZ/5RREsfwI6Snx5swcqMNXdseRtAAAAFAGeGmpH/wI6YHXvhW/wPpGWlRbRAAAAJUGaHUmoQWyZTBRMK//94QApzPmiWlBJwC4DzyXHP4QaRkAcytIAAAAUAZ48akf/AjpgddxgZw2oa3zCl6EAAAAeQZogSeEKUmUwIV/94QAqHJ8Pii+RAIyfJz9OO6jBAAAAFEGeXkU0TH8COr2YYWrKywyZ4UY4AAAAEQGef2pH/wG5mrEIabTMs29pAAAAIUGaYkmoQWiZTBTwr/3hAB+qdgHCen176WoH+IBdZUg0bAAAABMBnoFqR/8BuZqxCXWIHJJF++QtAAAAG0GahEnhClJlMFLC//3xABRnxND6lwu2YHCkOQAAAA4BnqNqR/8BuncBCmnNQAAAAB9BmqhJ4Q6JlMCF//3xABSPYZdbDbQtNyX9rOZ+BR1gAAAAFkGexkUVPCP/AWEqRPIS3Nfn9aYDL0EAAAATAZ7ldEf/Abl3gVi02ujPchMj4AAAABIBnudqR/8Br5qw4TYHDQ1SzW8AAAAvQZrsSahBaJlMCFf//eEAHy9HBBedHwCSABEHecBH+Jjp3HjefBlH701ffLv/WSAAAAAWQZ8KRREsI/8BWDFUgytxdomnP0O6gQAAABMBnyl0R/8Br3uMQIe8KbIsHxHhAAAAGQGfK2pH/wFL1dfKMhgBmxnCtaGgxsTy4WEAAAArQZsuSahBbJlMFEwr//3hABh5m7pZoAQLb/7jv4fgYtuz74WhlGZaTeflgQAAABwBn01qR/8BULqWSuwALp1Grw0ETOVz2rArbqoVAAAAH0GbUUnhClJlMCFf/eEAGHPy8ANSPLKgdsVqtBI90MIAAAAZQZ9vRTRMfwFP6NBoAHGSRnoIsq90NiVUWwAAABQBn5BqR/8BULqdm+ABxdPJx/iqKAAAADFBm5VJqEFomUwIV//94QAYeZeNOhgAlkFJo8TpBFa9x91xKFDUltdYCspVC5AmciM7AAAAHkGfs0URLCP/AQ30JOS5Oi1ABpFP7Z/cQdJB+ubugQAAABkBn9J0R/8BT7sZnH4AW7eFDB0dU42RAtqLAAAAEgGf1GpH/wFPNlYBsZG4R+KnnQAAACdBm9ZJqEFsmUwIV//94QAYkFGsV0CgAtL/2RBfoqmUz528OxeO+WAAAAAzQZv5SeEKUmUwIV/94QAZPf/ONgBpe05NFomaBKMaTUYjOwbZ6jvLy4K4M7gKBQPLfukqAAAAHEGeF0U0TH8BWgUB6YHIASv56IzWpuKnLgK2rX8AAAAYAZ44akf/AbsT6PY9JDigoAVznfsLNavkAAAAIkGaOkmoQWiZTAhf//3xAA+GnflgAAjDO8rpnbLJXdgmGKYAAAAsQZpeSeEKUmUwIV/94QAfrmtIAE7d1h72mOTf1kV5JQ+55VUTDbI/fZDdHrcAAAAeQZ58RTRMI/8BYc80AFYxgGwWedLzGkzAsKfjvSYuAAAAFAGem3RH/wG1jtd6e9wmVrwQGiKBAAAAEwGenWpH/wG6b73/K7rWKf5/6OUAAAAxQZqBSahBaJlMCFf//eEAH91DMbFUACmryzKMLNtH2pIu8lBgiCAx7MaW9wyj8JrtsAAAABVBnr9FESx/Abl3Dhvdzkvy1xBn5REAAAASAZ7Aakf/AbmMMpdKroLKlri2AAAAIUGaxEmoQWyZTAhX//3hACCaSC7JhgbVpT84wZVAJ6pW+QAAABVBnuJFFSx/AcYO4scT1rY+iIhlLmUAAAAUAZ8Dakf/AcVF7B7f1LR9wNcBFGAAAAAbQZsFSahBbJlMCFf//eEAIJrqkIQzr4CCiDpIAAAANEGbKUnhClJlMCFf/eEAIJpyEGyqhobABO3dYe9pjkB/6W51ReJAe1ko98i7bl32pVkGWzkAAAAdQZ9HRTRMI/8BaQMkTXqgDMUwMCULzcSLSdspq8wAAAASAZ9mdEf/AcP4PUc9/DQZCICxAAAAEAGfaGpH/wHFTdh2YMy1W4AAAAAfQZtqSahBaJlMCFf//eEAIKWmC7StAjcpDeTPobP1zQAAACxBm45J4QpSZTAhX/3hACwT7aQAF2d1ls8w+gIO5erq7pKhFx+5kENmeywwpwAAAChBn6xFNEwj/wHZjuZlABfMYBsFnndZHwYvwnXGGZjiaB0fSPuF35gJAAAAEQGfy3RH/wJMP/U+ElxTWouVAAAAFAGfzWpH/wJLt8QLkmndnA0tbYIwAAAANUGb0EmoQWiZTBTwr/3hACxcgTHrwASucIRmejm8uCcIFU7bwC2IfdX1fkleK04ifdkGVkaEAAAAKAGf72pH/wJcuTJwANppOgH+zDb2QBN8V9Md8mgpz5+jGcVSbv6fbQkAAAAvQZvxSeEKUmUwIV/94QAsHh90QAUSj6c7vYgzGslmTO6eujxIKLHcuzuOK8krvUgAAAAjQZoTSeEOiZTBTRMK//3hACxetiuQLrKlzToSCgzoAsHl9EAAAAAYAZ4yakf/AlM5NXS8Tnn05MVkTnEftXIhAAAAJUGaN0nhDyZTAhP//IQAq86ZqABl2gV5EYi59eo62krU+kcbJGsAAAAeQZ5VRRE8I/8B2ZJSgAQ7MjYoNriMQr2ebbt4iBgRAAAAGQGedHRH/wJYio4n5MAHxb4bvot1Pp0TyYAAAAATAZ52akf/Alj65b5rlU1zjrA8wAAAAChBmnhJqEFomUwIV//94QAsHiaRQAWhJOclVxJA55h3B7GOAg8CWaGBAAAAKUGamUnhClJlMCFf/eEALF0MAAF1z2XktJ8QzAk+UCLv/w8/CxNYWu86AAAALEGau0nhDomUwU0TCv/94QAsMdPWmDD3WgBYtXlkfBQ9DchswEg/9V0TVpLgAAAAEwGe2mpH/wL+KKBh/ctMIIUx6iEAAAAyQZrdSeEPJlMFPCv//eEANuiQ6AFbur2pIwrzXoMVUjuHTtKzmoQtQ7/toxrTwrMansAAAAAUAZ78akf/Avzga/18sSWOvcxFI8kAAAA1QZrhSeEPJlMCFf/94QA3O/822AG3CK8IufUP8rNhn6JrfJ8S/RzTHNgYwB+fxPzs3+lwKZsAAAAhQZ8fRRE8I/8CV7wGyBgAz5mBgIK3EUKP5/l3HtKvZuawAAAAFAGfPnRH/wL9Jnf85OIDvpbTS/65AAAAFgGfIGpH/wL84Gvszpg8R8s1EqE4TosAAAAkQZsjSahBaJlMFPCv/eEANuIMDW2ADuH6RcvuG/b5pnfXTkTBAAAAFAGfQmpH/wL7NWoExF5LujSnC78xAAAAHUGbREnhClJlMCF//fEAIv/e1kVrOl86lteqVfiwAAAAL0GbaEnhDomUwIV//eEANbQmDoANtJFOxnxtZEbxHbbPdQ0p22gYL0ET+81j2S5WAAAAMkGfhkURPCP/AvWO75t3M6ACjCfWFXRhwdEU6FRtsA7VgMl43q4hzZoFbIAoDYJUglrhAAAAFQGfpXRH/wO3g9TJYg8am6B14j2hlwAAABQBn6dqR/8DuCLvllT8N+k5i7ainwAAACdBm6xJqEFomUwIV//94QBE/2vAFb7kX46MH4DvufTZVTTzLUAmiuYAAAAWQZ/KRREsI/8C9f3Of+BXMCJlGORCcQAAAA4Bn+l0R/8Dq1Yrh7VQuQAAABQBn+tqR/8Dq1YEa5+Caf3WQT0IxQAAAB9Bm+1JqEFsmUwIV//94QBE98I6t36TTTK1oHZ9evxhAAAAN0GaEUnhClJlMCFf/eEARXomqa5hAJQCHWmcxfzvoR8mAlfTQBNS4Qcn3ZZpqS/Hc1kue9Gv5NoAAAAZQZ4vRTRMI/8C7drck0kmJDqvef78rfCn/gAAABUBnk50R/8DtAST1pIs5R/cEC44s0EAAAARAZ5Qakf/A6CNMH436aC/ubAAAAAjQZpTSahBaJlMFPCv/eEAQyOcEE6IAm/Qx9JIJnUPf3sdOMAAAAASAZ5yakf/A55vqnEquejd6cFdAAAAHkGadUnhClJlMFLCf/yEAQQ1sb0H9mQxBjMZooCWEQAAABIBnpRqR/8Dnm+qcSq5tlJq/rkAAAAfQZqWSeEOiZTAhX/94QBC9fUhL5eiap3AzoScdeYoIAAAACRBmrhJ4Q8mUwUVPCv//eEAQvQYGtsAIxS3XB9o/A0Tz1P5u+AAAAASAZ7Xakf/A55LFThOb8OUnBlBAAAAIEGa2UnhDyZTAhX//eEAQvfCOTmwKUFJ2FW5dH7YhqJyAAAANEGa/UnhDyZTAhP//IQBT8O1QA6OX90fQ6bFHnUbjlvBrdcJf8jdkRLd01u539Zch9OHqyAAAAAeQZ8bRRE8I/8DrSwTUXVzuQANCsRhYZJxnvUUlvHTAAAAFgGfOnRH/wOeUtLwgicNZbCg3+mJ0sAAAAAZAZ88akf/BJTBKjGDjwAzrHB6jp+PhzwZjwAAABdBmz5JqEFomUwIV//94QBWqdsmOwRpCQAAADBBm0FJ4QpSZTAhP/yEAVLf33wAFUB/+y6v0Rf2/Qz9AXxBrNsiFbIYLgdJTNQ/8aAAAAAaQZ9/RTRMfwSXhTDLAA/s/ZBmtykarN7V6+8AAAAVAZ+Aakf/BfjsFJd+74x9jCiBwW1rAAAAIEGbgkmoQWiZTAhP//yEAU99bJfkAUJlVuZ0eKyYRJWBAAAAHkGbo0nhClJlMCFf/eEAVtBhDhgQpZH5Fi3+V9PwRQAAAClBm8RJ4Q6JlMCFf/3hAHVqu8So9sxhdoiqkqRAsjBB0R3dqoaEKnbuCAAAACFBm+ZJ4Q8mUwURPCv//eEAU+ciUoVe5PfP23JoA4z9BsYAAAASAZ4Fakf/BHSVNTaweUjUF6rFAAAALUGaCEnhDyZTBTwv//3xAEv/pYGXFHa4aQA8QlLGmIuGHnPkeJUdDNkeQfw8wAAAABIBnidqR/8EdJU1NnFNqGT1WiEAAAAjQZosSeEPJlMCFf/94QB61J8AIU7jplH7v4fyQ9m59bleHIAAAAAWQZ5KRRE8I/8Ei9xuRLPlparBHqWE4QAAABEBnml0R/8Ed/0B9P6KcWWFXQAAABIBnmtqR/8F1OwWFwdN1r2sKbMAAABrQZpwSahBaJlMCFf//JLqkozuKfgGtG///CEgFKrUYGNTQDpCaMNObZevbHzSrjV/+kJIoYIR5zYA/MjOef00cMaVqRqZf0TlWJY6MRkaXMnEeM+DGQyw6K8kbs/FPe/rOFFy6p/XeSTL/40AAAAnQZ6ORREsI/9zHT7lJA7YAE7G++rXTJ/c34sutq3Ub+pANTw2XLCAAAAAFgGerXRH/wXOtjnFCuxFeLDuZKOpByMAAAAUAZ6vakf/ezgvAkzqS3Dovu2Zx2cAAAAoQZqySahBbJlMFEwr//3hAHrZAQA2dx2QhJjX7kGdu2MrzZ41uWeTgAAAABUBntFqR/9pw+2M64duEDVdlkJhtkAAAAAlQZrUSeEKUmUwUsJ//IQBPIrWHbrPgBPteDRSFfhDPe+lqkuI4QAAABIBnvNqR/8EVJUwFvDuHVJq/mkAAAAbQZr1SeEOiZTAhX/94QBRwXeuLLLtOdum54RvAAAAG0GbFknhDyZTAhX//eEAUUX1SixFBZUgHDUKAwAAACtBmzhJ4Q8mUwURPCv//eEAUUQYJRsAIvyLUP6/RNR3yBOFXLmfTHSt10wEAAAAFAGfV2pH/wRUlS+s164uHRij9/qxAAAAH0GbWUnhDyZTAhf//fEAM/FHcHLlcnZYuw79nCb9G1QAAAAiQZt9SeEPJlMCFf/94QBR9/nYfTqAFhk7/+/ydZQbQD/pCAAAAB9Bn5tFETwj/wNrvU7zAAV9PnIEvFLz5DRkqABth29BAAAADwGfunRH/wRWlBHcbD7baAAAAA4Bn7xqR/8EVVvnCmNRjQAAABdBm75JqEFomUwIX//98QAyd3VKfouApwAAAB9Bm8JJ4QpSZTAhf/3xADLeglUQhx/mLhMY1yic6Pz/AAAAGUGf4EU0TCP/A04qLFHCS3dQHWZtLDtZXcEAAAASAZ4fdEf/BDQK9/oWSM6GiDaDAAAAEwGeAWpH/wQ1eYz4PSwf8PHPEjEAAABCQZoGSahBaJlMCF///fEAMnxzDPP+Yalv58IAWW9kKFpPwChtUw5Ue/naIcfrzbKqkgy8lTpjsKLdyW3P8rep/oIPAAAAG0GeJEURLCP/A0UmYo+3lxxZMk9EEyApQMeJoAAAABkBnkN0R/8DTT516wAP/HIRvOV0HMJSCQfkAAAAFQGeRWpH/wQX1osmZFwW/eO+g6y03QAAADJBmkpJqEFsmUwIX//98QAl/EHAjxwAK61gJRkPkPr49uK+0nGbKscWPRrx81pcTENDwAAAABdBnmhFFSwj/wNF/cYbN5aAnyI8BYm0QQAAABQBnod0R/8EFJm+nJ8I1rdPKzSlIAAAABABnolqR/8EF9aLCJuDslHhAAAALkGajkmoQWyZTAhX//3hADr0JmidCuQAXsSmHY2kwJz7hVXqrG+cYU2by3utQJEAAAApQZ6sRRUsI/8DRfx9dAnqdgAWgsx7Wl4CyhqmjRM/9AxcVy53+xSymoEAAAAOAZ7LdEf/BBSU3Lq3MK0AAAAXAZ7Nakf/BBfS8hFNCmYbWHjVZRJxONQAAAAwQZrSSahBbJlMCFf//eEAO18eQ4ZPUsJNQAbB5kAuWON8nWvhoQ8iCgn/cpteFlPQAAAAIkGe8EUVLCP/A0X9CSPDQayADhaA20gUVDjnkzs+F0S/p10AAAAVAZ8PdEf/BBSTydTUa3suB0lWstXAAAAAFQGfEWpH/wQX1hz7Ke5O2A6E0ukbQAAAACdBmxNJqEFsmUwIV//94QAtS1uF8EAG11aTFipppveeGQ7AaodLEMEAAAAuQZs3SeEKUmUwIV/94QAtV3GjrCQAVHCA9Jd00u1AKkIf0/MsK2z3/ytWSNLtwQAAABdBn1VFNEwj/wNFk0YyCB1uE41ONOyeUQAAABMBn3R0R/8EFJf/YuqpHVdLVhm2AAAAFQGfdmpH/wQX1UTkbZmI59uL3BvxYAAAAC5Bm3lJqEFomUwU8J/8hACxeD5AAMdWfIqx1EHAP4vbBAF2XqT/S84bosG+nxLxAAAAFQGfmGpH/wQZXIEtS8zEYi+N9zG9gAAAAChBm5pJ4QpSZTAhP/yEALSr1XREpIAHBz4e+A/Lz4jnXIM9p6tIeA6AAAAAJ0Gbu0nhDomUwIV//eEALkzqgPUAKpzYLtP+gvaYYz+E3/iPDk3wAwAAACpBm9xJ4Q8mUwIV//3hAHGhr8Cwhy3lHfauEpe1bpM8gBmE2afjmUVlIyAAAAAkQZv+SeEPJlMFETwv//3xADJ8czpq3nQ4vHAVg18ahEr9S16VAAAAFQGeHWpH/wJ9aE1AXI5b0ukteN2ywQAAACNBmgJJ4Q8mUwIV//3hAC6etl2DwIoB3O2WDWbCOUcaKyHVDAAAABlBniBFETwj/wHvUGXDcT3KhnykEdu6XSFBAAAAFgGeX3RH/wJ9k4qOVRchG7P2LmwZYVAAAAATAZ5Bakf/AnxAsL61EnPmdOc1QQAAAB1BmkRJqEFomUwU8K/94QAjmgNyBoVIqSnvc3QG8QAAABIBnmNqR/8B5TswJCN6wIhSH+AAAAArQZpnSeEKUmUwIV/94QAkoI4ABNMJHQoZwxKHAO9VCE5P9D5NpI6bKCMeGgAAABVBnoVFNEx/AfFF7QhxrYwnZtxOWa0AAAARAZ6makf/AfFN2qqCTEyNz8AAAAA1QZqrSahBaJlMCFf//eEAJN0TtikAP4mnJotEzQJRjSajEZ2UGB6mvECLmOeuhwPD0n4QsjEAAAAfQZ7JRREsI/8Bmo6A+WEqwAT3QlGClrZABhTYGfd/ZQAAABQBnuh0R/8B7/g8CQfQNdKR9CCfdwAAABUBnupqR/8B/GwEtZ23nHONDKyQmUEAAAAkQZrsSahBbJlMCFf//eEAJJu6TmwAqARNP9klaftCANs7gdxBAAAAJUGbDknhClJlMFFSwr/94QAl3RNTINyUiCCoJSiRztV+R6VsMYkAAAAVAZ8takf/Aft5DgUFtY1UT7if36ioAAAAIEGbMknhDomUwIV//eEAJN7qzeRyEQD1gXk9afoGOQHsAAAAFkGfUEUVPCP/AZmRWDE3g3GrEAR2QuEAAAATAZ9vdEf/AfsEN1tJFnQIl4m/jQAAAA0Bn3FqR/8B+4P2X1nDAAAAI0GbdEmoQWiZTBTwr/3hABz9DocmgAJ9hggwUmQRKD2LyiT5AAAAEgGfk2pH/wGRnYEdHuUX2b1E6QAAACdBm5ZJ4QpSZTBSwn/8hABxAufbsZdVX+jL4AnHaqCaOXCSqVu9y4EAAAATAZ+1akf/AZJvvqzUwVuPPOnE8AAAABxBm7dJ4Q6JlMCFf/3hABzqaZ4sDCEkmzGoVMpgAAAAIUGb2UnhDyZTBRU8K//94QAc6cJsxjyfAFe1AEyGCfWSPQAAABIBn/hqR/8BkYwwkdTdiGtUSIAAAAAiQZv7SeEPJlMFPCv//eEAHZnCbLfLzIrWcsFgMqwmtcgLsgAAABMBnhpqR/8Bm4wwJoFuCXyCcEJxAAAAIUGaHEnhDyZTAhX//eEAHZsCwGwAp8s9TmQhQ+a/qcQO0AAAABhBmj5J4Q8mUwURPCv//eEAHZnCbMBpdJkAAAAOAZ5dakf/AZxvvqVZAbEAAAAWQZpfSeEPJlMCFf/94QAdmmmeEUEjiAAAACJBmmJJ4Q8mUwIV//3hAB3PRxILOU1S0UQhMct6yhPLw/SdAAAAGkGegEURPH8BnHXhntGRoLSBAAM8P3WNz5UtAAAAFAGeoWpH/wGb2vlvih0MPXDyizGPAAAAIUGapEmoQWiZTBTwv/3xADJ8cw0CQtLRFqC4Ioyr5LlxwQAAABEBnsNqR/8BYeg6HWd9B788/gAAADJBmsdJ4QpSZTAhf/3xADJ8czpiVyfWDfcOxjYADaBfSoN1N8NEd+9ik7pvgvpUQwp/OgAAABVBnuVFNEx/AWM5+qyZQJXs7bnAQmEAAAATAZ8Gakf/AWIU07vguXu+Got1wAAAACtBmwtJqEFomUwIV//94QAZEUqHBwBd/DABZxvtOKhzVK0EjEkS5myS32GhAAAAGkGfKUURLCP/AQ1DI0sDu7roAKiCmmETTBS+AAAAEQGfSHRH/wFYudTTQRBc/D1BAAAAEQGfSmpH/wFY5enSCvW3E625AAAAJkGbTUmoQWyZTBRMK//94QAZPf9TRUlFYZDABxAUm/kpyaG4quctAAAAGAGfbGpH/wFZrSN1CO8PtwAzfmqvn9MLJQAAAChBm29J4QpSZTBSwr/94QAYcVG6gcg4qgBtRvtOKh0f5+5wNZOrpk7AAAAADwGfjmpH/wFL6mIDA+zAZwAAADNBm5NJ4Q6JlMCFf/3hABid/1B350scEEALcCSaPE6QRWvdD5XlZf7+y61pf8LiKEYq8esAAAAgQZ+xRRU8I/8BBXFdqLHOACxB+IJ+0eTxlh6uFZI8ZmAAAAAXAZ/QdEf/AU/WnjJrwAE3/ERe4lH1wiEAAAAQAZ/Sakf/AUVB50uTxkrLCQAAACJBm9VJqEFomUwU8K/94QAX5LEwlGAFvA3ZZHkCbUZQP26BAAAAGwGf9GpH/wFP2rnLWBWMAH28+WuaCd9+EUMOaQAAACRBm/lJ4QpSZTAhH/pYALaNxIVCLgBFHJ65DNXEz1Rw17U4UCAAAAATQZ4XRTRMI/8A/aldZ4gfQ0rlUAAAABABnjZ0R/8BRsEw+MSXHXVxAAAAEAGeOGpH/wFG6Cu+D+zVEugAAAIDZYiEAC///vWxfApq6eqJdU4ZpggwAnd8fxL7aZTL6ZsVZNs6B5wEzZe5jlJVLRrRzRBl15P1e51zmILGq0ChB5OB7+TJiz/nbwzYNruls//5rWBm/J/A1ouN6ljy6cHGGuRMV1rcudRM1sZqUEdg11JMD4keHa2E7FepMSDsVW7SfljPLOK/OcEMaf+EVfg2waD9Ffkiyw6MfmLnIOObzJAwWCaH8LpNNlgh9YXTETPY04aEh0e8748TumhrhjcSPOolG2nYgBMH2qDAyn4STP4JvqRtdDs6TxxxOPYpNfyEhsO9BJUTx5vAZx8QpScVYoffYce3WomCKKZ8o7Z9K2w9/V9nRe+8az5udZyd/qV3pBjOYL3L/YQWIhLoH3gb5VW2n1BZtYcvf7dzlua9SU1deitCyRjttjhy9QrKSEOLb+ehD/4UAve/podMQGvlYxJOsEWZ6ltB+6objFvOeFM2HQX+qQ7LgRIuYFi5Pl36JR7pxcWpYGqo2MLokqdVvdty3+D8LC9DfLKPRQQI+C4So0sf7ftzjfUjnSWspknGQq2qtn/xMuJPwdSeyf9nEm/F5EnULhMhyXiUQbomRLGSNEYoY9zjgvCWmSTVIdZt1X3JfHjYvPuGwXH+dYT0Av+kmnXSlNNRdSRDzCrjta+k7vPZmp64KQ6k8EBSHqXEdzAAAAAqQZohbEf/+li8T2ZnuANR+RXeus6gGJWb36gPURVyFi5aes8D1Zu5NrOjAAAZ2W1vb3YAAABsbXZoZAAAAAAAAAAAAAAAAAAAA+gAACCvAAEAAAEAAAAAAAAAAAAAAAABAAAAAAAAAAAAAAAAAAAAAQAAAAAAAAAAAAAAAAAAQAAAAAAAAAAAAAAAAAAAAAAAAAAAAAAAAAAAAAAAAAIAABkDdHJhawAAAFx0a2hkAAAAAwAAAAAAAAAAAAAAAQAAAAAAACCvAAAAAAAAAAAAAAAAAAAAAAABAAAAAAAAAAAAAAAAAAAAAQAAAAAAAAAAAAAAAAAAQAAAAACgAAAA0gAAAAAAJGVkdHMAAAAcZWxzdAAAAAAAAAABAAAgrwAAAgAAAQAAAAAYe21kaWEAAAAgbWRoZAAAAAAAAAAAAAAAAAAAPAAAAfYAVcQAAAAAAC1oZGxyAAAAAAAAAAB2aWRlAAAAAAAAAAAAAAAAVmlkZW9IYW5kbGVyAAAAGCZtaW5mAAAAFHZtaGQAAAABAAAAAAAAAAAAAAAkZGluZgAAABxkcmVmAAAAAAAAAAEAAAAMdXJsIAAAAAEAABfmc3RibAAAAJZzdHNkAAAAAAAAAAEAAACGYXZjMQAAAAAAAAABAAAAAAAAAAAAAAAAAAAAAACgANIASAAAAEgAAAAAAAAAAQAAAAAAAAAAAAAAAAAAAAAAAAAAAAAAAAAAAAAAAAAAABj//wAAADBhdmNDAWQADf/hABhnZAANrNlCh34iEAAAAwAQAAAHgPFCmWABAAVo6+csiwAAABhzdHRzAAAAAAAAAAEAAAH2AAABAAAAABxzdHNzAAAAAAAAAAMAAAABAAAA+wAAAfUAAA74Y3R0cwAAAAAAAAHdAAAAAQAAAgAAAAABAAAFAAAAAAEAAAIAAAAAAQAAAAAAAAABAAABAAAAAAEAAAMAAAAAAQAAAQAAAAABAAAFAAAAAAEAAAIAAAAAAQAAAAAAAAABAAABAAAAAAEAAAUAAAAAAQAAAgAAAAABAAAAAAAAAAEAAAEAAAAAAQAAAwAAAAABAAABAAAAAAEAAAUAAAAAAQAAAgAAAAABAAAAAAAAAAEAAAEAAAAAAQAAAwAAAAABAAABAAAAAAEAAAMAAAAAAQAAAQAAAAABAAAFAAAAAAEAAAIAAAAAAQAAAAAAAAABAAABAAAAAAEAAAMAAAAAAQAAAQAAAAABAAADAAAAAAEAAAEAAAAAAQAABQAAAAABAAACAAAAAAEAAAAAAAAAAQAAAQAAAAABAAACAAAAAAEAAAUAAAAAAQAAAgAAAAABAAAAAAAAAAEAAAEAAAAAAQAAAwAAAAABAAABAAAAAAEAAAMAAAAAAQAAAQAAAAABAAACAAAAAAEAAAMAAAAAAQAAAQAAAAABAAAFAAAAAAEAAAIAAAAAAQAAAAAAAAABAAABAAAAAAEAAAMAAAAAAQAAAQAAAAABAAADAAAAAAEAAAEAAAAAAQAABQAAAAABAAACAAAAAAEAAAAAAAAAAQAAAQAAAAABAAADAAAAAAEAAAEAAAAAAQAAAgAAAAABAAAFAAAAAAEAAAIAAAAAAQAAAAAAAAABAAABAAAAAAEAAAMAAAAAAQAAAQAAAAABAAACAAAAAAEAAAMAAAAAAQAAAQAAAAABAAAFAAAAAAEAAAIAAAAAAQAAAAAAAAABAAABAAAAAAEAAAUAAAAAAQAAAgAAAAABAAAAAAAAAAEAAAEAAAAAAQAABQAAAAABAAACAAAAAAEAAAAAAAAAAQAAAQAAAAABAAADAAAAAAEAAAEAAAAAAQAABQAAAAABAAACAAAAAAEAAAAAAAAAAQAAAQAAAAABAAAFAAAAAAEAAAIAAAAAAQAAAAAAAAABAAABAAAAAAEAAAUAAAAAAQAAAgAAAAABAAAAAAAAAAEAAAEAAAAAAQAABQAAAAABAAACAAAAAAEAAAAAAAAAAQAAAQAAAAABAAAFAAAAAAEAAAIAAAAAAQAAAAAAAAABAAABAAAAAAEAAAUAAAAAAQAAAgAAAAABAAAAAAAAAAEAAAEAAAAAAQAAAwAAAAABAAABAAAAAAEAAAMAAAAAAQAAAQAAAAABAAAEAAAAAAIAAAEAAAAAAQAABAAAAAACAAABAAAAAAEAAAMAAAAAAQAAAQAAAAABAAAFAAAAAAEAAAIAAAAAAQAAAAAAAAABAAABAAAAAAEAAAMAAAAAAQAAAQAAAAABAAADAAAAAAEAAAEAAAAAAQAABQAAAAABAAACAAAAAAEAAAAAAAAAAQAAAQAAAAABAAADAAAAAAEAAAEAAAAAAQAAAwAAAAABAAABAAAAAAEAAAUAAAAAAQAAAgAAAAABAAAAAAAAAAEAAAEAAAAAAQAAAwAAAAABAAABAAAAAAEAAAMAAAAAAQAAAQAAAAABAAACAAAAAAEAAAMAAAAAAQAAAQAAAAABAAADAAAAAAEAAAEAAAAAAQAAAwAAAAABAAABAAAAAAEAAAMAAAAAAQAAAQAAAAABAAAFAAAAAAEAAAIAAAAAAQAAAAAAAAABAAABAAAAAAEAAAUAAAAAAQAAAgAAAAABAAAAAAAAAAEAAAEAAAAAAQAABQAAAAABAAACAAAAAAEAAAAAAAAAAQAAAQAAAAABAAACAAAAAAEAAAMAAAAAAQAAAQAAAAABAAACAAAAAAEAAAUAAAAAAQAAAgAAAAABAAAAAAAAAAEAAAEAAAAAAQAABAAAAAACAAABAAAAAAEAAAMAAAAAAQAAAQAAAAABAAADAAAAAAEAAAEAAAAAAQAAAwAAAAABAAABAAAAAAEAAAMAAAAAAQAAAQAAAAABAAADAAAAAAEAAAEAAAAAAQAABQAAAAABAAACAAAAAAEAAAAAAAAAAQAAAQAAAAABAAADAAAAAAEAAAEAAAAAAQAABAAAAAACAAABAAAAAAEAAAUAAAAAAQAAAgAAAAABAAAAAAAAAAEAAAEAAAAAAQAABAAAAAACAAABAAAAAAEAAAUAAAAAAQAAAgAAAAABAAAAAAAAAAEAAAEAAAAAAQAAAwAAAAABAAABAAAAAAEAAAMAAAAAAQAAAQAAAAABAAADAAAAAAEAAAEAAAAAAQAAAwAAAAABAAABAAAAAAEAAAIAAAAAAQAAAwAAAAABAAABAAAAAAEAAAUAAAAAAQAAAgAAAAABAAAAAAAAAAEAAAEAAAAAAQAAAgAAAAABAAAFAAAAAAEAAAIAAAAAAQAAAAAAAAABAAABAAAAAAEAAAMAAAAAAQAAAQAAAAABAAADAAAAAAEAAAEAAAAAAQAAAwAAAAABAAABAAAAAAEAAAMAAAAAAQAAAQAAAAABAAADAAAAAAEAAAEAAAAAAQAABAAAAAACAAABAAAAAAEAAAUAAAAAAQAAAgAAAAABAAAAAAAAAAEAAAEAAAAAAQAABQAAAAABAAACAAAAAAEAAAAAAAAAAQAAAQAAAAABAAACAAAAAAEAAAQAAAAAAgAAAQAAAAABAAADAAAAAAEAAAEAAAAAAQAAAwAAAAABAAABAAAAAAEAAAMAAAAAAQAAAQAAAAABAAAEAAAAAAIAAAEAAAAAAQAAAwAAAAABAAABAAAAAAEAAAUAAAAAAQAAAgAAAAABAAAAAAAAAAEAAAEAAAAAAQAAAwAAAAABAAABAAAAAAEAAAUAAAAAAQAAAgAAAAABAAAAAAAAAAEAAAEAAAAAAQAABAAAAAACAAABAAAAAAEAAAMAAAAAAQAAAQAAAAABAAAEAAAAAAIAAAEAAAAAAQAAAwAAAAABAAABAAAAAAEAAAMAAAAAAQAAAQAAAAABAAAFAAAAAAEAAAIAAAAAAQAAAAAAAAABAAABAAAAAAEAAAUAAAAAAQAAAgAAAAABAAAAAAAAAAEAAAEAAAAAAQAAAwAAAAABAAABAAAAAAEAAAQAAAAAAgAAAQAAAAABAAAFAAAAAAEAAAIAAAAAAQAAAAAAAAABAAABAAAAAAEAAAIAAAAAAQAABAAAAAACAAABAAAAAAEAAAIAAAAAAQAABQAAAAABAAACAAAAAAEAAAAAAAAAAQAAAQAAAAABAAAEAAAAAAIAAAEAAAAAAQAABAAAAAACAAABAAAAAAEAAAIAAAAAAQAABQAAAAABAAACAAAAAAEAAAAAAAAAAQAAAQAAAAABAAACAAAAAAEAAAUAAAAAAQAAAgAAAAABAAAAAAAAAAEAAAEAAAAAAQAAAwAAAAABAAABAAAAAAEAAAIAAAAAAQAAAwAAAAABAAABAAAAAAEAAAUAAAAAAQAAAgAAAAABAAAAAAAAAAEAAAEAAAAAAgAAAgAAAAABAAADAAAAAAEAAAEAAAAAAQAAAwAAAAABAAABAAAAAAEAAAUAAAAAAQAAAgAAAAABAAAAAAAAAAEAAAEAAAAAAQAAAwAAAAABAAABAAAAAAEAAAIAAAAAAQAABQAAAAABAAACAAAAAAEAAAAAAAAAAQAAAQAAAAABAAAFAAAAAAEAAAIAAAAAAQAAAAAAAAABAAABAAAAAAEAAAIAAAAAAQAABQAAAAABAAACAAAAAAEAAAAAAAAAAQAAAQAAAAABAAADAAAAAAEAAAEAAAAAAQAAAwAAAAABAAABAAAAAAEAAAIAAAAAAQAAAwAAAAABAAABAAAAAAEAAAIAAAAAAQAABQAAAAABAAACAAAAAAEAAAAAAAAAAQAAAQAAAAABAAACAAAAAAEAAAQAAAAAAgAAAQAAAAADAAACAAAAAAEAAAMAAAAAAQAAAQAAAAABAAADAAAAAAEAAAEAAAAAAQAABQAAAAABAAACAAAAAAEAAAAAAAAAAQAAAQAAAAABAAAFAAAAAAEAAAIAAAAAAQAAAAAAAAABAAABAAAAAAEAAAMAAAAAAQAAAQAAAAABAAADAAAAAAEAAAEAAAAAAgAAAgAAAAABAAADAAAAAAEAAAEAAAAAAQAAAgAAAAABAAAFAAAAAAEAAAIAAAAAAQAAAAAAAAABAAABAAAAAAEAAAIAAAAAAQAABQAAAAABAAACAAAAAAEAAAAAAAAAAQAAAQAAAAABAAAFAAAAAAEAAAIAAAAAAQAAAAAAAAABAAABAAAAAAEAAAUAAAAAAQAAAgAAAAABAAAAAAAAAAEAAAEAAAAAAQAABQAAAAABAAACAAAAAAEAAAAAAAAAAQAAAQAAAAABAAAFAAAAAAEAAAIAAAAAAQAAAAAAAAABAAABAAAAAAEAAAIAAAAAAQAABQAAAAABAAACAAAAAAEAAAAAAAAAAQAAAQAAAAABAAADAAAAAAEAAAEAAAAAAwAAAgAAAAABAAADAAAAAAEAAAEAAAAAAQAABQAAAAABAAACAAAAAAEAAAAAAAAAAQAAAQAAAAABAAADAAAAAAEAAAEAAAAAAQAABAAAAAACAAABAAAAAAEAAAUAAAAAAQAAAgAAAAABAAAAAAAAAAEAAAEAAAAAAQAAAgAAAAABAAADAAAAAAEAAAEAAAAAAQAABQAAAAABAAACAAAAAAEAAAAAAAAAAQAAAQAAAAABAAADAAAAAAEAAAEAAAAAAQAAAwAAAAABAAABAAAAAAEAAAIAAAAAAQAAAwAAAAABAAABAAAAAAEAAAMAAAAAAQAAAQAAAAABAAACAAAAAAEAAAMAAAAAAQAAAQAAAAABAAACAAAAAAEAAAQAAAAAAgAAAQAAAAABAAADAAAAAAEAAAEAAAAAAQAABAAAAAACAAABAAAAAAEAAAUAAAAAAQAAAgAAAAABAAAAAAAAAAEAAAEAAAAAAQAAAwAAAAABAAABAAAAAAEAAAMAAAAAAQAAAQAAAAABAAAFAAAAAAEAAAIAAAAAAQAAAAAAAAABAAABAAAAAAEAAAMAAAAAAQAAAQAAAAABAAAFAAAAAAEAAAIAAAAAAQAAAAAAAAABAAABAAAAAAIAAAIAAAAAHHN0c2MAAAAAAAAAAQAAAAEAAAH2AAAAAQAAB+xzdHN6AAAAAAAAAAAAAAH2AAAElQAAADcAAAAUAAAADQAAABQAAAAsAAAAFAAAACkAAAAYAAAAFQAAABIAAABMAAAAHQAAABwAAAAZAAAAMgAAABoAAAAkAAAAGAAAABcAAAAdAAAAJgAAABcAAAAgAAAAFgAAACcAAAAaAAAAHQAAABwAAAAiAAAAFwAAACUAAAAXAAAAIQAAABgAAAAYAAAAHAAAACYAAAAiAAAAGQAAABcAAAAVAAAAHAAAABgAAAAZAAAAFgAAACEAAAAwAAAAGQAAABsAAAAZAAAAHgAAABwAAAAZAAAAEAAAACEAAAAWAAAAIQAAABoAAAAbAAAAHAAAACMAAAAYAAAAJgAAACMAAAAeAAAAFwAAABQAAAAjAAAAFQAAAB8AAAAlAAAAFQAAACsAAAAiAAAAHAAAABIAAAA1AAAAIgAAABoAAAAgAAAAJgAAABoAAAAVAAAAHAAAACAAAAATAAAAHAAAABUAAAATAAAAEQAAABwAAAAVAAAAEwAAABEAAAArAAAAFwAAABEAAAAVAAAAHQAAABUAAAATAAAAEwAAAB4AAAAVAAAAFAAAABMAAABIAAAAGQAAABUAAAAcAAAAJwAAABcAAAAiAAAAGAAAADMAAAAaAAAAFwAAACAAAAAVAAAAFgAAACAAAAAWAAAAIwAAABsAAAAcAAAAHQAAABsAAAAXAAAAIwAAABcAAAAmAAAAGwAAAB4AAAAaAAAAJQAAABgAAAAgAAAAFgAAACEAAAAYAAAAHQAAABcAAAAnAAAAFwAAACEAAAAWAAAAKAAAACAAAAAVAAAAGQAAABAAAAAZAAAAEAAAACUAAAAUAAAAMQAAABkAAAAdAAAAEQAAACUAAAAaAAAAFgAAABYAAAAfAAAAGgAAABQAAAAVAAAAKwAAAC8AAAAcAAAAKAAAADAAAAAgAAAAIAAAABYAAAA2AAAAIAAAABgAAAA/AAAAGgAAACEAAAAWAAAAGgAAABYAAAAgAAAAHAAAACAAAAAVAAAAIwAAABsAAAAhAAAAFwAAABwAAAAXAAAAGQAAABcAAAAQAAAAJwAAABcAAAAQAAAAFwAAACQAAAAYAAAAGAAAAB0AAAAUAAAAGAAAABEAAAAbAAAAEAAAACIAAAAWAAAAJwAAABkAAAAtAAAAHQAAACYAAAAoAAAAFQAAADIAAAAaAAAAFgAAABsAAAAjAAAAJQAAABsAAAAXAAAAFgAAACEAAAAVAAAAKgAAABcAAAA1AAAAEwAAADcAAAATAAAAQwAAACAAAAA1AAAAHAAAACQAAAAsAAAAJAAAABgAAAAXAAAANwAAAB0AAAAXAAAAIgAAAiAAAAA9AAAAIwAAABkAAAAlAAAAGQAAACcAAAAYAAAAJAAAABgAAAAkAAAAGQAAABwAAAAhAAAAFgAAACEAAAAYAAAAFgAAABIAAAArAAAAHQAAACMAAAAaAAAAFwAAABYAAAAtAAAAGQAAABgAAAApAAAAGAAAACIAAAAYAAAAFQAAACUAAAAXAAAAHwAAABIAAAAjAAAAGgAAABcAAAAWAAAAMwAAABoAAAAXAAAAHQAAAC8AAAAgAAAAIwAAAB0AAAAYAAAANQAAACIAAAAdAAAAFgAAACsAAAA3AAAAIAAAABwAAAAmAAAAMAAAACIAAAAYAAAAFwAAADUAAAAZAAAAFgAAACUAAAAZAAAAGAAAAB8AAAA4AAAAIQAAABYAAAAUAAAAIwAAADAAAAAsAAAAFQAAABgAAAA5AAAALAAAADMAAAAnAAAAHAAAACkAAAAiAAAAHQAAABcAAAAsAAAALQAAADAAAAAXAAAANgAAABgAAAA5AAAAJQAAABgAAAAaAAAAKAAAABgAAAAhAAAAMwAAADYAAAAZAAAAGAAAACsAAAAaAAAAEgAAABgAAAAjAAAAOwAAAB0AAAAZAAAAFQAAACcAAAAWAAAAIgAAABYAAAAjAAAAKAAAABYAAAAkAAAAOAAAACIAAAAaAAAAHQAAABsAAAA0AAAAHgAAABkAAAAkAAAAIgAAAC0AAAAlAAAAFgAAADEAAAAWAAAAJwAAABoAAAAVAAAAFgAAAG8AAAArAAAAGgAAABgAAAAsAAAAGQAAACkAAAAWAAAAHwAAAB8AAAAvAAAAGAAAACMAAAAmAAAAIwAAABMAAAASAAAAGwAAACMAAAAdAAAAFgAAABcAAABGAAAAHwAAAB0AAAAZAAAANgAAABsAAAAYAAAAFAAAADIAAAAtAAAAEgAAABsAAAA0AAAAJgAAABkAAAAZAAAAKwAAADIAAAAbAAAAFwAAABkAAAAyAAAAGQAAACwAAAArAAAALgAAACgAAAAZAAAAJwAAAB0AAAAaAAAAFwAAACEAAAAWAAAALwAAABkAAAAVAAAAOQAAACMAAAAYAAAAGQAAACgAAAApAAAAGQAAACQAAAAaAAAAFwAAABEAAAAnAAAAFgAAACsAAAAXAAAAIAAAACUAAAAWAAAAJgAAABcAAAAlAAAAHAAAABIAAAAaAAAAJgAAAB4AAAAYAAAAJQAAABUAAAA2AAAAGQAAABcAAAAvAAAAHgAAABUAAAAVAAAAKgAAABwAAAAsAAAAEwAAADcAAAAkAAAAGwAAABQAAAAmAAAAHwAAACgAAAAXAAAAFAAAABQAAAIHAAAALgAAABRzdGNvAAAAAAAAAAEAAAAwAAAAYnVkdGEAAABabWV0YQAAAAAAAAAhaGRscgAAAAAAAAAAbWRpcmFwcGwAAAAAAAAAAAAAAAAtaWxzdAAAACWpdG9vAAAAHWRhdGEAAAABAAAAAExhdmY1Ny44My4xMDA=\" type=\"video/mp4\" />\n",
              "                   </video>"
            ],
            "text/plain": [
              "<IPython.core.display.HTML object>"
            ]
          },
          "metadata": {}
        }
      ]
    },
    {
      "cell_type": "code",
      "source": [
        "recorder(max_steps=500)"
      ],
      "metadata": {
        "id": "91iMb12MmrSG",
        "outputId": "7a4f89b9-7b33-48b5-d3f1-40998010d98d",
        "colab": {
          "base_uri": "https://localhost:8080/",
          "height": 339
        }
      },
      "execution_count": null,
      "outputs": [
        {
          "output_type": "stream",
          "name": "stdout",
          "text": [
            "Recording episode, timestep 17...\n"
          ]
        },
        {
          "output_type": "display_data",
          "data": {
            "text/html": [
              "<video alt=\"/content/results/record.mp4\" autoplay loop controls style=\"height:300px\">\n",
              "                        <source src=\"data:video/mp4;base64,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\" type=\"video/mp4\" />\n",
              "                   </video>"
            ],
            "text/plain": [
              "<IPython.core.display.HTML object>"
            ]
          },
          "metadata": {}
        }
      ]
    },
    {
      "cell_type": "code",
      "source": [
        "#######################################################################\n",
        "# Copyright (C)                                                       #\n",
        "# 2017-2018 Shangtong Zhang(zhangshangtong.cpp@gmail.com)             #\n",
        "# Permission given to modify the code as long as you keep this        #\n",
        "# declaration at the top                                              #\n",
        "#######################################################################\n",
        "\n",
        "# import numpy as np\n",
        "# import matplotlib\n",
        "# matplotlib.use('Agg')\n",
        "# import matplotlib.pyplot as plt\n",
        "# from math import floor\n",
        "# from tqdm import tqdm\n",
        "\n",
        "\n",
        "# all possible actions\n",
        "ACTIONS = range(4)\n",
        "\n",
        "# discount is always 1.0 in these experiments\n",
        "DISCOUNT = 0.99\n",
        "\n",
        "# use optimistic initial value, so it's ok to set epsilon to 0\n",
        "EPSILON = 0.01\n",
        "\n",
        "# maximum steps per episode\n",
        "STEP_LIMIT = 5000\n",
        "\n",
        "\n",
        "# get action at @position and @velocity based on epsilon greedy policy and @valueFunction  #########################    use our own get_action. modified it, may work as intended\n",
        "def get_action(observation, valueFunction):\n",
        "    if np.random.binomial(1, EPSILON) == 1:\n",
        "        return np.random.choice(ACTIONS)\n",
        "    values = []\n",
        "    for action in ACTIONS:\n",
        "        values.append(valueFunction.value(observation))  \n",
        "    maxi = np.max(values)\n",
        "    bestactions = np.where(values==maxi,1.0,0.0)\n",
        "    for i in range(len(ACTIONS)):\n",
        "      bestactions[i] = bestactions[i]*np.random.uniform()\n",
        "    action = np.argmax(bestactions)\n",
        "    return action\n",
        "\n",
        "\n",
        "\n",
        "# replacing trace update rule\n",
        "# @trace: old trace (will be modified)\n",
        "# @activeTiles: current active tile indices\n",
        "# @lam: lambda\n",
        "# @return: new trace for convenience\n",
        "def replacing_trace(trace, activeTiles, lam):\n",
        "    active = (torch.arange(len(trace)).to(device)[None,...] == activeTiles.flatten()[...,None]).any(0)\n",
        "    trace[active] = 1\n",
        "    trace[~active] *= lam * DISCOUNT\n",
        "    return trace\n",
        "\n",
        "\n",
        "\n",
        "# wrapper class for Sarsa(lambda)\n",
        "class Sarsa:\n",
        "    # In this example I use the tiling software instead of implementing standard tiling by myself\n",
        "    # One important thing is that tiling is only a map from (state, action) to a series of indices\n",
        "    # It doesn't matter whether the indices have meaning, only if this map satisfy some property\n",
        "    # View the following webpage for more information\n",
        "    # http://incompleteideas.net/sutton/tiles/tiles3.html\n",
        "    # @maxSize: the maximum # of indices\n",
        "    #the hashing is a lfa?\n",
        "    def __init__(self, step_size, lam, trace_update=replacing_trace, max_size=28672, initial_weights=0):\n",
        "        self.max_size = max_size\n",
        "        self.trace_update = trace_update\n",
        "        self.lam = lam\n",
        "\n",
        "        # divide step size equally to each tiling\n",
        "        self.step_size = step_size/10\n",
        "\n",
        "        # weight for each tile\n",
        "        if initial_weights == 0:\n",
        "          self.weights =torch.zeros(max_size).to(device) #max size is the number of features?\n",
        "        else:\n",
        "          self.weights = initial_weights.to(device)\n",
        "\n",
        "        # trace for each tile\n",
        "        self.trace = torch.zeros(max_size).to(device)\n",
        "\n",
        "\n",
        "\n",
        "    # estimate the value of given state and action\n",
        "    def value(self, observation):\n",
        "        active_tiles = np.nonzero(observation)\n",
        "        return self.weights[active_tiles].sum()\n",
        "\n",
        "    # learn with given state, action and target\n",
        "    def learn(self, observation, target):\n",
        "        active_tiles = np.nonzero(observation)\n",
        "        estimation = self.weights[active_tiles].sum()\n",
        "        delta = target - estimation\n",
        "        #print('estimation array: ' + str(self.weights[active_tiles]))\n",
        "        # print('estimation: ' + str(self.weights[active_tiles].sum()))\n",
        "        if self.trace_update == replacing_trace:\n",
        "            self.trace_update(self.trace, active_tiles, self.lam)\n",
        "        else:\n",
        "            raise Exception('Unexpected Trace Type')\n",
        "        self.weights += self.step_size * delta * self.trace\n",
        "        # print('delta: ' + str(delta))\n",
        "        # print('weights: ' +  str(self.weights))\n",
        "\n",
        "\n",
        "# play Mountain Car for one episode based on given method `evaluator`\n",
        "# return: total steps in this episode\n",
        "def play(evaluator, env):\n",
        "\n",
        "    action = random.choice(ACTIONS)\n",
        "    steps = 0\n",
        "    while True:\n",
        "        next_observation, reward, done, info = env.step(action)\n",
        "        next_action = get_action(next_observation, evaluator)    #########################    use our own get_action  ??? modified it, may work as intented\n",
        "        steps += 1\n",
        "        target = reward + DISCOUNT * evaluator.value(next_observation)          ############# use our own value function ??? modified it, may work as intented\n",
        "        evaluator.learn(observation, target)\n",
        "        observation = next_observation\n",
        "        action = next_action\n",
        "        if done:\n",
        "            break\n",
        "        if steps >= STEP_LIMIT:\n",
        "            print('Step Limit Exceeded!')\n",
        "            break\n",
        "    return steps\n",
        "\n",
        "class BaseAgent:\n",
        "  \"\"\" The base agent class function.\n",
        "  \"\"\"\n",
        "  def __init__(self, nb_features=28672):\n",
        "    #nothing for now\n",
        "    self.gamma = 1\n",
        "    self.features = nb_features\n",
        "    self.rhos = torch.ones(self.features).to(device) #stores the rho_i values\n",
        "\n",
        "\n",
        "  def takeAction(self, t):\n",
        "    phis = [[0,1,0],[0,1,0],[0,1,0],[1,0,1]]\n",
        "    return phis[t]\n",
        "\n",
        "\n",
        "  def updateRho_i(self, counts, t):\n",
        "    M = self.features\n",
        "    self.rhos = (counts+1.5)/(t+1)\n",
        "    return 0\n",
        "\n",
        "\n",
        "  def PHI_EB(self, evaluator, env, beta=0.05, t_end=200):\n",
        "    t = 0\n",
        "    M = self.features #number of features\n",
        "    counts = torch.zeros(M).to(device)\n",
        "    states = torch.zeros(t_end,M).to(device) #stores the previous phis for all timesteps\n",
        "\n",
        "    action = 1 #starting the game for the agent on the first game\n",
        "    old_phi = env._observe()\n",
        "    print('starting iterations')\n",
        "    print('rhos: ' + str(self.rhos))\n",
        "    while t < t_end:\n",
        "    #   print(\"Iteration #{}\".format(t))\n",
        "      #observe phi(s), reward\n",
        "    #   phi, reward, done, info = obs.clone(), 0, False, None\n",
        "      phi, reward, done, info = env.step(action)\n",
        "    #   print(phi.shape)\n",
        "    #   print('--------------------------------------------------------------')\n",
        "    #   print('took action: ', env.action_space[action])\n",
        "      next_action = get_action(phi, evaluator)\n",
        "    #   print('phi: ' + str(phi))\n",
        "      \n",
        "      #compute rho_t(phi) (feature visit-density)\n",
        "      if t > 0:\n",
        "        counts = (phi==states[0:t]).sum(0)\n",
        "        # print(counts)\n",
        "        self.rhos = (counts+0.5)/(t+1)\n",
        "        # print('rhos: ' + str(self.rhos))\n",
        "        rho_t = torch.prod(self.rhos)\n",
        "      else:\n",
        "        rho_t = 0.5**M\n",
        "    #   print('rho_t ' + str(rho_t))\n",
        "      #update all rho_i with observed phi\n",
        "      states[t] = phi\n",
        "      self.updateRho_i(counts, t+1)\n",
        "    #   print('min rho_i_t: ' + str(min(self.rhos)))\n",
        "      \n",
        "      #compute rho_t+1(phi)\n",
        "      new_rho_t = 1\n",
        "      # THIS IS A BOTTLENECK (tested in CPU mode: 74ms -> 178ms)\n",
        "      for i in range(M):\n",
        "        new_rho_t = new_rho_t*self.rhos[i]\n",
        "      if new_rho_t <= 1e-323: #this is to avoid division by zero, might need to be tweaked\n",
        "        new_rho_t = 1e-323\n",
        "    #   print('new_rho_t ' + str(new_rho_t))\n",
        "\n",
        "      #compute Nhat_t(s)\n",
        "      Nhat_t = rho_t*(1-new_rho_t)/(new_rho_t-rho_t)\n",
        "    #   print('Nhat_t: ',   Nhat_t)\n",
        "      if Nhat_t <= 1e-323: #this is to avoid division by zero again, might need to be tweaked\n",
        "        Nhat_t = torch.tensor([1e-323]).to(device)\n",
        "\n",
        "      #compute R(s,a) (empirical reward)\n",
        "      explorationBonus = beta/torch.sqrt(Nhat_t)\n",
        "      if torch.isnan(explorationBonus) or explorationBonus >= 1e3:\n",
        "        explorationBonus = 1e3\n",
        "\n",
        "      reward = reward + explorationBonus\n",
        "    #   print('reward: ',reward)\n",
        "\n",
        "    #   print('state value: ' + str(evaluator.value(phi)))\n",
        "      #pass phi(s) and reward to RL algo to update theta_t\n",
        "      target = reward + self.gamma * evaluator.value(phi)          ############# use our own value function ??? modified it, may work as intented\n",
        "      # THIS IS A BOTTLENECK (tested in CPU mode: 190ms -> 207ms)\n",
        "      evaluator.learn(old_phi, target)\n",
        "\n",
        "      if done:\n",
        "        #break\n",
        "        env.reset()\n",
        "        action = 1\n",
        "        old_phi = env._observe()\n",
        "        print('episode ended on step ', t, 'starting a new one')\n",
        "      else:\n",
        "        old_phi = phi\n",
        "        action = next_action\n",
        "      t += 1\n",
        "      continue\n",
        "\n",
        "\n",
        "    return evaluator.weights\n",
        "\n",
        "# from ale_py.roms import Breakout\n",
        "# import timeit\n",
        "# env = EnvALE(Breakout, feature_type='Basic')\n",
        "# print(env.action_space)\n",
        "# alpha = 0.5\n",
        "# lam = 0.9\n",
        "# #we can upload previous weights as as tensor, or initialize at 0\n",
        "# previous_weights = 0\n",
        "# obs = torch.randint(0,2,(28672,), dtype=bool).to(device)\n",
        "# t_end = 10\n",
        "\n",
        "# evaluator = Sarsa(alpha, lam, replacing_trace, 28672, previous_weights)\n",
        "# agent = BaseAgent()\n",
        "# env.reset(do_record=False)\n",
        "# start_time = timeit.default_timer()\n",
        "# weights = agent.PHI_EB(evaluator, env, beta=0.05, t_end=t_end)\n",
        "# print(f'{1000*(timeit.default_timer()-start_time)/t_end}ms per timestep')"
      ],
      "metadata": {
        "id": "6OmpMlK6HrOl"
      },
      "execution_count": null,
      "outputs": []
    }
  ]
}